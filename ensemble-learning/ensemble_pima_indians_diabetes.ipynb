{
  "nbformat": 4,
  "nbformat_minor": 0,
  "metadata": {
    "colab": {
      "name": "ensemble-pima-indians-diabetes.ipynb",
      "provenance": [],
      "collapsed_sections": [
        "Bo7ZUZ5lv24p",
        "ZuAOIakeerph",
        "r37LglScmLqD"
      ],
      "authorship_tag": "ABX9TyOJUDxnOsaA1OWbqnJ7w7kM",
      "include_colab_link": true
    },
    "kernelspec": {
      "name": "python3",
      "display_name": "Python 3"
    },
    "language_info": {
      "name": "python"
    }
  },
  "cells": [
    {
      "cell_type": "markdown",
      "metadata": {
        "id": "view-in-github",
        "colab_type": "text"
      },
      "source": [
        "<a href=\"https://colab.research.google.com/github/anaustinbeing/machine-learning/blob/main/ensemble-learning/ensemble_pima_indians_diabetes.ipynb\" target=\"_parent\"><img src=\"https://colab.research.google.com/assets/colab-badge.svg\" alt=\"Open In Colab\"/></a>"
      ]
    },
    {
      "cell_type": "code",
      "execution_count": 100,
      "metadata": {
        "id": "QeSZZOGnZZef"
      },
      "outputs": [],
      "source": [
        "import pandas as pd\n",
        "import numpy as np\n",
        "from sklearn.linear_model import LogisticRegression\n",
        "from sklearn.svm import SVC\n",
        "from sklearn.tree import DecisionTreeClassifier\n",
        "from sklearn.ensemble import RandomForestClassifier, ExtraTreesClassifier\n",
        "from sklearn.neural_network import MLPClassifier\n",
        "from sklearn.ensemble import VotingClassifier\n",
        "from sklearn.model_selection import cross_val_score\n",
        "from sklearn.model_selection import RandomizedSearchCV\n",
        "from sklearn.metrics import classification_report"
      ]
    },
    {
      "cell_type": "markdown",
      "source": [
        "## Load & check the data"
      ],
      "metadata": {
        "id": "ddH-YTfgvutT"
      }
    },
    {
      "cell_type": "code",
      "source": [
        "df_austin = pd.read_csv('pima-indians-diabetes.csv', names=['preg',\n",
        "'plas',\n",
        "'pres',\n",
        "'skin',\n",
        "'test',\n",
        "'mass',\n",
        "'pedi',\n",
        "'age',\n",
        "'class'])"
      ],
      "metadata": {
        "id": "3VwMeJehZ2SP"
      },
      "execution_count": 101,
      "outputs": []
    },
    {
      "cell_type": "code",
      "source": [
        "df_austin.head(3)"
      ],
      "metadata": {
        "colab": {
          "base_uri": "https://localhost:8080/",
          "height": 143
        },
        "id": "m9FuQxmCaEy1",
        "outputId": "c8c4b71e-3f7b-451e-961d-f5e0929a39bb"
      },
      "execution_count": 102,
      "outputs": [
        {
          "output_type": "execute_result",
          "data": {
            "text/plain": [
              "   preg  plas  pres  skin  test  mass   pedi  age  class\n",
              "0     6   148    72    35     0  33.6  0.627   50      1\n",
              "1     1    85    66    29     0  26.6  0.351   31      0\n",
              "2     8   183    64     0     0  23.3  0.672   32      1"
            ],
            "text/html": [
              "\n",
              "  <div id=\"df-cf6edb93-e8fe-4273-973c-edbc4a8e6a02\">\n",
              "    <div class=\"colab-df-container\">\n",
              "      <div>\n",
              "<style scoped>\n",
              "    .dataframe tbody tr th:only-of-type {\n",
              "        vertical-align: middle;\n",
              "    }\n",
              "\n",
              "    .dataframe tbody tr th {\n",
              "        vertical-align: top;\n",
              "    }\n",
              "\n",
              "    .dataframe thead th {\n",
              "        text-align: right;\n",
              "    }\n",
              "</style>\n",
              "<table border=\"1\" class=\"dataframe\">\n",
              "  <thead>\n",
              "    <tr style=\"text-align: right;\">\n",
              "      <th></th>\n",
              "      <th>preg</th>\n",
              "      <th>plas</th>\n",
              "      <th>pres</th>\n",
              "      <th>skin</th>\n",
              "      <th>test</th>\n",
              "      <th>mass</th>\n",
              "      <th>pedi</th>\n",
              "      <th>age</th>\n",
              "      <th>class</th>\n",
              "    </tr>\n",
              "  </thead>\n",
              "  <tbody>\n",
              "    <tr>\n",
              "      <th>0</th>\n",
              "      <td>6</td>\n",
              "      <td>148</td>\n",
              "      <td>72</td>\n",
              "      <td>35</td>\n",
              "      <td>0</td>\n",
              "      <td>33.6</td>\n",
              "      <td>0.627</td>\n",
              "      <td>50</td>\n",
              "      <td>1</td>\n",
              "    </tr>\n",
              "    <tr>\n",
              "      <th>1</th>\n",
              "      <td>1</td>\n",
              "      <td>85</td>\n",
              "      <td>66</td>\n",
              "      <td>29</td>\n",
              "      <td>0</td>\n",
              "      <td>26.6</td>\n",
              "      <td>0.351</td>\n",
              "      <td>31</td>\n",
              "      <td>0</td>\n",
              "    </tr>\n",
              "    <tr>\n",
              "      <th>2</th>\n",
              "      <td>8</td>\n",
              "      <td>183</td>\n",
              "      <td>64</td>\n",
              "      <td>0</td>\n",
              "      <td>0</td>\n",
              "      <td>23.3</td>\n",
              "      <td>0.672</td>\n",
              "      <td>32</td>\n",
              "      <td>1</td>\n",
              "    </tr>\n",
              "  </tbody>\n",
              "</table>\n",
              "</div>\n",
              "      <button class=\"colab-df-convert\" onclick=\"convertToInteractive('df-cf6edb93-e8fe-4273-973c-edbc4a8e6a02')\"\n",
              "              title=\"Convert this dataframe to an interactive table.\"\n",
              "              style=\"display:none;\">\n",
              "        \n",
              "  <svg xmlns=\"http://www.w3.org/2000/svg\" height=\"24px\"viewBox=\"0 0 24 24\"\n",
              "       width=\"24px\">\n",
              "    <path d=\"M0 0h24v24H0V0z\" fill=\"none\"/>\n",
              "    <path d=\"M18.56 5.44l.94 2.06.94-2.06 2.06-.94-2.06-.94-.94-2.06-.94 2.06-2.06.94zm-11 1L8.5 8.5l.94-2.06 2.06-.94-2.06-.94L8.5 2.5l-.94 2.06-2.06.94zm10 10l.94 2.06.94-2.06 2.06-.94-2.06-.94-.94-2.06-.94 2.06-2.06.94z\"/><path d=\"M17.41 7.96l-1.37-1.37c-.4-.4-.92-.59-1.43-.59-.52 0-1.04.2-1.43.59L10.3 9.45l-7.72 7.72c-.78.78-.78 2.05 0 2.83L4 21.41c.39.39.9.59 1.41.59.51 0 1.02-.2 1.41-.59l7.78-7.78 2.81-2.81c.8-.78.8-2.07 0-2.86zM5.41 20L4 18.59l7.72-7.72 1.47 1.35L5.41 20z\"/>\n",
              "  </svg>\n",
              "      </button>\n",
              "      \n",
              "  <style>\n",
              "    .colab-df-container {\n",
              "      display:flex;\n",
              "      flex-wrap:wrap;\n",
              "      gap: 12px;\n",
              "    }\n",
              "\n",
              "    .colab-df-convert {\n",
              "      background-color: #E8F0FE;\n",
              "      border: none;\n",
              "      border-radius: 50%;\n",
              "      cursor: pointer;\n",
              "      display: none;\n",
              "      fill: #1967D2;\n",
              "      height: 32px;\n",
              "      padding: 0 0 0 0;\n",
              "      width: 32px;\n",
              "    }\n",
              "\n",
              "    .colab-df-convert:hover {\n",
              "      background-color: #E2EBFA;\n",
              "      box-shadow: 0px 1px 2px rgba(60, 64, 67, 0.3), 0px 1px 3px 1px rgba(60, 64, 67, 0.15);\n",
              "      fill: #174EA6;\n",
              "    }\n",
              "\n",
              "    [theme=dark] .colab-df-convert {\n",
              "      background-color: #3B4455;\n",
              "      fill: #D2E3FC;\n",
              "    }\n",
              "\n",
              "    [theme=dark] .colab-df-convert:hover {\n",
              "      background-color: #434B5C;\n",
              "      box-shadow: 0px 1px 3px 1px rgba(0, 0, 0, 0.15);\n",
              "      filter: drop-shadow(0px 1px 2px rgba(0, 0, 0, 0.3));\n",
              "      fill: #FFFFFF;\n",
              "    }\n",
              "  </style>\n",
              "\n",
              "      <script>\n",
              "        const buttonEl =\n",
              "          document.querySelector('#df-cf6edb93-e8fe-4273-973c-edbc4a8e6a02 button.colab-df-convert');\n",
              "        buttonEl.style.display =\n",
              "          google.colab.kernel.accessAllowed ? 'block' : 'none';\n",
              "\n",
              "        async function convertToInteractive(key) {\n",
              "          const element = document.querySelector('#df-cf6edb93-e8fe-4273-973c-edbc4a8e6a02');\n",
              "          const dataTable =\n",
              "            await google.colab.kernel.invokeFunction('convertToInteractive',\n",
              "                                                     [key], {});\n",
              "          if (!dataTable) return;\n",
              "\n",
              "          const docLinkHtml = 'Like what you see? Visit the ' +\n",
              "            '<a target=\"_blank\" href=https://colab.research.google.com/notebooks/data_table.ipynb>data table notebook</a>'\n",
              "            + ' to learn more about interactive tables.';\n",
              "          element.innerHTML = '';\n",
              "          dataTable['output_type'] = 'display_data';\n",
              "          await google.colab.output.renderOutput(dataTable, element);\n",
              "          const docLink = document.createElement('div');\n",
              "          docLink.innerHTML = docLinkHtml;\n",
              "          element.appendChild(docLink);\n",
              "        }\n",
              "      </script>\n",
              "    </div>\n",
              "  </div>\n",
              "  "
            ]
          },
          "metadata": {},
          "execution_count": 102
        }
      ]
    },
    {
      "cell_type": "code",
      "source": [
        "df_austin.info()"
      ],
      "metadata": {
        "colab": {
          "base_uri": "https://localhost:8080/"
        },
        "id": "CGYDD4QVbmDd",
        "outputId": "890c82f4-4ff7-447d-cfa4-09c55d119dd4"
      },
      "execution_count": 103,
      "outputs": [
        {
          "output_type": "stream",
          "name": "stdout",
          "text": [
            "<class 'pandas.core.frame.DataFrame'>\n",
            "RangeIndex: 768 entries, 0 to 767\n",
            "Data columns (total 9 columns):\n",
            " #   Column  Non-Null Count  Dtype  \n",
            "---  ------  --------------  -----  \n",
            " 0   preg    768 non-null    int64  \n",
            " 1   plas    768 non-null    int64  \n",
            " 2   pres    768 non-null    int64  \n",
            " 3   skin    768 non-null    int64  \n",
            " 4   test    768 non-null    int64  \n",
            " 5   mass    768 non-null    float64\n",
            " 6   pedi    768 non-null    float64\n",
            " 7   age     768 non-null    int64  \n",
            " 8   class   768 non-null    int64  \n",
            "dtypes: float64(2), int64(7)\n",
            "memory usage: 54.1 KB\n"
          ]
        }
      ]
    },
    {
      "cell_type": "code",
      "source": [
        "df_austin.isnull().sum()"
      ],
      "metadata": {
        "colab": {
          "base_uri": "https://localhost:8080/"
        },
        "id": "5HM5SuQ1bofc",
        "outputId": "195eaec0-892a-4ecb-d364-bdb0e787b99b"
      },
      "execution_count": 104,
      "outputs": [
        {
          "output_type": "execute_result",
          "data": {
            "text/plain": [
              "preg     0\n",
              "plas     0\n",
              "pres     0\n",
              "skin     0\n",
              "test     0\n",
              "mass     0\n",
              "pedi     0\n",
              "age      0\n",
              "class    0\n",
              "dtype: int64"
            ]
          },
          "metadata": {},
          "execution_count": 104
        }
      ]
    },
    {
      "cell_type": "code",
      "source": [
        "df_austin.mean()"
      ],
      "metadata": {
        "colab": {
          "base_uri": "https://localhost:8080/"
        },
        "id": "x6UXn1czbsMr",
        "outputId": "7f65e7bb-424a-4004-8d22-5d74cdbd062a"
      },
      "execution_count": 105,
      "outputs": [
        {
          "output_type": "execute_result",
          "data": {
            "text/plain": [
              "preg       3.845052\n",
              "plas     120.894531\n",
              "pres      69.105469\n",
              "skin      20.536458\n",
              "test      79.799479\n",
              "mass      31.992578\n",
              "pedi       0.471876\n",
              "age       33.240885\n",
              "class      0.348958\n",
              "dtype: float64"
            ]
          },
          "metadata": {},
          "execution_count": 105
        }
      ]
    },
    {
      "cell_type": "code",
      "source": [
        "df_austin.median()"
      ],
      "metadata": {
        "colab": {
          "base_uri": "https://localhost:8080/"
        },
        "id": "yN-jAYztbvzD",
        "outputId": "7cd62b36-28e7-4983-df87-2c6921bd4c54"
      },
      "execution_count": 106,
      "outputs": [
        {
          "output_type": "execute_result",
          "data": {
            "text/plain": [
              "preg       3.0000\n",
              "plas     117.0000\n",
              "pres      72.0000\n",
              "skin      23.0000\n",
              "test      30.5000\n",
              "mass      32.0000\n",
              "pedi       0.3725\n",
              "age       29.0000\n",
              "class      0.0000\n",
              "dtype: float64"
            ]
          },
          "metadata": {},
          "execution_count": 106
        }
      ]
    },
    {
      "cell_type": "code",
      "source": [
        "df_austin.min()"
      ],
      "metadata": {
        "colab": {
          "base_uri": "https://localhost:8080/"
        },
        "id": "qzW0meTebyGC",
        "outputId": "72ca3a3e-2aa6-431e-88b6-23b7d62f1c58"
      },
      "execution_count": 107,
      "outputs": [
        {
          "output_type": "execute_result",
          "data": {
            "text/plain": [
              "preg      0.000\n",
              "plas      0.000\n",
              "pres      0.000\n",
              "skin      0.000\n",
              "test      0.000\n",
              "mass      0.000\n",
              "pedi      0.078\n",
              "age      21.000\n",
              "class     0.000\n",
              "dtype: float64"
            ]
          },
          "metadata": {},
          "execution_count": 107
        }
      ]
    },
    {
      "cell_type": "code",
      "source": [
        "df_austin.max()"
      ],
      "metadata": {
        "colab": {
          "base_uri": "https://localhost:8080/"
        },
        "id": "f8RBB0scb4FM",
        "outputId": "ffae0ca6-534d-411f-aa2c-94602607d452"
      },
      "execution_count": 108,
      "outputs": [
        {
          "output_type": "execute_result",
          "data": {
            "text/plain": [
              "preg      17.00\n",
              "plas     199.00\n",
              "pres     122.00\n",
              "skin      99.00\n",
              "test     846.00\n",
              "mass      67.10\n",
              "pedi       2.42\n",
              "age       81.00\n",
              "class      1.00\n",
              "dtype: float64"
            ]
          },
          "metadata": {},
          "execution_count": 108
        }
      ]
    },
    {
      "cell_type": "code",
      "source": [
        "df_austin.count()"
      ],
      "metadata": {
        "colab": {
          "base_uri": "https://localhost:8080/"
        },
        "id": "xoFwGVDCb6KM",
        "outputId": "67eaa18e-f88f-4b99-8084-de6fc8a7710b"
      },
      "execution_count": 109,
      "outputs": [
        {
          "output_type": "execute_result",
          "data": {
            "text/plain": [
              "preg     768\n",
              "plas     768\n",
              "pres     768\n",
              "skin     768\n",
              "test     768\n",
              "mass     768\n",
              "pedi     768\n",
              "age      768\n",
              "class    768\n",
              "dtype: int64"
            ]
          },
          "metadata": {},
          "execution_count": 109
        }
      ]
    },
    {
      "cell_type": "code",
      "source": [
        "df_austin.shape"
      ],
      "metadata": {
        "colab": {
          "base_uri": "https://localhost:8080/"
        },
        "id": "j8pWnsFub8Gc",
        "outputId": "58ad7090-4b29-4dc5-f634-729494903e02"
      },
      "execution_count": 110,
      "outputs": [
        {
          "output_type": "execute_result",
          "data": {
            "text/plain": [
              "(768, 9)"
            ]
          },
          "metadata": {},
          "execution_count": 110
        }
      ]
    },
    {
      "cell_type": "markdown",
      "source": [
        "Finding the number of values of each target class:"
      ],
      "metadata": {
        "id": "REGUtIuAcG-J"
      }
    },
    {
      "cell_type": "code",
      "source": [
        "df_austin['class'].value_counts()"
      ],
      "metadata": {
        "colab": {
          "base_uri": "https://localhost:8080/"
        },
        "id": "L8f8AgKeb-PM",
        "outputId": "af1a569f-6461-40dc-cdc2-fe51fce4e32f"
      },
      "execution_count": 111,
      "outputs": [
        {
          "output_type": "execute_result",
          "data": {
            "text/plain": [
              "0    500\n",
              "1    268\n",
              "Name: class, dtype: int64"
            ]
          },
          "metadata": {},
          "execution_count": 111
        }
      ]
    },
    {
      "cell_type": "markdown",
      "source": [
        "There are 500 values for the class 0 and 268 values for the class 1. This is an unbalanced dataset, and we could use balancing techinques like SMOTE to balance the dataset. Balancing is not done here because it was not asked in the question."
      ],
      "metadata": {
        "id": "AzeO8CNLcNt0"
      }
    },
    {
      "cell_type": "markdown",
      "source": [
        "## Pre-process and prepare the data for machine learning"
      ],
      "metadata": {
        "id": "Bo7ZUZ5lv24p"
      }
    },
    {
      "cell_type": "code",
      "source": [
        "from sklearn.pipeline import Pipeline\n",
        "from sklearn.preprocessing import StandardScaler\n",
        "\n",
        "transformer_austin = Pipeline([\n",
        "        ('std_scaler', StandardScaler()),\n",
        "])"
      ],
      "metadata": {
        "id": "5OqCHkDLcMiO"
      },
      "execution_count": 112,
      "outputs": []
    },
    {
      "cell_type": "code",
      "source": [
        "features_austin = df_austin.drop('class', axis=1)\n",
        "class_austin = df_austin['class']"
      ],
      "metadata": {
        "id": "1bSGO2LXcFGj"
      },
      "execution_count": 113,
      "outputs": []
    },
    {
      "cell_type": "code",
      "source": [
        "from sklearn.model_selection import train_test_split\n",
        "\n",
        "X_train_austin, X_test_austin, y_train_austin, y_test_austin = train_test_split(features_austin, class_austin, test_size=0.3, random_state=42)\n",
        "print('Shapes of data:')\n",
        "print(X_train_austin.shape, y_train_austin.shape)\n",
        "print(X_test_austin.shape, y_test_austin.shape)"
      ],
      "metadata": {
        "colab": {
          "base_uri": "https://localhost:8080/"
        },
        "id": "cK4wUkOybzqc",
        "outputId": "a5e7a3e3-e4bc-4945-c90b-c9b116d45bad"
      },
      "execution_count": 114,
      "outputs": [
        {
          "output_type": "stream",
          "name": "stdout",
          "text": [
            "Shapes of data:\n",
            "(537, 8) (537,)\n",
            "(231, 8) (231,)\n"
          ]
        }
      ]
    },
    {
      "cell_type": "code",
      "source": [
        "X_train_austin = transformer_austin.fit_transform(X_train_austin)\n",
        "X_test_austin = transformer_austin.fit_transform(X_test_austin)"
      ],
      "metadata": {
        "id": "KDL33YmXePPf"
      },
      "execution_count": 115,
      "outputs": []
    },
    {
      "cell_type": "markdown",
      "source": [
        "## Hard Voting"
      ],
      "metadata": {
        "id": "ZuAOIakeerph"
      }
    },
    {
      "cell_type": "code",
      "source": [
        "lr_austin = LogisticRegression(max_iter=1400)\n",
        "rf_austin = RandomForestClassifier()\n",
        "svc_austin = SVC()\n",
        "dt_austin = DecisionTreeClassifier(criterion='entropy', max_depth=42)\n",
        "et_austin = ExtraTreesClassifier()"
      ],
      "metadata": {
        "id": "OBidlHsIeo0l"
      },
      "execution_count": 116,
      "outputs": []
    },
    {
      "cell_type": "code",
      "source": [
        "models = [('lr_austin', lr_austin),\n",
        "          ('rf_austin', rf_austin),\n",
        "          ('svc_austin', svc_austin),\n",
        "          ('dt_austin', dt_austin),\n",
        "          ('et_austin', et_austin)]\n",
        "hard_voting_classifier = VotingClassifier(estimators=models, voting='hard')\n",
        "hard_voting_classifier.fit(X_train_austin, y_train_austin)\n",
        "\n",
        "y_test_austin_predict_1 = hard_voting_classifier.predict(X_test_austin[0].reshape(1, -1))\n",
        "y_test_austin_predict_2 = hard_voting_classifier.predict(X_test_austin[1].reshape(1, -1))\n",
        "y_test_austin_predict_3 = hard_voting_classifier.predict(X_test_austin[2].reshape(1, -1))\n",
        "\n",
        "print('Prediction for the first instance of test data: ', y_test_austin_predict_1)\n",
        "print('Prediction for the second instance of test data: ', y_test_austin_predict_2)\n",
        "print('Prediction for the third instance of test data: ', y_test_austin_predict_3)"
      ],
      "metadata": {
        "colab": {
          "base_uri": "https://localhost:8080/"
        },
        "id": "vjBJfLeogEG8",
        "outputId": "a208ab3e-b6ad-48d1-8807-7e4ba4688c17"
      },
      "execution_count": 117,
      "outputs": [
        {
          "output_type": "stream",
          "name": "stdout",
          "text": [
            "Prediction for the first instance of test data:  [0]\n",
            "Prediction for the second instance of test data:  [0]\n",
            "Prediction for the third instance of test data:  [0]\n"
          ]
        }
      ]
    },
    {
      "cell_type": "code",
      "source": [
        "for name, model in models + [('hard_voting', hard_voting_classifier)]:\n",
        "  print('Predictions using ', name)\n",
        "  model.fit(X_train_austin, y_train_austin)\n",
        "  y_test_austin_predict = model.predict(X_test_austin)\n",
        "  predict_df = pd.DataFrame(zip(y_test_austin, y_test_austin_predict), columns=['Actual', 'Predicted'])\n",
        "  print(predict_df)"
      ],
      "metadata": {
        "colab": {
          "base_uri": "https://localhost:8080/"
        },
        "id": "gDRzLMbzjiIY",
        "outputId": "0b995ff2-8501-4073-e400-fb2746fcab1e"
      },
      "execution_count": 118,
      "outputs": [
        {
          "output_type": "stream",
          "name": "stdout",
          "text": [
            "Predictions using  lr_austin\n",
            "     Actual  Predicted\n",
            "0         0          0\n",
            "1         0          0\n",
            "2         0          0\n",
            "3         0          0\n",
            "4         0          0\n",
            "..      ...        ...\n",
            "226       1          0\n",
            "227       1          0\n",
            "228       0          0\n",
            "229       0          0\n",
            "230       0          0\n",
            "\n",
            "[231 rows x 2 columns]\n",
            "Predictions using  rf_austin\n",
            "     Actual  Predicted\n",
            "0         0          0\n",
            "1         0          0\n",
            "2         0          0\n",
            "3         0          0\n",
            "4         0          1\n",
            "..      ...        ...\n",
            "226       1          0\n",
            "227       1          0\n",
            "228       0          0\n",
            "229       0          0\n",
            "230       0          0\n",
            "\n",
            "[231 rows x 2 columns]\n",
            "Predictions using  svc_austin\n",
            "     Actual  Predicted\n",
            "0         0          0\n",
            "1         0          0\n",
            "2         0          0\n",
            "3         0          0\n",
            "4         0          1\n",
            "..      ...        ...\n",
            "226       1          0\n",
            "227       1          0\n",
            "228       0          0\n",
            "229       0          0\n",
            "230       0          0\n",
            "\n",
            "[231 rows x 2 columns]\n",
            "Predictions using  dt_austin\n",
            "     Actual  Predicted\n",
            "0         0          1\n",
            "1         0          1\n",
            "2         0          0\n",
            "3         0          0\n",
            "4         0          0\n",
            "..      ...        ...\n",
            "226       1          0\n",
            "227       1          0\n",
            "228       0          1\n",
            "229       0          0\n",
            "230       0          0\n",
            "\n",
            "[231 rows x 2 columns]\n",
            "Predictions using  et_austin\n",
            "     Actual  Predicted\n",
            "0         0          0\n",
            "1         0          0\n",
            "2         0          0\n",
            "3         0          0\n",
            "4         0          1\n",
            "..      ...        ...\n",
            "226       1          0\n",
            "227       1          0\n",
            "228       0          0\n",
            "229       0          0\n",
            "230       0          0\n",
            "\n",
            "[231 rows x 2 columns]\n",
            "Predictions using  hard_voting\n",
            "     Actual  Predicted\n",
            "0         0          0\n",
            "1         0          0\n",
            "2         0          0\n",
            "3         0          0\n",
            "4         0          0\n",
            "..      ...        ...\n",
            "226       1          0\n",
            "227       1          0\n",
            "228       0          0\n",
            "229       0          0\n",
            "230       0          0\n",
            "\n",
            "[231 rows x 2 columns]\n"
          ]
        }
      ]
    },
    {
      "cell_type": "markdown",
      "source": [
        "## Soft Voting"
      ],
      "metadata": {
        "id": "r37LglScmLqD"
      }
    },
    {
      "cell_type": "code",
      "source": [
        "lr_austin = LogisticRegression(max_iter=1400)\n",
        "rf_austin = RandomForestClassifier()\n",
        "svc_austin = SVC(probability=True)\n",
        "dt_austin = DecisionTreeClassifier(criterion='entropy', max_depth=42)\n",
        "et_austin = ExtraTreesClassifier()"
      ],
      "metadata": {
        "id": "FGp-68EOmrY1"
      },
      "execution_count": 119,
      "outputs": []
    },
    {
      "cell_type": "code",
      "source": [
        "models = [('lr_austin', lr_austin),\n",
        "          ('rf_austin', rf_austin),\n",
        "          ('svc_austin', svc_austin),\n",
        "          ('dt_austin', dt_austin),\n",
        "          ('et_austin', et_austin)]\n",
        "\n",
        "soft_voting_classifier = VotingClassifier(estimators=models, voting='soft')\n",
        "soft_voting_classifier.fit(X_train_austin, y_train_austin)\n",
        "\n",
        "y_test_austin_predict_1 = soft_voting_classifier.predict(X_test_austin[0].reshape(1, -1))\n",
        "y_test_austin_predict_2 = soft_voting_classifier.predict(X_test_austin[1].reshape(1, -1))\n",
        "y_test_austin_predict_3 = soft_voting_classifier.predict(X_test_austin[2].reshape(1, -1))\n",
        "\n",
        "print('Prediction for the first instance of test data: ', y_test_austin_predict_1)\n",
        "print('Prediction for the second instance of test data: ', y_test_austin_predict_2)\n",
        "print('Prediction for the third instance of test data: ', y_test_austin_predict_3)"
      ],
      "metadata": {
        "colab": {
          "base_uri": "https://localhost:8080/"
        },
        "id": "F4Rjz3UkmKy8",
        "outputId": "bfe7a15f-b344-44dc-d91b-dd8cd232b7b9"
      },
      "execution_count": 120,
      "outputs": [
        {
          "output_type": "stream",
          "name": "stdout",
          "text": [
            "Prediction for the first instance of test data:  [0]\n",
            "Prediction for the second instance of test data:  [0]\n",
            "Prediction for the third instance of test data:  [0]\n"
          ]
        }
      ]
    },
    {
      "cell_type": "code",
      "source": [
        "for name, model in models + [('soft_voting', soft_voting_classifier)]:\n",
        "  print('Predictions using ', name)\n",
        "  model.fit(X_train_austin, y_train_austin)\n",
        "  y_test_austin_predict = model.predict(X_test_austin)\n",
        "  predict_df = pd.DataFrame(zip(y_test_austin, y_test_austin_predict), columns=['Actual', 'Predicted'])\n",
        "  print(predict_df)"
      ],
      "metadata": {
        "colab": {
          "base_uri": "https://localhost:8080/"
        },
        "id": "YhEKHYHpm-mq",
        "outputId": "e1d76fe1-ff88-4317-a7bf-7f5d536cc1b6"
      },
      "execution_count": 121,
      "outputs": [
        {
          "output_type": "stream",
          "name": "stdout",
          "text": [
            "Predictions using  lr_austin\n",
            "     Actual  Predicted\n",
            "0         0          0\n",
            "1         0          0\n",
            "2         0          0\n",
            "3         0          0\n",
            "4         0          0\n",
            "..      ...        ...\n",
            "226       1          0\n",
            "227       1          0\n",
            "228       0          0\n",
            "229       0          0\n",
            "230       0          0\n",
            "\n",
            "[231 rows x 2 columns]\n",
            "Predictions using  rf_austin\n",
            "     Actual  Predicted\n",
            "0         0          0\n",
            "1         0          0\n",
            "2         0          0\n",
            "3         0          0\n",
            "4         0          0\n",
            "..      ...        ...\n",
            "226       1          0\n",
            "227       1          0\n",
            "228       0          0\n",
            "229       0          0\n",
            "230       0          0\n",
            "\n",
            "[231 rows x 2 columns]\n",
            "Predictions using  svc_austin\n",
            "     Actual  Predicted\n",
            "0         0          0\n",
            "1         0          0\n",
            "2         0          0\n",
            "3         0          0\n",
            "4         0          1\n",
            "..      ...        ...\n",
            "226       1          0\n",
            "227       1          0\n",
            "228       0          0\n",
            "229       0          0\n",
            "230       0          0\n",
            "\n",
            "[231 rows x 2 columns]\n",
            "Predictions using  dt_austin\n",
            "     Actual  Predicted\n",
            "0         0          1\n",
            "1         0          1\n",
            "2         0          0\n",
            "3         0          0\n",
            "4         0          0\n",
            "..      ...        ...\n",
            "226       1          0\n",
            "227       1          0\n",
            "228       0          0\n",
            "229       0          0\n",
            "230       0          0\n",
            "\n",
            "[231 rows x 2 columns]\n",
            "Predictions using  et_austin\n",
            "     Actual  Predicted\n",
            "0         0          0\n",
            "1         0          0\n",
            "2         0          0\n",
            "3         0          0\n",
            "4         0          1\n",
            "..      ...        ...\n",
            "226       1          0\n",
            "227       1          0\n",
            "228       0          0\n",
            "229       0          0\n",
            "230       0          0\n",
            "\n",
            "[231 rows x 2 columns]\n",
            "Predictions using  soft_voting\n",
            "     Actual  Predicted\n",
            "0         0          0\n",
            "1         0          0\n",
            "2         0          0\n",
            "3         0          0\n",
            "4         0          0\n",
            "..      ...        ...\n",
            "226       1          0\n",
            "227       1          0\n",
            "228       0          0\n",
            "229       0          0\n",
            "230       0          0\n",
            "\n",
            "[231 rows x 2 columns]\n"
          ]
        }
      ]
    },
    {
      "cell_type": "markdown",
      "source": [
        "## Random Forests & Extra Trees"
      ],
      "metadata": {
        "id": "OINi_HE_oOtx"
      }
    },
    {
      "cell_type": "code",
      "source": [
        "pipeline1_austin = Pipeline([\n",
        "                             ('transform', transformer_austin),\n",
        "                             ('et_classifier', et_austin)\n",
        "])\n",
        "pipeline2_austin = Pipeline([\n",
        "                             ('tranform', transformer_austin),\n",
        "                             ('dt_classifier', dt_austin)\n",
        "])\n",
        "pipeline1_austin.fit(features_austin, class_austin)\n",
        "pipeline2_austin.fit(features_austin, class_austin)"
      ],
      "metadata": {
        "colab": {
          "base_uri": "https://localhost:8080/"
        },
        "id": "TlQ6NoIunC9u",
        "outputId": "77cacf10-2735-4e01-cb56-5bb432155809"
      },
      "execution_count": 122,
      "outputs": [
        {
          "output_type": "execute_result",
          "data": {
            "text/plain": [
              "Pipeline(steps=[('tranform',\n",
              "                 Pipeline(steps=[('std_scaler', StandardScaler())])),\n",
              "                ('dt_classifier',\n",
              "                 DecisionTreeClassifier(criterion='entropy', max_depth=42))])"
            ]
          },
          "metadata": {},
          "execution_count": 122
        }
      ]
    },
    {
      "cell_type": "markdown",
      "source": [
        "10-fold cross validation on the two pipelines:"
      ],
      "metadata": {
        "id": "NLasc2XwpcYB"
      }
    },
    {
      "cell_type": "code",
      "source": [
        "for pipeline in [pipeline1_austin, pipeline2_austin]:\n",
        "  print('\\n10-fold cross validation on ', pipeline)\n",
        "  # Performing cross validation with cv=10\n",
        "  scores = cross_val_score(estimator=pipeline, X=features_austin, y=class_austin, cv=10)\n",
        "  print(\"Scores:\", scores)\n",
        "  print(\"Mean:\", scores.mean())\n",
        "  print(\"Standard deviation:\", scores.std())"
      ],
      "metadata": {
        "colab": {
          "base_uri": "https://localhost:8080/"
        },
        "id": "lC4ulIblpbVI",
        "outputId": "ac7577b7-d5f1-4a0b-ec14-3dfc4f8bf205"
      },
      "execution_count": 123,
      "outputs": [
        {
          "output_type": "stream",
          "name": "stdout",
          "text": [
            "\n",
            "10-fold cross validation on  Pipeline(steps=[('transform',\n",
            "                 Pipeline(steps=[('std_scaler', StandardScaler())])),\n",
            "                ('et_classifier', ExtraTreesClassifier())])\n",
            "Scores: [0.72727273 0.84415584 0.74025974 0.7012987  0.7012987  0.77922078\n",
            " 0.83116883 0.85714286 0.72368421 0.78947368]\n",
            "Mean: 0.7694976076555025\n",
            "Standard deviation: 0.05620614554541913\n",
            "\n",
            "10-fold cross validation on  Pipeline(steps=[('tranform',\n",
            "                 Pipeline(steps=[('std_scaler', StandardScaler())])),\n",
            "                ('dt_classifier',\n",
            "                 DecisionTreeClassifier(criterion='entropy', max_depth=42))])\n",
            "Scores: [0.67532468 0.68831169 0.64935065 0.63636364 0.72727273 0.7012987\n",
            " 0.80519481 0.79220779 0.69736842 0.65789474]\n",
            "Mean: 0.7030587833219413\n",
            "Standard deviation: 0.05418520174090557\n"
          ]
        }
      ]
    },
    {
      "cell_type": "code",
      "source": [
        "y_test_austin_predict1 = pipeline1_austin.predict(X_test_austin)\n",
        "y_test_austin_predict2 = pipeline2_austin.predict(X_test_austin)\n",
        "\n",
        "print('For pipeline 1:')\n",
        "print(classification_report(y_test_austin, y_test_austin_predict1))\n",
        "\n",
        "print('For pipeline 2:')\n",
        "print(classification_report(y_test_austin, y_test_austin_predict2))"
      ],
      "metadata": {
        "colab": {
          "base_uri": "https://localhost:8080/"
        },
        "id": "z68cexQyrh3K",
        "outputId": "e8102dfb-d0da-405e-e699-94c35f92df02"
      },
      "execution_count": 124,
      "outputs": [
        {
          "output_type": "stream",
          "name": "stdout",
          "text": [
            "For pipeline 1:\n",
            "              precision    recall  f1-score   support\n",
            "\n",
            "           0       0.65      1.00      0.79       151\n",
            "           1       0.00      0.00      0.00        80\n",
            "\n",
            "    accuracy                           0.65       231\n",
            "   macro avg       0.33      0.50      0.40       231\n",
            "weighted avg       0.43      0.65      0.52       231\n",
            "\n",
            "For pipeline 2:\n",
            "              precision    recall  f1-score   support\n",
            "\n",
            "           0       0.65      1.00      0.79       151\n",
            "           1       0.00      0.00      0.00        80\n",
            "\n",
            "    accuracy                           0.65       231\n",
            "   macro avg       0.33      0.50      0.40       231\n",
            "weighted avg       0.43      0.65      0.52       231\n",
            "\n"
          ]
        },
        {
          "output_type": "stream",
          "name": "stderr",
          "text": [
            "/usr/local/lib/python3.7/dist-packages/sklearn/base.py:451: UserWarning: X does not have valid feature names, but StandardScaler was fitted with feature names\n",
            "  \"X does not have valid feature names, but\"\n",
            "/usr/local/lib/python3.7/dist-packages/sklearn/base.py:451: UserWarning: X does not have valid feature names, but StandardScaler was fitted with feature names\n",
            "  \"X does not have valid feature names, but\"\n",
            "/usr/local/lib/python3.7/dist-packages/sklearn/metrics/_classification.py:1318: UndefinedMetricWarning: Precision and F-score are ill-defined and being set to 0.0 in labels with no predicted samples. Use `zero_division` parameter to control this behavior.\n",
            "  _warn_prf(average, modifier, msg_start, len(result))\n",
            "/usr/local/lib/python3.7/dist-packages/sklearn/metrics/_classification.py:1318: UndefinedMetricWarning: Precision and F-score are ill-defined and being set to 0.0 in labels with no predicted samples. Use `zero_division` parameter to control this behavior.\n",
            "  _warn_prf(average, modifier, msg_start, len(result))\n",
            "/usr/local/lib/python3.7/dist-packages/sklearn/metrics/_classification.py:1318: UndefinedMetricWarning: Precision and F-score are ill-defined and being set to 0.0 in labels with no predicted samples. Use `zero_division` parameter to control this behavior.\n",
            "  _warn_prf(average, modifier, msg_start, len(result))\n",
            "/usr/local/lib/python3.7/dist-packages/sklearn/metrics/_classification.py:1318: UndefinedMetricWarning: Precision and F-score are ill-defined and being set to 0.0 in labels with no predicted samples. Use `zero_division` parameter to control this behavior.\n",
            "  _warn_prf(average, modifier, msg_start, len(result))\n",
            "/usr/local/lib/python3.7/dist-packages/sklearn/metrics/_classification.py:1318: UndefinedMetricWarning: Precision and F-score are ill-defined and being set to 0.0 in labels with no predicted samples. Use `zero_division` parameter to control this behavior.\n",
            "  _warn_prf(average, modifier, msg_start, len(result))\n",
            "/usr/local/lib/python3.7/dist-packages/sklearn/metrics/_classification.py:1318: UndefinedMetricWarning: Precision and F-score are ill-defined and being set to 0.0 in labels with no predicted samples. Use `zero_division` parameter to control this behavior.\n",
            "  _warn_prf(average, modifier, msg_start, len(result))\n"
          ]
        }
      ]
    },
    {
      "cell_type": "markdown",
      "source": [
        "We find that the accuracy of both pipelines (pipeline1 and pipeline2) are same.\n",
        "\n",
        "**Comparing the accuracy of both pipelines with cross validation accuracy:**\n",
        "\n",
        "> Pipeline 1: Accuracy of the pipeline is less than the cross validation accuracy. (0.65 < 0.76)\n",
        "\n",
        "\n",
        "> Pipeline 2: Accuracy of the pipeline is less than the cross validation accuracy. (0.65 < 0.70)\n",
        "\n",
        "\n",
        "\n"
      ],
      "metadata": {
        "id": "JiGuJAeXt3EJ"
      }
    },
    {
      "cell_type": "markdown",
      "source": [
        "## Extra Trees and Grid search"
      ],
      "metadata": {
        "id": "gDEi1wAowE3p"
      }
    },
    {
      "cell_type": "code",
      "source": [
        "parameters = {\n",
        "    'et_classifier__n_estimators' : range(10, 3000, 20),\n",
        "    'et_classifier__max_depth': range(1, 1000, 2)\n",
        "}\n",
        "\n",
        "rnd_search = RandomizedSearchCV(pipeline1_austin, param_distributions=parameters, scoring='accuracy')\n",
        "# print(type(X_train_austin), type(y_train_austin))\n",
        "rnd_search.fit(X_train_austin, y_train_austin)"
      ],
      "metadata": {
        "colab": {
          "base_uri": "https://localhost:8080/"
        },
        "id": "xEmh8Gqwt2Gg",
        "outputId": "c37fdbe5-2dab-4cbe-b10b-ea66641259bd"
      },
      "execution_count": 125,
      "outputs": [
        {
          "output_type": "execute_result",
          "data": {
            "text/plain": [
              "RandomizedSearchCV(estimator=Pipeline(steps=[('transform',\n",
              "                                              Pipeline(steps=[('std_scaler',\n",
              "                                                               StandardScaler())])),\n",
              "                                             ('et_classifier',\n",
              "                                              ExtraTreesClassifier())]),\n",
              "                   param_distributions={'et_classifier__max_depth': range(1, 1000, 2),\n",
              "                                        'et_classifier__n_estimators': range(10, 3000, 20)},\n",
              "                   scoring='accuracy')"
            ]
          },
          "metadata": {},
          "execution_count": 125
        }
      ]
    },
    {
      "cell_type": "code",
      "source": [
        "best_model = rnd_search.best_estimator_\n",
        "print(f'Best parameters: {rnd_search.best_params_}')\n",
        "print(f'Score: {rnd_search.best_score_}')\n",
        "print(f'Best estimator: {best_model}')"
      ],
      "metadata": {
        "colab": {
          "base_uri": "https://localhost:8080/"
        },
        "id": "Ka_GOnaezJ2J",
        "outputId": "976cf3df-330e-4a9c-9c55-8828d9ca6c2b"
      },
      "execution_count": 126,
      "outputs": [
        {
          "output_type": "stream",
          "name": "stdout",
          "text": [
            "Best parameters: {'et_classifier__n_estimators': 1890, 'et_classifier__max_depth': 963}\n",
            "Score: 0.7820526133610246\n",
            "Best estimator: Pipeline(steps=[('transform',\n",
            "                 Pipeline(steps=[('std_scaler', StandardScaler())])),\n",
            "                ('et_classifier',\n",
            "                 ExtraTreesClassifier(max_depth=963, n_estimators=1890))])\n"
          ]
        }
      ]
    },
    {
      "cell_type": "markdown",
      "source": [
        "The best estimator on train data has a score of 0.78"
      ],
      "metadata": {
        "id": "AMEyGEDR0Ty2"
      }
    },
    {
      "cell_type": "markdown",
      "source": [
        "Testing the best estimator on Test data:"
      ],
      "metadata": {
        "id": "_KEfBb390D6j"
      }
    },
    {
      "cell_type": "code",
      "source": [
        "y_test_pred = best_model.predict(X_test_austin)\n",
        "print(classification_report(y_test_austin, y_test_pred))"
      ],
      "metadata": {
        "colab": {
          "base_uri": "https://localhost:8080/"
        },
        "id": "krXl4FVRz0-h",
        "outputId": "f9487eab-434c-4804-d81b-6869e134de5a"
      },
      "execution_count": 127,
      "outputs": [
        {
          "output_type": "stream",
          "name": "stdout",
          "text": [
            "              precision    recall  f1-score   support\n",
            "\n",
            "           0       0.80      0.83      0.82       151\n",
            "           1       0.66      0.60      0.63        80\n",
            "\n",
            "    accuracy                           0.75       231\n",
            "   macro avg       0.73      0.72      0.72       231\n",
            "weighted avg       0.75      0.75      0.75       231\n",
            "\n"
          ]
        }
      ]
    },
    {
      "cell_type": "markdown",
      "source": [
        "The best estimator on test data has a score of ~0.75 which is very slightly less than that on the train data. (0.75 < 0.78)"
      ],
      "metadata": {
        "id": "gLsbP8MD0LgM"
      }
    }
  ]
}