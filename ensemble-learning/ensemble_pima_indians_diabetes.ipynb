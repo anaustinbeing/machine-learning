{
  "nbformat": 4,
  "nbformat_minor": 0,
  "metadata": {
    "colab": {
      "name": "ensemble-pima-indians-diabetes.ipynb",
      "provenance": [],
      "collapsed_sections": [
        "ddH-YTfgvutT",
        "Bo7ZUZ5lv24p"
      ],
      "authorship_tag": "ABX9TyN5cKmvA2ZV7N/gKfCzZlvF",
      "include_colab_link": true
    },
    "kernelspec": {
      "name": "python3",
      "display_name": "Python 3"
    },
    "language_info": {
      "name": "python"
    }
  },
  "cells": [
    {
      "cell_type": "markdown",
      "metadata": {
        "id": "view-in-github",
        "colab_type": "text"
      },
      "source": [
        "<a href=\"https://colab.research.google.com/github/anaustinbeing/machine-learning/blob/main/ensemble-learning/ensemble_pima_indians_diabetes.ipynb\" target=\"_parent\"><img src=\"https://colab.research.google.com/assets/colab-badge.svg\" alt=\"Open In Colab\"/></a>"
      ]
    },
    {
      "cell_type": "code",
      "execution_count": 242,
      "metadata": {
        "id": "QeSZZOGnZZef"
      },
      "outputs": [],
      "source": [
        "import pandas as pd\n",
        "import numpy as np\n",
        "import matplotlib.pyplot as plt\n",
        "from sklearn.linear_model import LogisticRegression\n",
        "from sklearn.svm import SVC\n",
        "from sklearn.tree import DecisionTreeClassifier\n",
        "from sklearn.ensemble import RandomForestClassifier, ExtraTreesClassifier\n",
        "from sklearn.neural_network import MLPClassifier\n",
        "from sklearn.ensemble import VotingClassifier\n",
        "from sklearn.model_selection import cross_val_score\n",
        "from sklearn.model_selection import RandomizedSearchCV\n",
        "from sklearn.metrics import classification_report\n",
        "from imblearn.over_sampling import SMOTE"
      ]
    },
    {
      "cell_type": "markdown",
      "source": [
        "## Load & check the data"
      ],
      "metadata": {
        "id": "ddH-YTfgvutT"
      }
    },
    {
      "cell_type": "code",
      "source": [
        "df_austin = pd.read_csv('pima-indians-diabetes.csv', names=['preg',\n",
        "'plas',\n",
        "'pres',\n",
        "'skin',\n",
        "'test',\n",
        "'mass',\n",
        "'pedi',\n",
        "'age',\n",
        "'class'])"
      ],
      "metadata": {
        "id": "3VwMeJehZ2SP"
      },
      "execution_count": 243,
      "outputs": []
    },
    {
      "cell_type": "code",
      "source": [
        "df_austin.head(3)"
      ],
      "metadata": {
        "colab": {
          "base_uri": "https://localhost:8080/",
          "height": 143
        },
        "id": "m9FuQxmCaEy1",
        "outputId": "c57f9555-5b48-475d-b166-0008e9eaef38"
      },
      "execution_count": 244,
      "outputs": [
        {
          "output_type": "execute_result",
          "data": {
            "text/plain": [
              "   preg  plas  pres  skin  test  mass   pedi  age  class\n",
              "0     6   148    72    35     0  33.6  0.627   50      1\n",
              "1     1    85    66    29     0  26.6  0.351   31      0\n",
              "2     8   183    64     0     0  23.3  0.672   32      1"
            ],
            "text/html": [
              "\n",
              "  <div id=\"df-decb4eda-3828-4b31-9fb8-d6884474f640\">\n",
              "    <div class=\"colab-df-container\">\n",
              "      <div>\n",
              "<style scoped>\n",
              "    .dataframe tbody tr th:only-of-type {\n",
              "        vertical-align: middle;\n",
              "    }\n",
              "\n",
              "    .dataframe tbody tr th {\n",
              "        vertical-align: top;\n",
              "    }\n",
              "\n",
              "    .dataframe thead th {\n",
              "        text-align: right;\n",
              "    }\n",
              "</style>\n",
              "<table border=\"1\" class=\"dataframe\">\n",
              "  <thead>\n",
              "    <tr style=\"text-align: right;\">\n",
              "      <th></th>\n",
              "      <th>preg</th>\n",
              "      <th>plas</th>\n",
              "      <th>pres</th>\n",
              "      <th>skin</th>\n",
              "      <th>test</th>\n",
              "      <th>mass</th>\n",
              "      <th>pedi</th>\n",
              "      <th>age</th>\n",
              "      <th>class</th>\n",
              "    </tr>\n",
              "  </thead>\n",
              "  <tbody>\n",
              "    <tr>\n",
              "      <th>0</th>\n",
              "      <td>6</td>\n",
              "      <td>148</td>\n",
              "      <td>72</td>\n",
              "      <td>35</td>\n",
              "      <td>0</td>\n",
              "      <td>33.6</td>\n",
              "      <td>0.627</td>\n",
              "      <td>50</td>\n",
              "      <td>1</td>\n",
              "    </tr>\n",
              "    <tr>\n",
              "      <th>1</th>\n",
              "      <td>1</td>\n",
              "      <td>85</td>\n",
              "      <td>66</td>\n",
              "      <td>29</td>\n",
              "      <td>0</td>\n",
              "      <td>26.6</td>\n",
              "      <td>0.351</td>\n",
              "      <td>31</td>\n",
              "      <td>0</td>\n",
              "    </tr>\n",
              "    <tr>\n",
              "      <th>2</th>\n",
              "      <td>8</td>\n",
              "      <td>183</td>\n",
              "      <td>64</td>\n",
              "      <td>0</td>\n",
              "      <td>0</td>\n",
              "      <td>23.3</td>\n",
              "      <td>0.672</td>\n",
              "      <td>32</td>\n",
              "      <td>1</td>\n",
              "    </tr>\n",
              "  </tbody>\n",
              "</table>\n",
              "</div>\n",
              "      <button class=\"colab-df-convert\" onclick=\"convertToInteractive('df-decb4eda-3828-4b31-9fb8-d6884474f640')\"\n",
              "              title=\"Convert this dataframe to an interactive table.\"\n",
              "              style=\"display:none;\">\n",
              "        \n",
              "  <svg xmlns=\"http://www.w3.org/2000/svg\" height=\"24px\"viewBox=\"0 0 24 24\"\n",
              "       width=\"24px\">\n",
              "    <path d=\"M0 0h24v24H0V0z\" fill=\"none\"/>\n",
              "    <path d=\"M18.56 5.44l.94 2.06.94-2.06 2.06-.94-2.06-.94-.94-2.06-.94 2.06-2.06.94zm-11 1L8.5 8.5l.94-2.06 2.06-.94-2.06-.94L8.5 2.5l-.94 2.06-2.06.94zm10 10l.94 2.06.94-2.06 2.06-.94-2.06-.94-.94-2.06-.94 2.06-2.06.94z\"/><path d=\"M17.41 7.96l-1.37-1.37c-.4-.4-.92-.59-1.43-.59-.52 0-1.04.2-1.43.59L10.3 9.45l-7.72 7.72c-.78.78-.78 2.05 0 2.83L4 21.41c.39.39.9.59 1.41.59.51 0 1.02-.2 1.41-.59l7.78-7.78 2.81-2.81c.8-.78.8-2.07 0-2.86zM5.41 20L4 18.59l7.72-7.72 1.47 1.35L5.41 20z\"/>\n",
              "  </svg>\n",
              "      </button>\n",
              "      \n",
              "  <style>\n",
              "    .colab-df-container {\n",
              "      display:flex;\n",
              "      flex-wrap:wrap;\n",
              "      gap: 12px;\n",
              "    }\n",
              "\n",
              "    .colab-df-convert {\n",
              "      background-color: #E8F0FE;\n",
              "      border: none;\n",
              "      border-radius: 50%;\n",
              "      cursor: pointer;\n",
              "      display: none;\n",
              "      fill: #1967D2;\n",
              "      height: 32px;\n",
              "      padding: 0 0 0 0;\n",
              "      width: 32px;\n",
              "    }\n",
              "\n",
              "    .colab-df-convert:hover {\n",
              "      background-color: #E2EBFA;\n",
              "      box-shadow: 0px 1px 2px rgba(60, 64, 67, 0.3), 0px 1px 3px 1px rgba(60, 64, 67, 0.15);\n",
              "      fill: #174EA6;\n",
              "    }\n",
              "\n",
              "    [theme=dark] .colab-df-convert {\n",
              "      background-color: #3B4455;\n",
              "      fill: #D2E3FC;\n",
              "    }\n",
              "\n",
              "    [theme=dark] .colab-df-convert:hover {\n",
              "      background-color: #434B5C;\n",
              "      box-shadow: 0px 1px 3px 1px rgba(0, 0, 0, 0.15);\n",
              "      filter: drop-shadow(0px 1px 2px rgba(0, 0, 0, 0.3));\n",
              "      fill: #FFFFFF;\n",
              "    }\n",
              "  </style>\n",
              "\n",
              "      <script>\n",
              "        const buttonEl =\n",
              "          document.querySelector('#df-decb4eda-3828-4b31-9fb8-d6884474f640 button.colab-df-convert');\n",
              "        buttonEl.style.display =\n",
              "          google.colab.kernel.accessAllowed ? 'block' : 'none';\n",
              "\n",
              "        async function convertToInteractive(key) {\n",
              "          const element = document.querySelector('#df-decb4eda-3828-4b31-9fb8-d6884474f640');\n",
              "          const dataTable =\n",
              "            await google.colab.kernel.invokeFunction('convertToInteractive',\n",
              "                                                     [key], {});\n",
              "          if (!dataTable) return;\n",
              "\n",
              "          const docLinkHtml = 'Like what you see? Visit the ' +\n",
              "            '<a target=\"_blank\" href=https://colab.research.google.com/notebooks/data_table.ipynb>data table notebook</a>'\n",
              "            + ' to learn more about interactive tables.';\n",
              "          element.innerHTML = '';\n",
              "          dataTable['output_type'] = 'display_data';\n",
              "          await google.colab.output.renderOutput(dataTable, element);\n",
              "          const docLink = document.createElement('div');\n",
              "          docLink.innerHTML = docLinkHtml;\n",
              "          element.appendChild(docLink);\n",
              "        }\n",
              "      </script>\n",
              "    </div>\n",
              "  </div>\n",
              "  "
            ]
          },
          "metadata": {},
          "execution_count": 244
        }
      ]
    },
    {
      "cell_type": "code",
      "source": [
        "df_austin.info()"
      ],
      "metadata": {
        "colab": {
          "base_uri": "https://localhost:8080/"
        },
        "id": "CGYDD4QVbmDd",
        "outputId": "fa389ba6-2b3b-4b0d-f6ec-3c18440f6d00"
      },
      "execution_count": 245,
      "outputs": [
        {
          "output_type": "stream",
          "name": "stdout",
          "text": [
            "<class 'pandas.core.frame.DataFrame'>\n",
            "RangeIndex: 768 entries, 0 to 767\n",
            "Data columns (total 9 columns):\n",
            " #   Column  Non-Null Count  Dtype  \n",
            "---  ------  --------------  -----  \n",
            " 0   preg    768 non-null    int64  \n",
            " 1   plas    768 non-null    int64  \n",
            " 2   pres    768 non-null    int64  \n",
            " 3   skin    768 non-null    int64  \n",
            " 4   test    768 non-null    int64  \n",
            " 5   mass    768 non-null    float64\n",
            " 6   pedi    768 non-null    float64\n",
            " 7   age     768 non-null    int64  \n",
            " 8   class   768 non-null    int64  \n",
            "dtypes: float64(2), int64(7)\n",
            "memory usage: 54.1 KB\n"
          ]
        }
      ]
    },
    {
      "cell_type": "code",
      "source": [
        "df_austin.isnull().sum()"
      ],
      "metadata": {
        "colab": {
          "base_uri": "https://localhost:8080/"
        },
        "id": "5HM5SuQ1bofc",
        "outputId": "0844f321-556e-4eb9-e1b7-3f40d85bd7a6"
      },
      "execution_count": 246,
      "outputs": [
        {
          "output_type": "execute_result",
          "data": {
            "text/plain": [
              "preg     0\n",
              "plas     0\n",
              "pres     0\n",
              "skin     0\n",
              "test     0\n",
              "mass     0\n",
              "pedi     0\n",
              "age      0\n",
              "class    0\n",
              "dtype: int64"
            ]
          },
          "metadata": {},
          "execution_count": 246
        }
      ]
    },
    {
      "cell_type": "code",
      "source": [
        "df_austin.mean()"
      ],
      "metadata": {
        "colab": {
          "base_uri": "https://localhost:8080/"
        },
        "id": "x6UXn1czbsMr",
        "outputId": "38efff35-ee49-4ea6-966a-befd5d537708"
      },
      "execution_count": 247,
      "outputs": [
        {
          "output_type": "execute_result",
          "data": {
            "text/plain": [
              "preg       3.845052\n",
              "plas     120.894531\n",
              "pres      69.105469\n",
              "skin      20.536458\n",
              "test      79.799479\n",
              "mass      31.992578\n",
              "pedi       0.471876\n",
              "age       33.240885\n",
              "class      0.348958\n",
              "dtype: float64"
            ]
          },
          "metadata": {},
          "execution_count": 247
        }
      ]
    },
    {
      "cell_type": "code",
      "source": [
        "df_austin.median()"
      ],
      "metadata": {
        "colab": {
          "base_uri": "https://localhost:8080/"
        },
        "id": "yN-jAYztbvzD",
        "outputId": "e5105b0b-e3a6-4711-94d8-8e8f103ad8c8"
      },
      "execution_count": 248,
      "outputs": [
        {
          "output_type": "execute_result",
          "data": {
            "text/plain": [
              "preg       3.0000\n",
              "plas     117.0000\n",
              "pres      72.0000\n",
              "skin      23.0000\n",
              "test      30.5000\n",
              "mass      32.0000\n",
              "pedi       0.3725\n",
              "age       29.0000\n",
              "class      0.0000\n",
              "dtype: float64"
            ]
          },
          "metadata": {},
          "execution_count": 248
        }
      ]
    },
    {
      "cell_type": "code",
      "source": [
        "df_austin.min()"
      ],
      "metadata": {
        "colab": {
          "base_uri": "https://localhost:8080/"
        },
        "id": "qzW0meTebyGC",
        "outputId": "0353ce2c-d0e7-4b29-e981-84427a4ea6b5"
      },
      "execution_count": 249,
      "outputs": [
        {
          "output_type": "execute_result",
          "data": {
            "text/plain": [
              "preg      0.000\n",
              "plas      0.000\n",
              "pres      0.000\n",
              "skin      0.000\n",
              "test      0.000\n",
              "mass      0.000\n",
              "pedi      0.078\n",
              "age      21.000\n",
              "class     0.000\n",
              "dtype: float64"
            ]
          },
          "metadata": {},
          "execution_count": 249
        }
      ]
    },
    {
      "cell_type": "code",
      "source": [
        "df_austin.max()"
      ],
      "metadata": {
        "colab": {
          "base_uri": "https://localhost:8080/"
        },
        "id": "f8RBB0scb4FM",
        "outputId": "66b465ef-ddce-4f84-9e41-582f45f46fd1"
      },
      "execution_count": 250,
      "outputs": [
        {
          "output_type": "execute_result",
          "data": {
            "text/plain": [
              "preg      17.00\n",
              "plas     199.00\n",
              "pres     122.00\n",
              "skin      99.00\n",
              "test     846.00\n",
              "mass      67.10\n",
              "pedi       2.42\n",
              "age       81.00\n",
              "class      1.00\n",
              "dtype: float64"
            ]
          },
          "metadata": {},
          "execution_count": 250
        }
      ]
    },
    {
      "cell_type": "code",
      "source": [
        "df_austin.count()"
      ],
      "metadata": {
        "colab": {
          "base_uri": "https://localhost:8080/"
        },
        "id": "xoFwGVDCb6KM",
        "outputId": "23319de2-8303-4f71-ede3-713cd5aeea2d"
      },
      "execution_count": 251,
      "outputs": [
        {
          "output_type": "execute_result",
          "data": {
            "text/plain": [
              "preg     768\n",
              "plas     768\n",
              "pres     768\n",
              "skin     768\n",
              "test     768\n",
              "mass     768\n",
              "pedi     768\n",
              "age      768\n",
              "class    768\n",
              "dtype: int64"
            ]
          },
          "metadata": {},
          "execution_count": 251
        }
      ]
    },
    {
      "cell_type": "code",
      "source": [
        "df_austin.shape"
      ],
      "metadata": {
        "colab": {
          "base_uri": "https://localhost:8080/"
        },
        "id": "j8pWnsFub8Gc",
        "outputId": "387dddd5-02c3-4e08-b9be-2af8d36d78af"
      },
      "execution_count": 252,
      "outputs": [
        {
          "output_type": "execute_result",
          "data": {
            "text/plain": [
              "(768, 9)"
            ]
          },
          "metadata": {},
          "execution_count": 252
        }
      ]
    },
    {
      "cell_type": "markdown",
      "source": [
        "Finding the number of values of each target class:"
      ],
      "metadata": {
        "id": "REGUtIuAcG-J"
      }
    },
    {
      "cell_type": "code",
      "source": [
        "df_austin['class'].value_counts()"
      ],
      "metadata": {
        "colab": {
          "base_uri": "https://localhost:8080/"
        },
        "id": "L8f8AgKeb-PM",
        "outputId": "b046d33a-3750-4ac8-e7a0-19a06ed57dab"
      },
      "execution_count": 253,
      "outputs": [
        {
          "output_type": "execute_result",
          "data": {
            "text/plain": [
              "0    500\n",
              "1    268\n",
              "Name: class, dtype: int64"
            ]
          },
          "metadata": {},
          "execution_count": 253
        }
      ]
    },
    {
      "cell_type": "markdown",
      "source": [
        "There are 500 values for the class 0 and 268 values for the class 1. This is an unbalanced dataset, and we could use balancing techinques like SMOTE to balance the dataset. Balancing is not done here because it was not asked in the question."
      ],
      "metadata": {
        "id": "AzeO8CNLcNt0"
      }
    },
    {
      "cell_type": "markdown",
      "source": [
        "## Pre-process and prepare the data for machine learning"
      ],
      "metadata": {
        "id": "Bo7ZUZ5lv24p"
      }
    },
    {
      "cell_type": "code",
      "source": [
        "features_austin = df_austin.drop('class', axis=1)\n",
        "class_austin = df_austin['class']"
      ],
      "metadata": {
        "id": "Y1HkZZ1IA_bV"
      },
      "execution_count": 254,
      "outputs": []
    },
    {
      "cell_type": "markdown",
      "source": [
        "Plotting the class column values (before balancing):"
      ],
      "metadata": {
        "id": "wBjsYdnVBSQi"
      }
    },
    {
      "cell_type": "code",
      "source": [
        "counts = df_austin['class'].value_counts()\n",
        "count_of_each_targets = [counts.loc[0], counts.loc[1]]\n",
        "labels = ['Class 0', 'Class 1']\n",
        "\n",
        "plt.pie(count_of_each_targets, labels = labels)\n",
        "plt.title('Before balancing target column')\n",
        "plt.show()"
      ],
      "metadata": {
        "colab": {
          "base_uri": "https://localhost:8080/",
          "height": 264
        },
        "id": "abNnApa6BKYQ",
        "outputId": "f098acfc-8bcb-4cad-d64d-b5b75c15a7d7"
      },
      "execution_count": 255,
      "outputs": [
        {
          "output_type": "display_data",
          "data": {
            "text/plain": [
              "<Figure size 432x288 with 1 Axes>"
            ],
            "image/png": "[encoded data removed]"
          },
          "metadata": {}
        }
      ]
    },
    {
      "cell_type": "markdown",
      "source": [
        "Balancing the class column:"
      ],
      "metadata": {
        "id": "DpqoiRE3BXQb"
      }
    },
    {
      "cell_type": "code",
      "source": [
        "oversample = SMOTE()\n",
        "features_austin, class_austin = oversample.fit_resample(features_austin, class_austin)"
      ],
      "metadata": {
        "id": "14TGF-eJA8rE"
      },
      "execution_count": 256,
      "outputs": []
    },
    {
      "cell_type": "markdown",
      "source": [
        "Plotting the class column values (after balancing):"
      ],
      "metadata": {
        "id": "eJvESo0fBaVN"
      }
    },
    {
      "cell_type": "code",
      "source": [
        "counts = class_austin.value_counts()\n",
        "count_of_each_targets = [counts.loc[0], counts.loc[1]]\n",
        "labels = ['Class 0', 'Class 1']\n",
        "\n",
        "plt.pie(count_of_each_targets, labels = labels)\n",
        "plt.title('After balancing target column')\n",
        "plt.show()"
      ],
      "metadata": {
        "colab": {
          "base_uri": "https://localhost:8080/",
          "height": 264
        },
        "id": "z4pk8h5fBhvD",
        "outputId": "4694d72f-ee03-411b-f2f7-457da9317244"
      },
      "execution_count": 257,
      "outputs": [
        {
          "output_type": "display_data",
          "data": {
            "text/plain": [
              "<Figure size 432x288 with 1 Axes>"
            ],
            "image/png": "[encoded data removed]"
          },
          "metadata": {}
        }
      ]
    },
    {
      "cell_type": "code",
      "source": [
        "from sklearn.pipeline import Pipeline\n",
        "from sklearn.preprocessing import StandardScaler\n",
        "\n",
        "transformer_austin = Pipeline([\n",
        "        ('std_scaler', StandardScaler()),\n",
        "])"
      ],
      "metadata": {
        "id": "5OqCHkDLcMiO"
      },
      "execution_count": 258,
      "outputs": []
    },
    {
      "cell_type": "code",
      "source": [
        ""
      ],
      "metadata": {
        "id": "1bSGO2LXcFGj"
      },
      "execution_count": 258,
      "outputs": []
    },
    {
      "cell_type": "code",
      "source": [
        "from sklearn.model_selection import train_test_split\n",
        "\n",
        "X_train_austin, X_test_austin, y_train_austin, y_test_austin = train_test_split(features_austin, class_austin, test_size=0.3, random_state=42)\n",
        "print('Shapes of data:')\n",
        "print(X_train_austin.shape, y_train_austin.shape)\n",
        "print(X_test_austin.shape, y_test_austin.shape)"
      ],
      "metadata": {
        "colab": {
          "base_uri": "https://localhost:8080/"
        },
        "id": "cK4wUkOybzqc",
        "outputId": "e7334a20-fa6c-4666-d5f4-2cee433ec188"
      },
      "execution_count": 259,
      "outputs": [
        {
          "output_type": "stream",
          "name": "stdout",
          "text": [
            "Shapes of data:\n",
            "(700, 8) (700,)\n",
            "(300, 8) (300,)\n"
          ]
        }
      ]
    },
    {
      "cell_type": "code",
      "source": [
        "X_train_austin = transformer_austin.fit_transform(X_train_austin)\n",
        "X_test_austin = transformer_austin.fit_transform(X_test_austin)"
      ],
      "metadata": {
        "id": "KDL33YmXePPf"
      },
      "execution_count": 260,
      "outputs": []
    },
    {
      "cell_type": "markdown",
      "source": [
        "## Hard Voting"
      ],
      "metadata": {
        "id": "ZuAOIakeerph"
      }
    },
    {
      "cell_type": "code",
      "source": [
        "lr_austin = LogisticRegression(max_iter=1400)\n",
        "rf_austin = RandomForestClassifier()\n",
        "svc_austin = SVC()\n",
        "dt_austin = DecisionTreeClassifier(criterion='entropy', max_depth=42)\n",
        "et_austin = ExtraTreesClassifier()"
      ],
      "metadata": {
        "id": "OBidlHsIeo0l"
      },
      "execution_count": 261,
      "outputs": []
    },
    {
      "cell_type": "code",
      "source": [
        "models = [('lr_austin', lr_austin),\n",
        "          ('rf_austin', rf_austin),\n",
        "          ('svc_austin', svc_austin),\n",
        "          ('dt_austin', dt_austin),\n",
        "          ('et_austin', et_austin)]\n",
        "hard_voting_classifier = VotingClassifier(estimators=models, voting='hard')\n",
        "hard_voting_classifier.fit(X_train_austin, y_train_austin)\n",
        "\n",
        "y_test_austin_predict_1 = hard_voting_classifier.predict(X_test_austin[0].reshape(1, -1))\n",
        "y_test_austin_predict_2 = hard_voting_classifier.predict(X_test_austin[1].reshape(1, -1))\n",
        "y_test_austin_predict_3 = hard_voting_classifier.predict(X_test_austin[2].reshape(1, -1))\n",
        "\n",
        "print('Prediction for the first instance of test data: ', y_test_austin_predict_1)\n",
        "print('Prediction for the second instance of test data: ', y_test_austin_predict_2)\n",
        "print('Prediction for the third instance of test data: ', y_test_austin_predict_3)"
      ],
      "metadata": {
        "colab": {
          "base_uri": "https://localhost:8080/"
        },
        "id": "vjBJfLeogEG8",
        "outputId": "35a585ac-e12f-4130-f2a7-077fd5b4eb9f"
      },
      "execution_count": 262,
      "outputs": [
        {
          "output_type": "stream",
          "name": "stdout",
          "text": [
            "Prediction for the first instance of test data:  [0]\n",
            "Prediction for the second instance of test data:  [0]\n",
            "Prediction for the third instance of test data:  [1]\n"
          ]
        }
      ]
    },
    {
      "cell_type": "code",
      "source": [
        "for name, model in models + [('hard_voting', hard_voting_classifier)]:\n",
        "  print('Predictions using ', name)\n",
        "  model.fit(X_train_austin, y_train_austin)\n",
        "  y_test_austin_predict = model.predict(X_test_austin)\n",
        "  predict_df = pd.DataFrame(zip(y_test_austin, y_test_austin_predict), columns=['Actual', 'Predicted'])\n",
        "  print(predict_df)"
      ],
      "metadata": {
        "colab": {
          "base_uri": "https://localhost:8080/"
        },
        "id": "gDRzLMbzjiIY",
        "outputId": "1d02d240-08a1-4f61-ccd2-e7475a89221c"
      },
      "execution_count": 263,
      "outputs": [
        {
          "output_type": "stream",
          "name": "stdout",
          "text": [
            "Predictions using  lr_austin\n",
            "     Actual  Predicted\n",
            "0         0          0\n",
            "1         0          0\n",
            "2         1          1\n",
            "3         0          1\n",
            "4         0          0\n",
            "..      ...        ...\n",
            "295       1          1\n",
            "296       1          1\n",
            "297       0          0\n",
            "298       0          1\n",
            "299       1          1\n",
            "\n",
            "[300 rows x 2 columns]\n",
            "Predictions using  rf_austin\n",
            "     Actual  Predicted\n",
            "0         0          0\n",
            "1         0          0\n",
            "2         1          1\n",
            "3         0          1\n",
            "4         0          0\n",
            "..      ...        ...\n",
            "295       1          1\n",
            "296       1          1\n",
            "297       0          1\n",
            "298       0          1\n",
            "299       1          1\n",
            "\n",
            "[300 rows x 2 columns]\n",
            "Predictions using  svc_austin\n",
            "     Actual  Predicted\n",
            "0         0          0\n",
            "1         0          1\n",
            "2         1          1\n",
            "3         0          1\n",
            "4         0          0\n",
            "..      ...        ...\n",
            "295       1          1\n",
            "296       1          1\n",
            "297       0          0\n",
            "298       0          1\n",
            "299       1          1\n",
            "\n",
            "[300 rows x 2 columns]\n",
            "Predictions using  dt_austin\n",
            "     Actual  Predicted\n",
            "0         0          0\n",
            "1         0          1\n",
            "2         1          1\n",
            "3         0          1\n",
            "4         0          1\n",
            "..      ...        ...\n",
            "295       1          1\n",
            "296       1          0\n",
            "297       0          1\n",
            "298       0          1\n",
            "299       1          1\n",
            "\n",
            "[300 rows x 2 columns]\n",
            "Predictions using  et_austin\n",
            "     Actual  Predicted\n",
            "0         0          0\n",
            "1         0          0\n",
            "2         1          1\n",
            "3         0          1\n",
            "4         0          0\n",
            "..      ...        ...\n",
            "295       1          1\n",
            "296       1          1\n",
            "297       0          0\n",
            "298       0          1\n",
            "299       1          1\n",
            "\n",
            "[300 rows x 2 columns]\n",
            "Predictions using  hard_voting\n",
            "     Actual  Predicted\n",
            "0         0          0\n",
            "1         0          0\n",
            "2         1          1\n",
            "3         0          1\n",
            "4         0          0\n",
            "..      ...        ...\n",
            "295       1          1\n",
            "296       1          1\n",
            "297       0          0\n",
            "298       0          1\n",
            "299       1          1\n",
            "\n",
            "[300 rows x 2 columns]\n"
          ]
        }
      ]
    },
    {
      "cell_type": "markdown",
      "source": [
        "## Soft Voting"
      ],
      "metadata": {
        "id": "r37LglScmLqD"
      }
    },
    {
      "cell_type": "code",
      "source": [
        "lr_austin = LogisticRegression(max_iter=1400)\n",
        "rf_austin = RandomForestClassifier()\n",
        "svc_austin = SVC(probability=True)\n",
        "dt_austin = DecisionTreeClassifier(criterion='entropy', max_depth=42)\n",
        "et_austin = ExtraTreesClassifier()"
      ],
      "metadata": {
        "id": "FGp-68EOmrY1"
      },
      "execution_count": 264,
      "outputs": []
    },
    {
      "cell_type": "code",
      "source": [
        "models = [('lr_austin', lr_austin),\n",
        "          ('rf_austin', rf_austin),\n",
        "          ('svc_austin', svc_austin),\n",
        "          ('dt_austin', dt_austin),\n",
        "          ('et_austin', et_austin)]\n",
        "\n",
        "soft_voting_classifier = VotingClassifier(estimators=models, voting='soft')\n",
        "soft_voting_classifier.fit(X_train_austin, y_train_austin)\n",
        "\n",
        "y_test_austin_predict_1 = soft_voting_classifier.predict(X_test_austin[0].reshape(1, -1))\n",
        "y_test_austin_predict_2 = soft_voting_classifier.predict(X_test_austin[1].reshape(1, -1))\n",
        "y_test_austin_predict_3 = soft_voting_classifier.predict(X_test_austin[2].reshape(1, -1))\n",
        "\n",
        "print('Prediction for the first instance of test data: ', y_test_austin_predict_1)\n",
        "print('Prediction for the second instance of test data: ', y_test_austin_predict_2)\n",
        "print('Prediction for the third instance of test data: ', y_test_austin_predict_3)"
      ],
      "metadata": {
        "colab": {
          "base_uri": "https://localhost:8080/"
        },
        "id": "F4Rjz3UkmKy8",
        "outputId": "bec0d350-22ed-4710-b2dc-9ac40d034eec"
      },
      "execution_count": 265,
      "outputs": [
        {
          "output_type": "stream",
          "name": "stdout",
          "text": [
            "Prediction for the first instance of test data:  [0]\n",
            "Prediction for the second instance of test data:  [1]\n",
            "Prediction for the third instance of test data:  [1]\n"
          ]
        }
      ]
    },
    {
      "cell_type": "code",
      "source": [
        "for name, model in models + [('soft_voting', soft_voting_classifier)]:\n",
        "  print('Predictions using ', name)\n",
        "  model.fit(X_train_austin, y_train_austin)\n",
        "  y_test_austin_predict = model.predict(X_test_austin)\n",
        "  predict_df = pd.DataFrame(zip(y_test_austin, y_test_austin_predict), columns=['Actual', 'Predicted'])\n",
        "  print(predict_df)"
      ],
      "metadata": {
        "colab": {
          "base_uri": "https://localhost:8080/"
        },
        "id": "YhEKHYHpm-mq",
        "outputId": "fa730a1a-ef46-43f8-b34f-8b231b42a8ad"
      },
      "execution_count": 266,
      "outputs": [
        {
          "output_type": "stream",
          "name": "stdout",
          "text": [
            "Predictions using  lr_austin\n",
            "     Actual  Predicted\n",
            "0         0          0\n",
            "1         0          0\n",
            "2         1          1\n",
            "3         0          1\n",
            "4         0          0\n",
            "..      ...        ...\n",
            "295       1          1\n",
            "296       1          1\n",
            "297       0          0\n",
            "298       0          1\n",
            "299       1          1\n",
            "\n",
            "[300 rows x 2 columns]\n",
            "Predictions using  rf_austin\n",
            "     Actual  Predicted\n",
            "0         0          0\n",
            "1         0          0\n",
            "2         1          1\n",
            "3         0          1\n",
            "4         0          0\n",
            "..      ...        ...\n",
            "295       1          1\n",
            "296       1          1\n",
            "297       0          1\n",
            "298       0          1\n",
            "299       1          1\n",
            "\n",
            "[300 rows x 2 columns]\n",
            "Predictions using  svc_austin\n",
            "     Actual  Predicted\n",
            "0         0          0\n",
            "1         0          1\n",
            "2         1          1\n",
            "3         0          1\n",
            "4         0          0\n",
            "..      ...        ...\n",
            "295       1          1\n",
            "296       1          1\n",
            "297       0          0\n",
            "298       0          1\n",
            "299       1          1\n",
            "\n",
            "[300 rows x 2 columns]\n",
            "Predictions using  dt_austin\n",
            "     Actual  Predicted\n",
            "0         0          0\n",
            "1         0          1\n",
            "2         1          1\n",
            "3         0          1\n",
            "4         0          1\n",
            "..      ...        ...\n",
            "295       1          1\n",
            "296       1          0\n",
            "297       0          1\n",
            "298       0          1\n",
            "299       1          1\n",
            "\n",
            "[300 rows x 2 columns]\n",
            "Predictions using  et_austin\n",
            "     Actual  Predicted\n",
            "0         0          0\n",
            "1         0          0\n",
            "2         1          1\n",
            "3         0          1\n",
            "4         0          0\n",
            "..      ...        ...\n",
            "295       1          1\n",
            "296       1          1\n",
            "297       0          0\n",
            "298       0          1\n",
            "299       1          1\n",
            "\n",
            "[300 rows x 2 columns]\n",
            "Predictions using  soft_voting\n",
            "     Actual  Predicted\n",
            "0         0          0\n",
            "1         0          1\n",
            "2         1          1\n",
            "3         0          1\n",
            "4         0          0\n",
            "..      ...        ...\n",
            "295       1          1\n",
            "296       1          1\n",
            "297       0          1\n",
            "298       0          1\n",
            "299       1          1\n",
            "\n",
            "[300 rows x 2 columns]\n"
          ]
        }
      ]
    },
    {
      "cell_type": "markdown",
      "source": [
        "## Random Forests & Extra Trees"
      ],
      "metadata": {
        "id": "OINi_HE_oOtx"
      }
    },
    {
      "cell_type": "code",
      "source": [
        "pipeline1_austin = Pipeline([\n",
        "                             ('transform', transformer_austin),\n",
        "                             ('et_classifier', et_austin)\n",
        "])\n",
        "pipeline2_austin = Pipeline([\n",
        "                             ('tranform', transformer_austin),\n",
        "                             ('dt_classifier', dt_austin)\n",
        "])\n",
        "pipeline1_austin.fit(X_train_austin, y_train_austin)\n",
        "pipeline2_austin.fit(X_train_austin, y_train_austin)"
      ],
      "metadata": {
        "colab": {
          "base_uri": "https://localhost:8080/"
        },
        "id": "TlQ6NoIunC9u",
        "outputId": "54b84a03-173d-4988-ef0b-d11c6279892d"
      },
      "execution_count": 267,
      "outputs": [
        {
          "output_type": "execute_result",
          "data": {
            "text/plain": [
              "Pipeline(steps=[('tranform',\n",
              "                 Pipeline(steps=[('std_scaler', StandardScaler())])),\n",
              "                ('dt_classifier',\n",
              "                 DecisionTreeClassifier(criterion='entropy', max_depth=42))])"
            ]
          },
          "metadata": {},
          "execution_count": 267
        }
      ]
    },
    {
      "cell_type": "markdown",
      "source": [
        "10-fold cross validation on the two pipelines:"
      ],
      "metadata": {
        "id": "NLasc2XwpcYB"
      }
    },
    {
      "cell_type": "code",
      "source": [
        "for pipeline in [pipeline1_austin, pipeline2_austin]:\n",
        "  print('\\n10-fold cross validation on ', pipeline)\n",
        "  # Performing cross validation with cv=10\n",
        "  scores = cross_val_score(estimator=pipeline, X=features_austin, y=class_austin, cv=10)\n",
        "  print(\"Scores:\", scores)\n",
        "  print(\"Mean:\", scores.mean())\n",
        "  print(\"Standard deviation:\", scores.std())"
      ],
      "metadata": {
        "colab": {
          "base_uri": "https://localhost:8080/"
        },
        "id": "lC4ulIblpbVI",
        "outputId": "335d7c91-4a31-428c-c85d-b4584696cdca"
      },
      "execution_count": 276,
      "outputs": [
        {
          "output_type": "stream",
          "name": "stdout",
          "text": [
            "\n",
            "10-fold cross validation on  Pipeline(steps=[('transform',\n",
            "                 Pipeline(steps=[('std_scaler', StandardScaler())])),\n",
            "                ('et_classifier', ExtraTreesClassifier())])\n",
            "Scores: [0.8  0.85 0.83 0.75 0.8  0.8  0.91 0.9  0.84 0.87]\n",
            "Mean: 0.835\n",
            "Standard deviation: 0.04716990566028302\n",
            "\n",
            "10-fold cross validation on  Pipeline(steps=[('tranform',\n",
            "                 Pipeline(steps=[('std_scaler', StandardScaler())])),\n",
            "                ('dt_classifier',\n",
            "                 DecisionTreeClassifier(criterion='entropy', max_depth=42))])\n",
            "Scores: [0.74 0.74 0.74 0.66 0.78 0.81 0.84 0.73 0.74 0.79]\n",
            "Mean: 0.757\n",
            "Standard deviation: 0.047549973711874964\n"
          ]
        }
      ]
    },
    {
      "cell_type": "code",
      "source": [
        "for pipeline in [pipeline1_austin, pipeline2_austin]:\n",
        "  y_test_austin_predict = pipeline.predict(X_test_austin)\n",
        "  print('For pipeline: ', pipeline)\n",
        "  print(classification_report(y_test_austin, y_test_austin_predict))"
      ],
      "metadata": {
        "colab": {
          "base_uri": "https://localhost:8080/"
        },
        "id": "z68cexQyrh3K",
        "outputId": "6a6f5307-6f0a-49d6-ebdf-56c06814b503"
      },
      "execution_count": 275,
      "outputs": [
        {
          "output_type": "stream",
          "name": "stdout",
          "text": [
            "For pipeline:  Pipeline(steps=[('transform',\n",
            "                 Pipeline(steps=[('std_scaler', StandardScaler())])),\n",
            "                ('et_classifier', ExtraTreesClassifier())])\n",
            "              precision    recall  f1-score   support\n",
            "\n",
            "           0       0.87      0.75      0.81       149\n",
            "           1       0.78      0.89      0.83       151\n",
            "\n",
            "    accuracy                           0.82       300\n",
            "   macro avg       0.83      0.82      0.82       300\n",
            "weighted avg       0.83      0.82      0.82       300\n",
            "\n",
            "For pipeline:  Pipeline(steps=[('tranform',\n",
            "                 Pipeline(steps=[('std_scaler', StandardScaler())])),\n",
            "                ('dt_classifier',\n",
            "                 DecisionTreeClassifier(criterion='entropy', max_depth=42))])\n",
            "              precision    recall  f1-score   support\n",
            "\n",
            "           0       0.72      0.64      0.68       149\n",
            "           1       0.68      0.75      0.72       151\n",
            "\n",
            "    accuracy                           0.70       300\n",
            "   macro avg       0.70      0.70      0.70       300\n",
            "weighted avg       0.70      0.70      0.70       300\n",
            "\n"
          ]
        }
      ]
    },
    {
      "cell_type": "markdown",
      "source": [
        "We find that the accuracy of pipeline 1 is 0.82 and pipeline 2 is 0.70\n",
        "\n",
        "**Comparing the accuracy of both pipelines with cross validation accuracy:**\n",
        "\n",
        "> Pipeline 1: Accuracy of the pipeline is slightly less than the cross validation accuracy. (0.82 < 0.83)\n",
        "\n",
        "\n",
        "> Pipeline 2: Accuracy of the pipeline is slightly less than the cross validation accuracy. (0.70 < 0.76)\n",
        "\n",
        "\n",
        "\n"
      ],
      "metadata": {
        "id": "JiGuJAeXt3EJ"
      }
    },
    {
      "cell_type": "markdown",
      "source": [
        "## Extra Trees and Grid search"
      ],
      "metadata": {
        "id": "gDEi1wAowE3p"
      }
    },
    {
      "cell_type": "code",
      "source": [
        "parameters = {\n",
        "    'et_classifier__n_estimators' : range(10, 3000, 20),\n",
        "    'et_classifier__max_depth': range(1, 1000, 2)\n",
        "}\n",
        "\n",
        "rnd_search = RandomizedSearchCV(pipeline1_austin, param_distributions=parameters, scoring='accuracy')\n",
        "# print(type(X_train_austin), type(y_train_austin))\n",
        "rnd_search.fit(X_train_austin, y_train_austin)"
      ],
      "metadata": {
        "colab": {
          "base_uri": "https://localhost:8080/"
        },
        "id": "xEmh8Gqwt2Gg",
        "outputId": "7b8e3999-32ac-4765-c78b-2ac1c902d4c9"
      },
      "execution_count": 270,
      "outputs": [
        {
          "output_type": "execute_result",
          "data": {
            "text/plain": [
              "RandomizedSearchCV(estimator=Pipeline(steps=[('transform',\n",
              "                                              Pipeline(steps=[('std_scaler',\n",
              "                                                               StandardScaler())])),\n",
              "                                             ('et_classifier',\n",
              "                                              ExtraTreesClassifier())]),\n",
              "                   param_distributions={'et_classifier__max_depth': range(1, 1000, 2),\n",
              "                                        'et_classifier__n_estimators': range(10, 3000, 20)},\n",
              "                   scoring='accuracy')"
            ]
          },
          "metadata": {},
          "execution_count": 270
        }
      ]
    },
    {
      "cell_type": "code",
      "source": [
        "best_model = rnd_search.best_estimator_\n",
        "print(f'Best parameters: {rnd_search.best_params_}')\n",
        "print(f'Score: {rnd_search.best_score_}')\n",
        "print(f'Best estimator: {best_model}')"
      ],
      "metadata": {
        "colab": {
          "base_uri": "https://localhost:8080/"
        },
        "id": "Ka_GOnaezJ2J",
        "outputId": "0bc4f2b4-c1e9-4778-c57d-f1070d136a36"
      },
      "execution_count": 271,
      "outputs": [
        {
          "output_type": "stream",
          "name": "stdout",
          "text": [
            "Best parameters: {'et_classifier__n_estimators': 2150, 'et_classifier__max_depth': 59}\n",
            "Score: 0.8057142857142857\n",
            "Best estimator: Pipeline(steps=[('transform',\n",
            "                 Pipeline(steps=[('std_scaler', StandardScaler())])),\n",
            "                ('et_classifier',\n",
            "                 ExtraTreesClassifier(max_depth=59, n_estimators=2150))])\n"
          ]
        }
      ]
    },
    {
      "cell_type": "markdown",
      "source": [
        "The best estimator on train data has a score of ~0.81"
      ],
      "metadata": {
        "id": "AMEyGEDR0Ty2"
      }
    },
    {
      "cell_type": "markdown",
      "source": [
        "Testing the best estimator on Test data:"
      ],
      "metadata": {
        "id": "_KEfBb390D6j"
      }
    },
    {
      "cell_type": "code",
      "source": [
        "y_test_pred = best_model.predict(X_test_austin)\n",
        "print(classification_report(y_test_austin, y_test_pred))"
      ],
      "metadata": {
        "colab": {
          "base_uri": "https://localhost:8080/"
        },
        "id": "krXl4FVRz0-h",
        "outputId": "a0336f7f-d908-4c86-c8d9-5d228e751985"
      },
      "execution_count": 272,
      "outputs": [
        {
          "output_type": "stream",
          "name": "stdout",
          "text": [
            "              precision    recall  f1-score   support\n",
            "\n",
            "           0       0.88      0.77      0.82       149\n",
            "           1       0.80      0.90      0.84       151\n",
            "\n",
            "    accuracy                           0.83       300\n",
            "   macro avg       0.84      0.83      0.83       300\n",
            "weighted avg       0.84      0.83      0.83       300\n",
            "\n"
          ]
        }
      ]
    },
    {
      "cell_type": "markdown",
      "source": [
        "The best estimator on test data has a score of ~0.83 which is almost equal to that on the train data. (0.83 ~ 0.81)"
      ],
      "metadata": {
        "id": "gLsbP8MD0LgM"
      }
    }
  ]
}