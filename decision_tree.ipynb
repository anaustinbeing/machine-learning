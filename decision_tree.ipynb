{
  "nbformat": 4,
  "nbformat_minor": 0,
  "metadata": {
    "colab": {
      "name": "decision_tree.ipynb",
      "provenance": [],
      "collapsed_sections": [],
      "include_colab_link": true
    },
    "kernelspec": {
      "name": "python3",
      "display_name": "Python 3"
    },
    "language_info": {
      "name": "python"
    }
  },
  "cells": [
    {
      "cell_type": "markdown",
      "metadata": {
        "id": "view-in-github",
        "colab_type": "text"
      },
      "source": [
        "<a href=\"https://colab.research.google.com/github/anaustinbeing/machine-learning/blob/main/decision_tree.ipynb\" target=\"_parent\"><img src=\"https://colab.research.google.com/assets/colab-badge.svg\" alt=\"Open In Colab\"/></a>"
      ]
    },
    {
      "cell_type": "code",
      "execution_count": 82,
      "metadata": {
        "id": "BRKoOKRVQuS1"
      },
      "outputs": [],
      "source": [
        "import pandas as pd\n",
        "import numpy as np"
      ]
    },
    {
      "cell_type": "code",
      "source": [
        "data_austin = pd.read_csv('/content/student-por.csv', delimiter=';', header=0)"
      ],
      "metadata": {
        "id": "C-6xTGOqQ0xg"
      },
      "execution_count": 83,
      "outputs": []
    },
    {
      "cell_type": "code",
      "source": [
        "data_austin.shape"
      ],
      "metadata": {
        "colab": {
          "base_uri": "https://localhost:8080/"
        },
        "id": "25Py5IrW6-dx",
        "outputId": "93607e33-dbd8-4666-a626-cb8199b45f1f"
      },
      "execution_count": 84,
      "outputs": [
        {
          "output_type": "execute_result",
          "data": {
            "text/plain": [
              "(649, 33)"
            ]
          },
          "metadata": {},
          "execution_count": 84
        }
      ]
    },
    {
      "cell_type": "code",
      "source": [
        "data_austin.info()"
      ],
      "metadata": {
        "colab": {
          "base_uri": "https://localhost:8080/"
        },
        "id": "IDXbcBEnZpfb",
        "outputId": "fc574d77-971a-4721-fafa-7bc6d0e11ca7"
      },
      "execution_count": 85,
      "outputs": [
        {
          "output_type": "stream",
          "name": "stdout",
          "text": [
            "<class 'pandas.core.frame.DataFrame'>\n",
            "RangeIndex: 649 entries, 0 to 648\n",
            "Data columns (total 33 columns):\n",
            " #   Column      Non-Null Count  Dtype \n",
            "---  ------      --------------  ----- \n",
            " 0   school      649 non-null    object\n",
            " 1   sex         649 non-null    object\n",
            " 2   age         649 non-null    int64 \n",
            " 3   address     649 non-null    object\n",
            " 4   famsize     649 non-null    object\n",
            " 5   Pstatus     649 non-null    object\n",
            " 6   Medu        649 non-null    int64 \n",
            " 7   Fedu        649 non-null    int64 \n",
            " 8   Mjob        649 non-null    object\n",
            " 9   Fjob        649 non-null    object\n",
            " 10  reason      649 non-null    object\n",
            " 11  guardian    649 non-null    object\n",
            " 12  traveltime  649 non-null    int64 \n",
            " 13  studytime   649 non-null    int64 \n",
            " 14  failures    649 non-null    int64 \n",
            " 15  schoolsup   649 non-null    object\n",
            " 16  famsup      649 non-null    object\n",
            " 17  paid        649 non-null    object\n",
            " 18  activities  649 non-null    object\n",
            " 19  nursery     649 non-null    object\n",
            " 20  higher      649 non-null    object\n",
            " 21  internet    649 non-null    object\n",
            " 22  romantic    649 non-null    object\n",
            " 23  famrel      649 non-null    int64 \n",
            " 24  freetime    649 non-null    int64 \n",
            " 25  goout       649 non-null    int64 \n",
            " 26  Dalc        649 non-null    int64 \n",
            " 27  Walc        649 non-null    int64 \n",
            " 28  health      649 non-null    int64 \n",
            " 29  absences    649 non-null    int64 \n",
            " 30  G1          649 non-null    int64 \n",
            " 31  G2          649 non-null    int64 \n",
            " 32  G3          649 non-null    int64 \n",
            "dtypes: int64(16), object(17)\n",
            "memory usage: 167.4+ KB\n"
          ]
        }
      ]
    },
    {
      "cell_type": "markdown",
      "source": [
        "Counting the number of categorical and numerical columns:"
      ],
      "metadata": {
        "id": "gKxSy8G-6o4e"
      }
    },
    {
      "cell_type": "code",
      "source": [
        "print('Categorical columns are: ', len(data_austin.select_dtypes('object').columns))\n",
        "print('Numerical columns are: ', len(data_austin.select_dtypes('int64').columns))"
      ],
      "metadata": {
        "colab": {
          "base_uri": "https://localhost:8080/"
        },
        "id": "JRDBkHgu6Pvb",
        "outputId": "e25ef6f8-4728-4c58-c3c4-104960ec5400",
        "collapsed": true
      },
      "execution_count": 86,
      "outputs": [
        {
          "output_type": "stream",
          "name": "stdout",
          "text": [
            "Categorical columns are:  17\n",
            "Numerical columns are:  16\n"
          ]
        }
      ]
    },
    {
      "cell_type": "markdown",
      "source": [
        "Checking the missing values:"
      ],
      "metadata": {
        "id": "oYsuuKhiZ0yP"
      }
    },
    {
      "cell_type": "code",
      "source": [
        "data_austin.isnull().sum()"
      ],
      "metadata": {
        "colab": {
          "base_uri": "https://localhost:8080/"
        },
        "id": "rSvuLE1jZssw",
        "outputId": "0d4bc3f7-33d3-4519-80d5-cf142c4e270d"
      },
      "execution_count": 87,
      "outputs": [
        {
          "output_type": "execute_result",
          "data": {
            "text/plain": [
              "school        0\n",
              "sex           0\n",
              "age           0\n",
              "address       0\n",
              "famsize       0\n",
              "Pstatus       0\n",
              "Medu          0\n",
              "Fedu          0\n",
              "Mjob          0\n",
              "Fjob          0\n",
              "reason        0\n",
              "guardian      0\n",
              "traveltime    0\n",
              "studytime     0\n",
              "failures      0\n",
              "schoolsup     0\n",
              "famsup        0\n",
              "paid          0\n",
              "activities    0\n",
              "nursery       0\n",
              "higher        0\n",
              "internet      0\n",
              "romantic      0\n",
              "famrel        0\n",
              "freetime      0\n",
              "goout         0\n",
              "Dalc          0\n",
              "Walc          0\n",
              "health        0\n",
              "absences      0\n",
              "G1            0\n",
              "G2            0\n",
              "G3            0\n",
              "dtype: int64"
            ]
          },
          "metadata": {},
          "execution_count": 87
        }
      ]
    },
    {
      "cell_type": "markdown",
      "source": [
        "We find that there are no missing values in any of the columns."
      ],
      "metadata": {
        "id": "HfQO4L_8Z7st"
      }
    },
    {
      "cell_type": "code",
      "source": [
        "data_austin.mean()"
      ],
      "metadata": {
        "colab": {
          "base_uri": "https://localhost:8080/"
        },
        "id": "BbwqGY4DZ61e",
        "outputId": "9a8b8c73-ce36-46a1-f074-b3013b0af3e6"
      },
      "execution_count": 88,
      "outputs": [
        {
          "output_type": "stream",
          "name": "stderr",
          "text": [
            "/usr/local/lib/python3.7/dist-packages/ipykernel_launcher.py:1: FutureWarning: Dropping of nuisance columns in DataFrame reductions (with 'numeric_only=None') is deprecated; in a future version this will raise TypeError.  Select only valid columns before calling the reduction.\n",
            "  \"\"\"Entry point for launching an IPython kernel.\n"
          ]
        },
        {
          "output_type": "execute_result",
          "data": {
            "text/plain": [
              "age           16.744222\n",
              "Medu           2.514638\n",
              "Fedu           2.306626\n",
              "traveltime     1.568567\n",
              "studytime      1.930663\n",
              "failures       0.221880\n",
              "famrel         3.930663\n",
              "freetime       3.180277\n",
              "goout          3.184900\n",
              "Dalc           1.502311\n",
              "Walc           2.280431\n",
              "health         3.536210\n",
              "absences       3.659476\n",
              "G1            11.399076\n",
              "G2            11.570108\n",
              "G3            11.906009\n",
              "dtype: float64"
            ]
          },
          "metadata": {},
          "execution_count": 88
        }
      ]
    },
    {
      "cell_type": "code",
      "source": [
        "data_austin.min()"
      ],
      "metadata": {
        "colab": {
          "base_uri": "https://localhost:8080/"
        },
        "id": "fRs88xmyaE6u",
        "outputId": "7d1dff95-8dde-40ce-ee01-477771e37c46"
      },
      "execution_count": 89,
      "outputs": [
        {
          "output_type": "execute_result",
          "data": {
            "text/plain": [
              "school             GP\n",
              "sex                 F\n",
              "age                15\n",
              "address             R\n",
              "famsize           GT3\n",
              "Pstatus             A\n",
              "Medu                0\n",
              "Fedu                0\n",
              "Mjob          at_home\n",
              "Fjob          at_home\n",
              "reason         course\n",
              "guardian       father\n",
              "traveltime          1\n",
              "studytime           1\n",
              "failures            0\n",
              "schoolsup          no\n",
              "famsup             no\n",
              "paid               no\n",
              "activities         no\n",
              "nursery            no\n",
              "higher             no\n",
              "internet           no\n",
              "romantic           no\n",
              "famrel              1\n",
              "freetime            1\n",
              "goout               1\n",
              "Dalc                1\n",
              "Walc                1\n",
              "health              1\n",
              "absences            0\n",
              "G1                  0\n",
              "G2                  0\n",
              "G3                  0\n",
              "dtype: object"
            ]
          },
          "metadata": {},
          "execution_count": 89
        }
      ]
    },
    {
      "cell_type": "code",
      "source": [
        "data_austin.max()"
      ],
      "metadata": {
        "colab": {
          "base_uri": "https://localhost:8080/"
        },
        "id": "9rCYvpz4aLpu",
        "outputId": "b39fec81-135f-4432-fada-ac77805cca15"
      },
      "execution_count": 90,
      "outputs": [
        {
          "output_type": "execute_result",
          "data": {
            "text/plain": [
              "school                MS\n",
              "sex                    M\n",
              "age                   22\n",
              "address                U\n",
              "famsize              LE3\n",
              "Pstatus                T\n",
              "Medu                   4\n",
              "Fedu                   4\n",
              "Mjob             teacher\n",
              "Fjob             teacher\n",
              "reason        reputation\n",
              "guardian           other\n",
              "traveltime             4\n",
              "studytime              4\n",
              "failures               3\n",
              "schoolsup            yes\n",
              "famsup               yes\n",
              "paid                 yes\n",
              "activities           yes\n",
              "nursery              yes\n",
              "higher               yes\n",
              "internet             yes\n",
              "romantic             yes\n",
              "famrel                 5\n",
              "freetime               5\n",
              "goout                  5\n",
              "Dalc                   5\n",
              "Walc                   5\n",
              "health                 5\n",
              "absences              32\n",
              "G1                    19\n",
              "G2                    19\n",
              "G3                    19\n",
              "dtype: object"
            ]
          },
          "metadata": {},
          "execution_count": 90
        }
      ]
    },
    {
      "cell_type": "code",
      "source": [
        "data_austin.median()"
      ],
      "metadata": {
        "colab": {
          "base_uri": "https://localhost:8080/"
        },
        "id": "GsOvo2bUaNt5",
        "outputId": "eb048b69-4ac3-44a8-d21f-c12e4d2fa712"
      },
      "execution_count": 91,
      "outputs": [
        {
          "output_type": "stream",
          "name": "stderr",
          "text": [
            "/usr/local/lib/python3.7/dist-packages/ipykernel_launcher.py:1: FutureWarning: Dropping of nuisance columns in DataFrame reductions (with 'numeric_only=None') is deprecated; in a future version this will raise TypeError.  Select only valid columns before calling the reduction.\n",
            "  \"\"\"Entry point for launching an IPython kernel.\n"
          ]
        },
        {
          "output_type": "execute_result",
          "data": {
            "text/plain": [
              "age           17.0\n",
              "Medu           2.0\n",
              "Fedu           2.0\n",
              "traveltime     1.0\n",
              "studytime      2.0\n",
              "failures       0.0\n",
              "famrel         4.0\n",
              "freetime       3.0\n",
              "goout          3.0\n",
              "Dalc           1.0\n",
              "Walc           2.0\n",
              "health         4.0\n",
              "absences       2.0\n",
              "G1            11.0\n",
              "G2            11.0\n",
              "G3            12.0\n",
              "dtype: float64"
            ]
          },
          "metadata": {},
          "execution_count": 91
        }
      ]
    },
    {
      "cell_type": "code",
      "source": [
        "data_austin.count()"
      ],
      "metadata": {
        "colab": {
          "base_uri": "https://localhost:8080/"
        },
        "id": "sY5vinqyaQ0-",
        "outputId": "db947830-d004-4fa7-8c70-8bf97e5068f5"
      },
      "execution_count": 92,
      "outputs": [
        {
          "output_type": "execute_result",
          "data": {
            "text/plain": [
              "school        649\n",
              "sex           649\n",
              "age           649\n",
              "address       649\n",
              "famsize       649\n",
              "Pstatus       649\n",
              "Medu          649\n",
              "Fedu          649\n",
              "Mjob          649\n",
              "Fjob          649\n",
              "reason        649\n",
              "guardian      649\n",
              "traveltime    649\n",
              "studytime     649\n",
              "failures      649\n",
              "schoolsup     649\n",
              "famsup        649\n",
              "paid          649\n",
              "activities    649\n",
              "nursery       649\n",
              "higher        649\n",
              "internet      649\n",
              "romantic      649\n",
              "famrel        649\n",
              "freetime      649\n",
              "goout         649\n",
              "Dalc          649\n",
              "Walc          649\n",
              "health        649\n",
              "absences      649\n",
              "G1            649\n",
              "G2            649\n",
              "G3            649\n",
              "dtype: int64"
            ]
          },
          "metadata": {},
          "execution_count": 92
        }
      ]
    },
    {
      "cell_type": "markdown",
      "source": [
        "1. e) Finding all the categorical values:"
      ],
      "metadata": {
        "id": "nALrD14ga3mi"
      }
    },
    {
      "cell_type": "code",
      "source": [
        "data_austin.select_dtypes(['object'])"
      ],
      "metadata": {
        "colab": {
          "base_uri": "https://localhost:8080/",
          "height": 487
        },
        "id": "SqQfjNywaS5j",
        "outputId": "0ce8aeca-4bde-49ba-ecef-f9f65cbd675a"
      },
      "execution_count": 93,
      "outputs": [
        {
          "output_type": "execute_result",
          "data": {
            "text/plain": [
              "    school sex address famsize Pstatus      Mjob      Fjob  reason guardian  \\\n",
              "0       GP   F       U     GT3       A   at_home   teacher  course   mother   \n",
              "1       GP   F       U     GT3       T   at_home     other  course   father   \n",
              "2       GP   F       U     LE3       T   at_home     other   other   mother   \n",
              "3       GP   F       U     GT3       T    health  services    home   mother   \n",
              "4       GP   F       U     GT3       T     other     other    home   father   \n",
              "..     ...  ..     ...     ...     ...       ...       ...     ...      ...   \n",
              "644     MS   F       R     GT3       T  services     other  course   mother   \n",
              "645     MS   F       U     LE3       T   teacher  services  course   mother   \n",
              "646     MS   F       U     GT3       T     other     other  course   mother   \n",
              "647     MS   M       U     LE3       T  services  services  course   mother   \n",
              "648     MS   M       R     LE3       T  services     other  course   mother   \n",
              "\n",
              "    schoolsup famsup paid activities nursery higher internet romantic  \n",
              "0         yes     no   no         no     yes    yes       no       no  \n",
              "1          no    yes   no         no      no    yes      yes       no  \n",
              "2         yes     no   no         no     yes    yes      yes       no  \n",
              "3          no    yes   no        yes     yes    yes      yes      yes  \n",
              "4          no    yes   no         no     yes    yes       no       no  \n",
              "..        ...    ...  ...        ...     ...    ...      ...      ...  \n",
              "644        no     no   no        yes      no    yes      yes       no  \n",
              "645        no    yes   no         no     yes    yes      yes       no  \n",
              "646        no     no   no        yes     yes    yes       no       no  \n",
              "647        no     no   no         no      no    yes      yes       no  \n",
              "648        no     no   no         no      no    yes      yes       no  \n",
              "\n",
              "[649 rows x 17 columns]"
            ],
            "text/html": [
              "\n",
              "  <div id=\"df-4a3646bb-f451-4121-80be-e57690d60c54\">\n",
              "    <div class=\"colab-df-container\">\n",
              "      <div>\n",
              "<style scoped>\n",
              "    .dataframe tbody tr th:only-of-type {\n",
              "        vertical-align: middle;\n",
              "    }\n",
              "\n",
              "    .dataframe tbody tr th {\n",
              "        vertical-align: top;\n",
              "    }\n",
              "\n",
              "    .dataframe thead th {\n",
              "        text-align: right;\n",
              "    }\n",
              "</style>\n",
              "<table border=\"1\" class=\"dataframe\">\n",
              "  <thead>\n",
              "    <tr style=\"text-align: right;\">\n",
              "      <th></th>\n",
              "      <th>school</th>\n",
              "      <th>sex</th>\n",
              "      <th>address</th>\n",
              "      <th>famsize</th>\n",
              "      <th>Pstatus</th>\n",
              "      <th>Mjob</th>\n",
              "      <th>Fjob</th>\n",
              "      <th>reason</th>\n",
              "      <th>guardian</th>\n",
              "      <th>schoolsup</th>\n",
              "      <th>famsup</th>\n",
              "      <th>paid</th>\n",
              "      <th>activities</th>\n",
              "      <th>nursery</th>\n",
              "      <th>higher</th>\n",
              "      <th>internet</th>\n",
              "      <th>romantic</th>\n",
              "    </tr>\n",
              "  </thead>\n",
              "  <tbody>\n",
              "    <tr>\n",
              "      <th>0</th>\n",
              "      <td>GP</td>\n",
              "      <td>F</td>\n",
              "      <td>U</td>\n",
              "      <td>GT3</td>\n",
              "      <td>A</td>\n",
              "      <td>at_home</td>\n",
              "      <td>teacher</td>\n",
              "      <td>course</td>\n",
              "      <td>mother</td>\n",
              "      <td>yes</td>\n",
              "      <td>no</td>\n",
              "      <td>no</td>\n",
              "      <td>no</td>\n",
              "      <td>yes</td>\n",
              "      <td>yes</td>\n",
              "      <td>no</td>\n",
              "      <td>no</td>\n",
              "    </tr>\n",
              "    <tr>\n",
              "      <th>1</th>\n",
              "      <td>GP</td>\n",
              "      <td>F</td>\n",
              "      <td>U</td>\n",
              "      <td>GT3</td>\n",
              "      <td>T</td>\n",
              "      <td>at_home</td>\n",
              "      <td>other</td>\n",
              "      <td>course</td>\n",
              "      <td>father</td>\n",
              "      <td>no</td>\n",
              "      <td>yes</td>\n",
              "      <td>no</td>\n",
              "      <td>no</td>\n",
              "      <td>no</td>\n",
              "      <td>yes</td>\n",
              "      <td>yes</td>\n",
              "      <td>no</td>\n",
              "    </tr>\n",
              "    <tr>\n",
              "      <th>2</th>\n",
              "      <td>GP</td>\n",
              "      <td>F</td>\n",
              "      <td>U</td>\n",
              "      <td>LE3</td>\n",
              "      <td>T</td>\n",
              "      <td>at_home</td>\n",
              "      <td>other</td>\n",
              "      <td>other</td>\n",
              "      <td>mother</td>\n",
              "      <td>yes</td>\n",
              "      <td>no</td>\n",
              "      <td>no</td>\n",
              "      <td>no</td>\n",
              "      <td>yes</td>\n",
              "      <td>yes</td>\n",
              "      <td>yes</td>\n",
              "      <td>no</td>\n",
              "    </tr>\n",
              "    <tr>\n",
              "      <th>3</th>\n",
              "      <td>GP</td>\n",
              "      <td>F</td>\n",
              "      <td>U</td>\n",
              "      <td>GT3</td>\n",
              "      <td>T</td>\n",
              "      <td>health</td>\n",
              "      <td>services</td>\n",
              "      <td>home</td>\n",
              "      <td>mother</td>\n",
              "      <td>no</td>\n",
              "      <td>yes</td>\n",
              "      <td>no</td>\n",
              "      <td>yes</td>\n",
              "      <td>yes</td>\n",
              "      <td>yes</td>\n",
              "      <td>yes</td>\n",
              "      <td>yes</td>\n",
              "    </tr>\n",
              "    <tr>\n",
              "      <th>4</th>\n",
              "      <td>GP</td>\n",
              "      <td>F</td>\n",
              "      <td>U</td>\n",
              "      <td>GT3</td>\n",
              "      <td>T</td>\n",
              "      <td>other</td>\n",
              "      <td>other</td>\n",
              "      <td>home</td>\n",
              "      <td>father</td>\n",
              "      <td>no</td>\n",
              "      <td>yes</td>\n",
              "      <td>no</td>\n",
              "      <td>no</td>\n",
              "      <td>yes</td>\n",
              "      <td>yes</td>\n",
              "      <td>no</td>\n",
              "      <td>no</td>\n",
              "    </tr>\n",
              "    <tr>\n",
              "      <th>...</th>\n",
              "      <td>...</td>\n",
              "      <td>...</td>\n",
              "      <td>...</td>\n",
              "      <td>...</td>\n",
              "      <td>...</td>\n",
              "      <td>...</td>\n",
              "      <td>...</td>\n",
              "      <td>...</td>\n",
              "      <td>...</td>\n",
              "      <td>...</td>\n",
              "      <td>...</td>\n",
              "      <td>...</td>\n",
              "      <td>...</td>\n",
              "      <td>...</td>\n",
              "      <td>...</td>\n",
              "      <td>...</td>\n",
              "      <td>...</td>\n",
              "    </tr>\n",
              "    <tr>\n",
              "      <th>644</th>\n",
              "      <td>MS</td>\n",
              "      <td>F</td>\n",
              "      <td>R</td>\n",
              "      <td>GT3</td>\n",
              "      <td>T</td>\n",
              "      <td>services</td>\n",
              "      <td>other</td>\n",
              "      <td>course</td>\n",
              "      <td>mother</td>\n",
              "      <td>no</td>\n",
              "      <td>no</td>\n",
              "      <td>no</td>\n",
              "      <td>yes</td>\n",
              "      <td>no</td>\n",
              "      <td>yes</td>\n",
              "      <td>yes</td>\n",
              "      <td>no</td>\n",
              "    </tr>\n",
              "    <tr>\n",
              "      <th>645</th>\n",
              "      <td>MS</td>\n",
              "      <td>F</td>\n",
              "      <td>U</td>\n",
              "      <td>LE3</td>\n",
              "      <td>T</td>\n",
              "      <td>teacher</td>\n",
              "      <td>services</td>\n",
              "      <td>course</td>\n",
              "      <td>mother</td>\n",
              "      <td>no</td>\n",
              "      <td>yes</td>\n",
              "      <td>no</td>\n",
              "      <td>no</td>\n",
              "      <td>yes</td>\n",
              "      <td>yes</td>\n",
              "      <td>yes</td>\n",
              "      <td>no</td>\n",
              "    </tr>\n",
              "    <tr>\n",
              "      <th>646</th>\n",
              "      <td>MS</td>\n",
              "      <td>F</td>\n",
              "      <td>U</td>\n",
              "      <td>GT3</td>\n",
              "      <td>T</td>\n",
              "      <td>other</td>\n",
              "      <td>other</td>\n",
              "      <td>course</td>\n",
              "      <td>mother</td>\n",
              "      <td>no</td>\n",
              "      <td>no</td>\n",
              "      <td>no</td>\n",
              "      <td>yes</td>\n",
              "      <td>yes</td>\n",
              "      <td>yes</td>\n",
              "      <td>no</td>\n",
              "      <td>no</td>\n",
              "    </tr>\n",
              "    <tr>\n",
              "      <th>647</th>\n",
              "      <td>MS</td>\n",
              "      <td>M</td>\n",
              "      <td>U</td>\n",
              "      <td>LE3</td>\n",
              "      <td>T</td>\n",
              "      <td>services</td>\n",
              "      <td>services</td>\n",
              "      <td>course</td>\n",
              "      <td>mother</td>\n",
              "      <td>no</td>\n",
              "      <td>no</td>\n",
              "      <td>no</td>\n",
              "      <td>no</td>\n",
              "      <td>no</td>\n",
              "      <td>yes</td>\n",
              "      <td>yes</td>\n",
              "      <td>no</td>\n",
              "    </tr>\n",
              "    <tr>\n",
              "      <th>648</th>\n",
              "      <td>MS</td>\n",
              "      <td>M</td>\n",
              "      <td>R</td>\n",
              "      <td>LE3</td>\n",
              "      <td>T</td>\n",
              "      <td>services</td>\n",
              "      <td>other</td>\n",
              "      <td>course</td>\n",
              "      <td>mother</td>\n",
              "      <td>no</td>\n",
              "      <td>no</td>\n",
              "      <td>no</td>\n",
              "      <td>no</td>\n",
              "      <td>no</td>\n",
              "      <td>yes</td>\n",
              "      <td>yes</td>\n",
              "      <td>no</td>\n",
              "    </tr>\n",
              "  </tbody>\n",
              "</table>\n",
              "<p>649 rows × 17 columns</p>\n",
              "</div>\n",
              "      <button class=\"colab-df-convert\" onclick=\"convertToInteractive('df-4a3646bb-f451-4121-80be-e57690d60c54')\"\n",
              "              title=\"Convert this dataframe to an interactive table.\"\n",
              "              style=\"display:none;\">\n",
              "        \n",
              "  <svg xmlns=\"http://www.w3.org/2000/svg\" height=\"24px\"viewBox=\"0 0 24 24\"\n",
              "       width=\"24px\">\n",
              "    <path d=\"M0 0h24v24H0V0z\" fill=\"none\"/>\n",
              "    <path d=\"M18.56 5.44l.94 2.06.94-2.06 2.06-.94-2.06-.94-.94-2.06-.94 2.06-2.06.94zm-11 1L8.5 8.5l.94-2.06 2.06-.94-2.06-.94L8.5 2.5l-.94 2.06-2.06.94zm10 10l.94 2.06.94-2.06 2.06-.94-2.06-.94-.94-2.06-.94 2.06-2.06.94z\"/><path d=\"M17.41 7.96l-1.37-1.37c-.4-.4-.92-.59-1.43-.59-.52 0-1.04.2-1.43.59L10.3 9.45l-7.72 7.72c-.78.78-.78 2.05 0 2.83L4 21.41c.39.39.9.59 1.41.59.51 0 1.02-.2 1.41-.59l7.78-7.78 2.81-2.81c.8-.78.8-2.07 0-2.86zM5.41 20L4 18.59l7.72-7.72 1.47 1.35L5.41 20z\"/>\n",
              "  </svg>\n",
              "      </button>\n",
              "      \n",
              "  <style>\n",
              "    .colab-df-container {\n",
              "      display:flex;\n",
              "      flex-wrap:wrap;\n",
              "      gap: 12px;\n",
              "    }\n",
              "\n",
              "    .colab-df-convert {\n",
              "      background-color: #E8F0FE;\n",
              "      border: none;\n",
              "      border-radius: 50%;\n",
              "      cursor: pointer;\n",
              "      display: none;\n",
              "      fill: #1967D2;\n",
              "      height: 32px;\n",
              "      padding: 0 0 0 0;\n",
              "      width: 32px;\n",
              "    }\n",
              "\n",
              "    .colab-df-convert:hover {\n",
              "      background-color: #E2EBFA;\n",
              "      box-shadow: 0px 1px 2px rgba(60, 64, 67, 0.3), 0px 1px 3px 1px rgba(60, 64, 67, 0.15);\n",
              "      fill: #174EA6;\n",
              "    }\n",
              "\n",
              "    [theme=dark] .colab-df-convert {\n",
              "      background-color: #3B4455;\n",
              "      fill: #D2E3FC;\n",
              "    }\n",
              "\n",
              "    [theme=dark] .colab-df-convert:hover {\n",
              "      background-color: #434B5C;\n",
              "      box-shadow: 0px 1px 3px 1px rgba(0, 0, 0, 0.15);\n",
              "      filter: drop-shadow(0px 1px 2px rgba(0, 0, 0, 0.3));\n",
              "      fill: #FFFFFF;\n",
              "    }\n",
              "  </style>\n",
              "\n",
              "      <script>\n",
              "        const buttonEl =\n",
              "          document.querySelector('#df-4a3646bb-f451-4121-80be-e57690d60c54 button.colab-df-convert');\n",
              "        buttonEl.style.display =\n",
              "          google.colab.kernel.accessAllowed ? 'block' : 'none';\n",
              "\n",
              "        async function convertToInteractive(key) {\n",
              "          const element = document.querySelector('#df-4a3646bb-f451-4121-80be-e57690d60c54');\n",
              "          const dataTable =\n",
              "            await google.colab.kernel.invokeFunction('convertToInteractive',\n",
              "                                                     [key], {});\n",
              "          if (!dataTable) return;\n",
              "\n",
              "          const docLinkHtml = 'Like what you see? Visit the ' +\n",
              "            '<a target=\"_blank\" href=https://colab.research.google.com/notebooks/data_table.ipynb>data table notebook</a>'\n",
              "            + ' to learn more about interactive tables.';\n",
              "          element.innerHTML = '';\n",
              "          dataTable['output_type'] = 'display_data';\n",
              "          await google.colab.output.renderOutput(dataTable, element);\n",
              "          const docLink = document.createElement('div');\n",
              "          docLink.innerHTML = docLinkHtml;\n",
              "          element.appendChild(docLink);\n",
              "        }\n",
              "      </script>\n",
              "    </div>\n",
              "  </div>\n",
              "  "
            ]
          },
          "metadata": {},
          "execution_count": 93
        }
      ]
    },
    {
      "cell_type": "markdown",
      "source": [
        "3. Create a new target variable i.e. column name it pass_fristname, which will store the following per row:\n",
        "\n",
        "a. 1 : if the total of G1, G2, G3 is greater or equal to 35\n",
        "\n",
        "b. 0 : if the total of G1, G2, G3 is less than 35"
      ],
      "metadata": {
        "id": "uc15CE2Vtz83"
      }
    },
    {
      "cell_type": "code",
      "source": [
        "data_austin['pass_austin'] = np.where(data_austin['G1'] + data_austin['G2'] + data_austin['G3'] >= 35, 1, 0)\n",
        "data_austin['pass_austin']"
      ],
      "metadata": {
        "id": "yH63LNeBamat",
        "colab": {
          "base_uri": "https://localhost:8080/"
        },
        "outputId": "fcc91927-9887-4b83-d206-bb3250d81071"
      },
      "execution_count": 94,
      "outputs": [
        {
          "output_type": "execute_result",
          "data": {
            "text/plain": [
              "0      0\n",
              "1      0\n",
              "2      1\n",
              "3      1\n",
              "4      1\n",
              "      ..\n",
              "644    0\n",
              "645    1\n",
              "646    0\n",
              "647    0\n",
              "648    0\n",
              "Name: pass_austin, Length: 649, dtype: int64"
            ]
          },
          "metadata": {},
          "execution_count": 94
        }
      ]
    },
    {
      "cell_type": "markdown",
      "source": [
        "4. Drop the columns G1, G2, G3 permanently"
      ],
      "metadata": {
        "id": "Idu5G5yruPI9"
      }
    },
    {
      "cell_type": "code",
      "source": [
        "data_austin.drop(['G1', 'G2', 'G3'], axis=1, inplace=True)\n",
        "data_austin"
      ],
      "metadata": {
        "colab": {
          "base_uri": "https://localhost:8080/",
          "height": 487
        },
        "id": "D-9N03EwtbOL",
        "outputId": "28829eb2-4c4b-41ae-be53-cb0618b4481d"
      },
      "execution_count": 95,
      "outputs": [
        {
          "output_type": "execute_result",
          "data": {
            "text/plain": [
              "    school sex  age address famsize Pstatus  Medu  Fedu      Mjob      Fjob  \\\n",
              "0       GP   F   18       U     GT3       A     4     4   at_home   teacher   \n",
              "1       GP   F   17       U     GT3       T     1     1   at_home     other   \n",
              "2       GP   F   15       U     LE3       T     1     1   at_home     other   \n",
              "3       GP   F   15       U     GT3       T     4     2    health  services   \n",
              "4       GP   F   16       U     GT3       T     3     3     other     other   \n",
              "..     ...  ..  ...     ...     ...     ...   ...   ...       ...       ...   \n",
              "644     MS   F   19       R     GT3       T     2     3  services     other   \n",
              "645     MS   F   18       U     LE3       T     3     1   teacher  services   \n",
              "646     MS   F   18       U     GT3       T     1     1     other     other   \n",
              "647     MS   M   17       U     LE3       T     3     1  services  services   \n",
              "648     MS   M   18       R     LE3       T     3     2  services     other   \n",
              "\n",
              "     ... internet romantic  famrel  freetime  goout Dalc Walc health absences  \\\n",
              "0    ...       no       no       4         3      4    1    1      3        4   \n",
              "1    ...      yes       no       5         3      3    1    1      3        2   \n",
              "2    ...      yes       no       4         3      2    2    3      3        6   \n",
              "3    ...      yes      yes       3         2      2    1    1      5        0   \n",
              "4    ...       no       no       4         3      2    1    2      5        0   \n",
              "..   ...      ...      ...     ...       ...    ...  ...  ...    ...      ...   \n",
              "644  ...      yes       no       5         4      2    1    2      5        4   \n",
              "645  ...      yes       no       4         3      4    1    1      1        4   \n",
              "646  ...       no       no       1         1      1    1    1      5        6   \n",
              "647  ...      yes       no       2         4      5    3    4      2        6   \n",
              "648  ...      yes       no       4         4      1    3    4      5        4   \n",
              "\n",
              "    pass_austin  \n",
              "0             0  \n",
              "1             0  \n",
              "2             1  \n",
              "3             1  \n",
              "4             1  \n",
              "..          ...  \n",
              "644           0  \n",
              "645           1  \n",
              "646           0  \n",
              "647           0  \n",
              "648           0  \n",
              "\n",
              "[649 rows x 31 columns]"
            ],
            "text/html": [
              "\n",
              "  <div id=\"df-915f3e8a-1614-44c2-9137-9b82f7cd8c45\">\n",
              "    <div class=\"colab-df-container\">\n",
              "      <div>\n",
              "<style scoped>\n",
              "    .dataframe tbody tr th:only-of-type {\n",
              "        vertical-align: middle;\n",
              "    }\n",
              "\n",
              "    .dataframe tbody tr th {\n",
              "        vertical-align: top;\n",
              "    }\n",
              "\n",
              "    .dataframe thead th {\n",
              "        text-align: right;\n",
              "    }\n",
              "</style>\n",
              "<table border=\"1\" class=\"dataframe\">\n",
              "  <thead>\n",
              "    <tr style=\"text-align: right;\">\n",
              "      <th></th>\n",
              "      <th>school</th>\n",
              "      <th>sex</th>\n",
              "      <th>age</th>\n",
              "      <th>address</th>\n",
              "      <th>famsize</th>\n",
              "      <th>Pstatus</th>\n",
              "      <th>Medu</th>\n",
              "      <th>Fedu</th>\n",
              "      <th>Mjob</th>\n",
              "      <th>Fjob</th>\n",
              "      <th>...</th>\n",
              "      <th>internet</th>\n",
              "      <th>romantic</th>\n",
              "      <th>famrel</th>\n",
              "      <th>freetime</th>\n",
              "      <th>goout</th>\n",
              "      <th>Dalc</th>\n",
              "      <th>Walc</th>\n",
              "      <th>health</th>\n",
              "      <th>absences</th>\n",
              "      <th>pass_austin</th>\n",
              "    </tr>\n",
              "  </thead>\n",
              "  <tbody>\n",
              "    <tr>\n",
              "      <th>0</th>\n",
              "      <td>GP</td>\n",
              "      <td>F</td>\n",
              "      <td>18</td>\n",
              "      <td>U</td>\n",
              "      <td>GT3</td>\n",
              "      <td>A</td>\n",
              "      <td>4</td>\n",
              "      <td>4</td>\n",
              "      <td>at_home</td>\n",
              "      <td>teacher</td>\n",
              "      <td>...</td>\n",
              "      <td>no</td>\n",
              "      <td>no</td>\n",
              "      <td>4</td>\n",
              "      <td>3</td>\n",
              "      <td>4</td>\n",
              "      <td>1</td>\n",
              "      <td>1</td>\n",
              "      <td>3</td>\n",
              "      <td>4</td>\n",
              "      <td>0</td>\n",
              "    </tr>\n",
              "    <tr>\n",
              "      <th>1</th>\n",
              "      <td>GP</td>\n",
              "      <td>F</td>\n",
              "      <td>17</td>\n",
              "      <td>U</td>\n",
              "      <td>GT3</td>\n",
              "      <td>T</td>\n",
              "      <td>1</td>\n",
              "      <td>1</td>\n",
              "      <td>at_home</td>\n",
              "      <td>other</td>\n",
              "      <td>...</td>\n",
              "      <td>yes</td>\n",
              "      <td>no</td>\n",
              "      <td>5</td>\n",
              "      <td>3</td>\n",
              "      <td>3</td>\n",
              "      <td>1</td>\n",
              "      <td>1</td>\n",
              "      <td>3</td>\n",
              "      <td>2</td>\n",
              "      <td>0</td>\n",
              "    </tr>\n",
              "    <tr>\n",
              "      <th>2</th>\n",
              "      <td>GP</td>\n",
              "      <td>F</td>\n",
              "      <td>15</td>\n",
              "      <td>U</td>\n",
              "      <td>LE3</td>\n",
              "      <td>T</td>\n",
              "      <td>1</td>\n",
              "      <td>1</td>\n",
              "      <td>at_home</td>\n",
              "      <td>other</td>\n",
              "      <td>...</td>\n",
              "      <td>yes</td>\n",
              "      <td>no</td>\n",
              "      <td>4</td>\n",
              "      <td>3</td>\n",
              "      <td>2</td>\n",
              "      <td>2</td>\n",
              "      <td>3</td>\n",
              "      <td>3</td>\n",
              "      <td>6</td>\n",
              "      <td>1</td>\n",
              "    </tr>\n",
              "    <tr>\n",
              "      <th>3</th>\n",
              "      <td>GP</td>\n",
              "      <td>F</td>\n",
              "      <td>15</td>\n",
              "      <td>U</td>\n",
              "      <td>GT3</td>\n",
              "      <td>T</td>\n",
              "      <td>4</td>\n",
              "      <td>2</td>\n",
              "      <td>health</td>\n",
              "      <td>services</td>\n",
              "      <td>...</td>\n",
              "      <td>yes</td>\n",
              "      <td>yes</td>\n",
              "      <td>3</td>\n",
              "      <td>2</td>\n",
              "      <td>2</td>\n",
              "      <td>1</td>\n",
              "      <td>1</td>\n",
              "      <td>5</td>\n",
              "      <td>0</td>\n",
              "      <td>1</td>\n",
              "    </tr>\n",
              "    <tr>\n",
              "      <th>4</th>\n",
              "      <td>GP</td>\n",
              "      <td>F</td>\n",
              "      <td>16</td>\n",
              "      <td>U</td>\n",
              "      <td>GT3</td>\n",
              "      <td>T</td>\n",
              "      <td>3</td>\n",
              "      <td>3</td>\n",
              "      <td>other</td>\n",
              "      <td>other</td>\n",
              "      <td>...</td>\n",
              "      <td>no</td>\n",
              "      <td>no</td>\n",
              "      <td>4</td>\n",
              "      <td>3</td>\n",
              "      <td>2</td>\n",
              "      <td>1</td>\n",
              "      <td>2</td>\n",
              "      <td>5</td>\n",
              "      <td>0</td>\n",
              "      <td>1</td>\n",
              "    </tr>\n",
              "    <tr>\n",
              "      <th>...</th>\n",
              "      <td>...</td>\n",
              "      <td>...</td>\n",
              "      <td>...</td>\n",
              "      <td>...</td>\n",
              "      <td>...</td>\n",
              "      <td>...</td>\n",
              "      <td>...</td>\n",
              "      <td>...</td>\n",
              "      <td>...</td>\n",
              "      <td>...</td>\n",
              "      <td>...</td>\n",
              "      <td>...</td>\n",
              "      <td>...</td>\n",
              "      <td>...</td>\n",
              "      <td>...</td>\n",
              "      <td>...</td>\n",
              "      <td>...</td>\n",
              "      <td>...</td>\n",
              "      <td>...</td>\n",
              "      <td>...</td>\n",
              "      <td>...</td>\n",
              "    </tr>\n",
              "    <tr>\n",
              "      <th>644</th>\n",
              "      <td>MS</td>\n",
              "      <td>F</td>\n",
              "      <td>19</td>\n",
              "      <td>R</td>\n",
              "      <td>GT3</td>\n",
              "      <td>T</td>\n",
              "      <td>2</td>\n",
              "      <td>3</td>\n",
              "      <td>services</td>\n",
              "      <td>other</td>\n",
              "      <td>...</td>\n",
              "      <td>yes</td>\n",
              "      <td>no</td>\n",
              "      <td>5</td>\n",
              "      <td>4</td>\n",
              "      <td>2</td>\n",
              "      <td>1</td>\n",
              "      <td>2</td>\n",
              "      <td>5</td>\n",
              "      <td>4</td>\n",
              "      <td>0</td>\n",
              "    </tr>\n",
              "    <tr>\n",
              "      <th>645</th>\n",
              "      <td>MS</td>\n",
              "      <td>F</td>\n",
              "      <td>18</td>\n",
              "      <td>U</td>\n",
              "      <td>LE3</td>\n",
              "      <td>T</td>\n",
              "      <td>3</td>\n",
              "      <td>1</td>\n",
              "      <td>teacher</td>\n",
              "      <td>services</td>\n",
              "      <td>...</td>\n",
              "      <td>yes</td>\n",
              "      <td>no</td>\n",
              "      <td>4</td>\n",
              "      <td>3</td>\n",
              "      <td>4</td>\n",
              "      <td>1</td>\n",
              "      <td>1</td>\n",
              "      <td>1</td>\n",
              "      <td>4</td>\n",
              "      <td>1</td>\n",
              "    </tr>\n",
              "    <tr>\n",
              "      <th>646</th>\n",
              "      <td>MS</td>\n",
              "      <td>F</td>\n",
              "      <td>18</td>\n",
              "      <td>U</td>\n",
              "      <td>GT3</td>\n",
              "      <td>T</td>\n",
              "      <td>1</td>\n",
              "      <td>1</td>\n",
              "      <td>other</td>\n",
              "      <td>other</td>\n",
              "      <td>...</td>\n",
              "      <td>no</td>\n",
              "      <td>no</td>\n",
              "      <td>1</td>\n",
              "      <td>1</td>\n",
              "      <td>1</td>\n",
              "      <td>1</td>\n",
              "      <td>1</td>\n",
              "      <td>5</td>\n",
              "      <td>6</td>\n",
              "      <td>0</td>\n",
              "    </tr>\n",
              "    <tr>\n",
              "      <th>647</th>\n",
              "      <td>MS</td>\n",
              "      <td>M</td>\n",
              "      <td>17</td>\n",
              "      <td>U</td>\n",
              "      <td>LE3</td>\n",
              "      <td>T</td>\n",
              "      <td>3</td>\n",
              "      <td>1</td>\n",
              "      <td>services</td>\n",
              "      <td>services</td>\n",
              "      <td>...</td>\n",
              "      <td>yes</td>\n",
              "      <td>no</td>\n",
              "      <td>2</td>\n",
              "      <td>4</td>\n",
              "      <td>5</td>\n",
              "      <td>3</td>\n",
              "      <td>4</td>\n",
              "      <td>2</td>\n",
              "      <td>6</td>\n",
              "      <td>0</td>\n",
              "    </tr>\n",
              "    <tr>\n",
              "      <th>648</th>\n",
              "      <td>MS</td>\n",
              "      <td>M</td>\n",
              "      <td>18</td>\n",
              "      <td>R</td>\n",
              "      <td>LE3</td>\n",
              "      <td>T</td>\n",
              "      <td>3</td>\n",
              "      <td>2</td>\n",
              "      <td>services</td>\n",
              "      <td>other</td>\n",
              "      <td>...</td>\n",
              "      <td>yes</td>\n",
              "      <td>no</td>\n",
              "      <td>4</td>\n",
              "      <td>4</td>\n",
              "      <td>1</td>\n",
              "      <td>3</td>\n",
              "      <td>4</td>\n",
              "      <td>5</td>\n",
              "      <td>4</td>\n",
              "      <td>0</td>\n",
              "    </tr>\n",
              "  </tbody>\n",
              "</table>\n",
              "<p>649 rows × 31 columns</p>\n",
              "</div>\n",
              "      <button class=\"colab-df-convert\" onclick=\"convertToInteractive('df-915f3e8a-1614-44c2-9137-9b82f7cd8c45')\"\n",
              "              title=\"Convert this dataframe to an interactive table.\"\n",
              "              style=\"display:none;\">\n",
              "        \n",
              "  <svg xmlns=\"http://www.w3.org/2000/svg\" height=\"24px\"viewBox=\"0 0 24 24\"\n",
              "       width=\"24px\">\n",
              "    <path d=\"M0 0h24v24H0V0z\" fill=\"none\"/>\n",
              "    <path d=\"M18.56 5.44l.94 2.06.94-2.06 2.06-.94-2.06-.94-.94-2.06-.94 2.06-2.06.94zm-11 1L8.5 8.5l.94-2.06 2.06-.94-2.06-.94L8.5 2.5l-.94 2.06-2.06.94zm10 10l.94 2.06.94-2.06 2.06-.94-2.06-.94-.94-2.06-.94 2.06-2.06.94z\"/><path d=\"M17.41 7.96l-1.37-1.37c-.4-.4-.92-.59-1.43-.59-.52 0-1.04.2-1.43.59L10.3 9.45l-7.72 7.72c-.78.78-.78 2.05 0 2.83L4 21.41c.39.39.9.59 1.41.59.51 0 1.02-.2 1.41-.59l7.78-7.78 2.81-2.81c.8-.78.8-2.07 0-2.86zM5.41 20L4 18.59l7.72-7.72 1.47 1.35L5.41 20z\"/>\n",
              "  </svg>\n",
              "      </button>\n",
              "      \n",
              "  <style>\n",
              "    .colab-df-container {\n",
              "      display:flex;\n",
              "      flex-wrap:wrap;\n",
              "      gap: 12px;\n",
              "    }\n",
              "\n",
              "    .colab-df-convert {\n",
              "      background-color: #E8F0FE;\n",
              "      border: none;\n",
              "      border-radius: 50%;\n",
              "      cursor: pointer;\n",
              "      display: none;\n",
              "      fill: #1967D2;\n",
              "      height: 32px;\n",
              "      padding: 0 0 0 0;\n",
              "      width: 32px;\n",
              "    }\n",
              "\n",
              "    .colab-df-convert:hover {\n",
              "      background-color: #E2EBFA;\n",
              "      box-shadow: 0px 1px 2px rgba(60, 64, 67, 0.3), 0px 1px 3px 1px rgba(60, 64, 67, 0.15);\n",
              "      fill: #174EA6;\n",
              "    }\n",
              "\n",
              "    [theme=dark] .colab-df-convert {\n",
              "      background-color: #3B4455;\n",
              "      fill: #D2E3FC;\n",
              "    }\n",
              "\n",
              "    [theme=dark] .colab-df-convert:hover {\n",
              "      background-color: #434B5C;\n",
              "      box-shadow: 0px 1px 3px 1px rgba(0, 0, 0, 0.15);\n",
              "      filter: drop-shadow(0px 1px 2px rgba(0, 0, 0, 0.3));\n",
              "      fill: #FFFFFF;\n",
              "    }\n",
              "  </style>\n",
              "\n",
              "      <script>\n",
              "        const buttonEl =\n",
              "          document.querySelector('#df-915f3e8a-1614-44c2-9137-9b82f7cd8c45 button.colab-df-convert');\n",
              "        buttonEl.style.display =\n",
              "          google.colab.kernel.accessAllowed ? 'block' : 'none';\n",
              "\n",
              "        async function convertToInteractive(key) {\n",
              "          const element = document.querySelector('#df-915f3e8a-1614-44c2-9137-9b82f7cd8c45');\n",
              "          const dataTable =\n",
              "            await google.colab.kernel.invokeFunction('convertToInteractive',\n",
              "                                                     [key], {});\n",
              "          if (!dataTable) return;\n",
              "\n",
              "          const docLinkHtml = 'Like what you see? Visit the ' +\n",
              "            '<a target=\"_blank\" href=https://colab.research.google.com/notebooks/data_table.ipynb>data table notebook</a>'\n",
              "            + ' to learn more about interactive tables.';\n",
              "          element.innerHTML = '';\n",
              "          dataTable['output_type'] = 'display_data';\n",
              "          await google.colab.output.renderOutput(dataTable, element);\n",
              "          const docLink = document.createElement('div');\n",
              "          docLink.innerHTML = docLinkHtml;\n",
              "          element.appendChild(docLink);\n",
              "        }\n",
              "      </script>\n",
              "    </div>\n",
              "  </div>\n",
              "  "
            ]
          },
          "metadata": {},
          "execution_count": 95
        }
      ]
    },
    {
      "cell_type": "code",
      "source": [
        "# Separating target and feature columns\n",
        "target_variable_austin = data_austin['pass_austin']\n",
        "features_austin = data_austin.drop('pass_austin', axis=1)"
      ],
      "metadata": {
        "id": "IxKlddJGuj-g"
      },
      "execution_count": 96,
      "outputs": []
    },
    {
      "cell_type": "code",
      "source": [
        "# Total number of instances in each target class\n",
        "target_variable_austin.value_counts()"
      ],
      "metadata": {
        "colab": {
          "base_uri": "https://localhost:8080/"
        },
        "id": "vYNMLkp_vUfA",
        "outputId": "0470fc54-b091-4307-e6af-a211a8e2b606"
      },
      "execution_count": 97,
      "outputs": [
        {
          "output_type": "execute_result",
          "data": {
            "text/plain": [
              "1    328\n",
              "0    321\n",
              "Name: pass_austin, dtype: int64"
            ]
          },
          "metadata": {},
          "execution_count": 97
        }
      ]
    },
    {
      "cell_type": "markdown",
      "source": [
        "We have 328 values for the class 1 and 321 values for the class 0. This is not a highly unbalanced dataset as the number of each values are almost same."
      ],
      "metadata": {
        "id": "rzo6RzXHvhiy"
      }
    },
    {
      "cell_type": "code",
      "source": [
        "# Separating numeric and categorical feature columns\n",
        "numeric_features_austin = features_austin.select_dtypes('int64').columns.tolist()\n",
        "cat_features_austin = features_austin.select_dtypes('object').columns.tolist()"
      ],
      "metadata": {
        "id": "rqLS8TfxwcdK"
      },
      "execution_count": 98,
      "outputs": []
    },
    {
      "cell_type": "code",
      "source": [
        "# Transforming categorical columns to numeric columns using OHE\n",
        "from sklearn.compose import ColumnTransformer\n",
        "from sklearn.preprocessing import OneHotEncoder\n",
        "\n",
        "transformer_austin = ColumnTransformer([\n",
        "    ('ohe', OneHotEncoder(), cat_features_austin)\n",
        "], remainder='passthrough', verbose_feature_names_out=False)  # remainder='passthrough' because we need to preserve the rest of the columns.\n",
        "                                                              # verbose_feature_names_out=False to avoid appending the transformer name in the feature_names_out output."
      ],
      "metadata": {
        "id": "ZV7_phmfxh7F"
      },
      "execution_count": 99,
      "outputs": []
    },
    {
      "cell_type": "code",
      "source": [
        "# Preparing decision tree clasifier\n",
        "from sklearn.tree import DecisionTreeClassifier\n",
        "clf_austin = DecisionTreeClassifier(criterion='entropy', max_depth=5)"
      ],
      "metadata": {
        "id": "ah0qkZJOzYM3"
      },
      "execution_count": 100,
      "outputs": []
    },
    {
      "cell_type": "code",
      "source": [
        "# Building pipeline\n",
        "from sklearn.pipeline import Pipeline\n",
        "\n",
        "pipeline_austin = Pipeline([\n",
        "                            ('ohe_transformer', transformer_austin),\n",
        "                            ('dt_classifier', clf_austin)\n",
        "])"
      ],
      "metadata": {
        "id": "-ZUzv1VQ21ga"
      },
      "execution_count": 101,
      "outputs": []
    },
    {
      "cell_type": "code",
      "source": [
        "# Splitting dataset to 80-20 train-test splits\n",
        "from sklearn.model_selection import train_test_split\n",
        "\n",
        "X_train_austin, X_test_austin, y_train_austin, y_test_austin = train_test_split(features_austin, target_variable_austin, test_size=0.2, random_state=np.random.seed(83))"
      ],
      "metadata": {
        "id": "NcHYck-O3VBT"
      },
      "execution_count": 103,
      "outputs": []
    },
    {
      "cell_type": "code",
      "source": [
        "# Fitting training data to pipeline\n",
        "x, y = pipeline_austin.fit(X_train_austin, y_train_austin)\n",
        "X_train_austin_transformed = transformer_austin.fit_transform(X_train_austin)\n",
        "X_test_austin_transformed = transformer_austin.fit_transform(X_test_austin)"
      ],
      "metadata": {
        "id": "psIjSIw84Ni0"
      },
      "execution_count": 106,
      "outputs": []
    },
    {
      "cell_type": "code",
      "source": [
        "# Performing cross validation with cv=10\n",
        "from sklearn.model_selection import cross_val_score\n",
        "\n",
        "scores = cross_val_score(clf_austin, X_train_austin_transformed, y_train_austin, cv=10)\n",
        "\n",
        "def display_scores(scores):\n",
        "    print(\"Scores:\", scores)\n",
        "    print(\"Mean:\", scores.mean())\n",
        "    print(\"Standard deviation:\", scores.std())\n",
        "\n",
        "display_scores(scores)"
      ],
      "metadata": {
        "colab": {
          "base_uri": "https://localhost:8080/"
        },
        "id": "OdIWUd8W8VNx",
        "outputId": "69ced763-c2f0-4c43-a674-591335f67946"
      },
      "execution_count": 104,
      "outputs": [
        {
          "output_type": "stream",
          "name": "stdout",
          "text": [
            "Scores: [0.61538462 0.65384615 0.67307692 0.65384615 0.73076923 0.59615385\n",
            " 0.82692308 0.61538462 0.63461538 0.66666667]\n",
            "Mean: 0.6666666666666667\n",
            "Standard deviation: 0.06435846357954426\n"
          ]
        }
      ]
    },
    {
      "cell_type": "markdown",
      "source": [
        "Visualizing the decision tree using Graphviz"
      ],
      "metadata": {
        "id": "3Oi9lRjbwwIX"
      }
    },
    {
      "cell_type": "code",
      "source": [
        "import graphviz\n",
        "from sklearn import tree\n",
        "\n",
        "columns = transformer_austin.get_feature_names_out()\n",
        "dot_data = tree.export_graphviz(clf_austin, max_depth=5, feature_names=columns)\n",
        "graph = graphviz.Source(dot_data)\n",
        "graph.render('pima')\n",
        "graph.save('austinjoyal_decisiontree.dot')\n",
        "graph"
      ],
      "metadata": {
        "colab": {
          "base_uri": "https://localhost:8080/",
          "height": 815
        },
        "id": "yEFocWen-yG9",
        "outputId": "8d11d52d-be59-43c5-c716-0c9ceabfc8dd"
      },
      "execution_count": 107,
      "outputs": [
        {
          "output_type": "execute_result",
          "data": {
            "text/plain": [
              "<graphviz.files.Source at 0x7f18679782d0>"
            ],
            "image/svg+xml": "<?xml version=\"1.0\" encoding=\"UTF-8\" standalone=\"no\"?>\n<!DOCTYPE svg PUBLIC \"-//W3C//DTD SVG 1.1//EN\"\n \"http://www.w3.org/Graphics/SVG/1.1/DTD/svg11.dtd\">\n<!-- Generated by graphviz version 2.40.1 (20161225.0304)\n -->\n<!-- Title: Tree Pages: 1 -->\n<svg width=\"1814pt\" height=\"581pt\"\n viewBox=\"0.00 0.00 1814.00 581.00\" xmlns=\"http://www.w3.org/2000/svg\" xmlns:xlink=\"http://www.w3.org/1999/xlink\">\n<g id=\"graph0\" class=\"graph\" transform=\"scale(1 1) rotate(0) translate(4 577)\">\n<title>Tree</title>\n<polygon fill=\"#ffffff\" stroke=\"transparent\" points=\"-4,4 -4,-577 1810,-577 1810,4 -4,4\"/>\n<!-- 0 -->\n<g id=\"node1\" class=\"node\">\n<title>0</title>\n<polygon fill=\"none\" stroke=\"#000000\" points=\"1257,-573 1125,-573 1125,-505 1257,-505 1257,-573\"/>\n<text text-anchor=\"middle\" x=\"1191\" y=\"-557.8\" font-family=\"Helvetica,sans-Serif\" font-size=\"14.00\" fill=\"#000000\">failures &lt;= 0.5</text>\n<text text-anchor=\"middle\" x=\"1191\" y=\"-542.8\" font-family=\"Helvetica,sans-Serif\" font-size=\"14.00\" fill=\"#000000\">entropy = 1.0</text>\n<text text-anchor=\"middle\" x=\"1191\" y=\"-527.8\" font-family=\"Helvetica,sans-Serif\" font-size=\"14.00\" fill=\"#000000\">samples = 519</text>\n<text text-anchor=\"middle\" x=\"1191\" y=\"-512.8\" font-family=\"Helvetica,sans-Serif\" font-size=\"14.00\" fill=\"#000000\">value = [259, 260]</text>\n</g>\n<!-- 1 -->\n<g id=\"node2\" class=\"node\">\n<title>1</title>\n<polygon fill=\"none\" stroke=\"#000000\" points=\"1088,-469 956,-469 956,-401 1088,-401 1088,-469\"/>\n<text text-anchor=\"middle\" x=\"1022\" y=\"-453.8\" font-family=\"Helvetica,sans-Serif\" font-size=\"14.00\" fill=\"#000000\">higher_no &lt;= 0.5</text>\n<text text-anchor=\"middle\" x=\"1022\" y=\"-438.8\" font-family=\"Helvetica,sans-Serif\" font-size=\"14.00\" fill=\"#000000\">entropy = 0.981</text>\n<text text-anchor=\"middle\" x=\"1022\" y=\"-423.8\" font-family=\"Helvetica,sans-Serif\" font-size=\"14.00\" fill=\"#000000\">samples = 436</text>\n<text text-anchor=\"middle\" x=\"1022\" y=\"-408.8\" font-family=\"Helvetica,sans-Serif\" font-size=\"14.00\" fill=\"#000000\">value = [183, 253]</text>\n</g>\n<!-- 0&#45;&gt;1 -->\n<g id=\"edge1\" class=\"edge\">\n<title>0&#45;&gt;1</title>\n<path fill=\"none\" stroke=\"#000000\" d=\"M1135.6631,-504.9465C1119.9058,-495.2497 1102.6063,-484.6039 1086.3613,-474.6069\"/>\n<polygon fill=\"#000000\" stroke=\"#000000\" points=\"1087.8122,-471.3902 1077.4612,-469.13 1084.1435,-477.3518 1087.8122,-471.3902\"/>\n<text text-anchor=\"middle\" x=\"1083.2518\" y=\"-489.7502\" font-family=\"Helvetica,sans-Serif\" font-size=\"14.00\" fill=\"#000000\">True</text>\n</g>\n<!-- 24 -->\n<g id=\"node25\" class=\"node\">\n<title>24</title>\n<polygon fill=\"none\" stroke=\"#000000\" points=\"1263.5,-469 1130.5,-469 1130.5,-401 1263.5,-401 1263.5,-469\"/>\n<text text-anchor=\"middle\" x=\"1197\" y=\"-453.8\" font-family=\"Helvetica,sans-Serif\" font-size=\"14.00\" fill=\"#000000\">higher_yes &lt;= 0.5</text>\n<text text-anchor=\"middle\" x=\"1197\" y=\"-438.8\" font-family=\"Helvetica,sans-Serif\" font-size=\"14.00\" fill=\"#000000\">entropy = 0.417</text>\n<text text-anchor=\"middle\" x=\"1197\" y=\"-423.8\" font-family=\"Helvetica,sans-Serif\" font-size=\"14.00\" fill=\"#000000\">samples = 83</text>\n<text text-anchor=\"middle\" x=\"1197\" y=\"-408.8\" font-family=\"Helvetica,sans-Serif\" font-size=\"14.00\" fill=\"#000000\">value = [76, 7]</text>\n</g>\n<!-- 0&#45;&gt;24 -->\n<g id=\"edge24\" class=\"edge\">\n<title>0&#45;&gt;24</title>\n<path fill=\"none\" stroke=\"#000000\" d=\"M1192.9646,-504.9465C1193.436,-496.776 1193.9462,-487.9318 1194.4402,-479.3697\"/>\n<polygon fill=\"#000000\" stroke=\"#000000\" points=\"1197.9491,-479.315 1195.031,-469.13 1190.9607,-478.9118 1197.9491,-479.315\"/>\n<text text-anchor=\"middle\" x=\"1211.6611\" y=\"-484.0965\" font-family=\"Helvetica,sans-Serif\" font-size=\"14.00\" fill=\"#000000\">False</text>\n</g>\n<!-- 2 -->\n<g id=\"node3\" class=\"node\">\n<title>2</title>\n<polygon fill=\"none\" stroke=\"#000000\" points=\"885,-365 753,-365 753,-297 885,-297 885,-365\"/>\n<text text-anchor=\"middle\" x=\"819\" y=\"-349.8\" font-family=\"Helvetica,sans-Serif\" font-size=\"14.00\" fill=\"#000000\">Walc &lt;= 3.5</text>\n<text text-anchor=\"middle\" x=\"819\" y=\"-334.8\" font-family=\"Helvetica,sans-Serif\" font-size=\"14.00\" fill=\"#000000\">entropy = 0.962</text>\n<text text-anchor=\"middle\" x=\"819\" y=\"-319.8\" font-family=\"Helvetica,sans-Serif\" font-size=\"14.00\" fill=\"#000000\">samples = 409</text>\n<text text-anchor=\"middle\" x=\"819\" y=\"-304.8\" font-family=\"Helvetica,sans-Serif\" font-size=\"14.00\" fill=\"#000000\">value = [158, 251]</text>\n</g>\n<!-- 1&#45;&gt;2 -->\n<g id=\"edge2\" class=\"edge\">\n<title>1&#45;&gt;2</title>\n<path fill=\"none\" stroke=\"#000000\" d=\"M955.8111,-401.0904C936.1454,-391.0154 914.4594,-379.9053 894.2617,-369.5577\"/>\n<polygon fill=\"#000000\" stroke=\"#000000\" points=\"895.5949,-366.3082 885.099,-364.8635 892.4031,-372.5382 895.5949,-366.3082\"/>\n</g>\n<!-- 17 -->\n<g id=\"node18\" class=\"node\">\n<title>17</title>\n<polygon fill=\"none\" stroke=\"#000000\" points=\"1089,-365 955,-365 955,-297 1089,-297 1089,-365\"/>\n<text text-anchor=\"middle\" x=\"1022\" y=\"-349.8\" font-family=\"Helvetica,sans-Serif\" font-size=\"14.00\" fill=\"#000000\">Mjob_other &lt;= 0.5</text>\n<text text-anchor=\"middle\" x=\"1022\" y=\"-334.8\" font-family=\"Helvetica,sans-Serif\" font-size=\"14.00\" fill=\"#000000\">entropy = 0.381</text>\n<text text-anchor=\"middle\" x=\"1022\" y=\"-319.8\" font-family=\"Helvetica,sans-Serif\" font-size=\"14.00\" fill=\"#000000\">samples = 27</text>\n<text text-anchor=\"middle\" x=\"1022\" y=\"-304.8\" font-family=\"Helvetica,sans-Serif\" font-size=\"14.00\" fill=\"#000000\">value = [25, 2]</text>\n</g>\n<!-- 1&#45;&gt;17 -->\n<g id=\"edge17\" class=\"edge\">\n<title>1&#45;&gt;17</title>\n<path fill=\"none\" stroke=\"#000000\" d=\"M1022,-400.9465C1022,-392.776 1022,-383.9318 1022,-375.3697\"/>\n<polygon fill=\"#000000\" stroke=\"#000000\" points=\"1025.5001,-375.13 1022,-365.13 1018.5001,-375.13 1025.5001,-375.13\"/>\n</g>\n<!-- 3 -->\n<g id=\"node4\" class=\"node\">\n<title>3</title>\n<polygon fill=\"none\" stroke=\"#000000\" points=\"482,-261 348,-261 348,-193 482,-193 482,-261\"/>\n<text text-anchor=\"middle\" x=\"415\" y=\"-245.8\" font-family=\"Helvetica,sans-Serif\" font-size=\"14.00\" fill=\"#000000\">school_MS &lt;= 0.5</text>\n<text text-anchor=\"middle\" x=\"415\" y=\"-230.8\" font-family=\"Helvetica,sans-Serif\" font-size=\"14.00\" fill=\"#000000\">entropy = 0.922</text>\n<text text-anchor=\"middle\" x=\"415\" y=\"-215.8\" font-family=\"Helvetica,sans-Serif\" font-size=\"14.00\" fill=\"#000000\">samples = 335</text>\n<text text-anchor=\"middle\" x=\"415\" y=\"-200.8\" font-family=\"Helvetica,sans-Serif\" font-size=\"14.00\" fill=\"#000000\">value = [113, 222]</text>\n</g>\n<!-- 2&#45;&gt;3 -->\n<g id=\"edge3\" class=\"edge\">\n<title>2&#45;&gt;3</title>\n<path fill=\"none\" stroke=\"#000000\" d=\"M752.74,-313.943C681.2923,-295.5505 567.6764,-266.3028 492.2305,-246.8811\"/>\n<polygon fill=\"#000000\" stroke=\"#000000\" points=\"492.8634,-243.43 482.3065,-244.3264 491.1182,-250.209 492.8634,-243.43\"/>\n</g>\n<!-- 10 -->\n<g id=\"node11\" class=\"node\">\n<title>10</title>\n<polygon fill=\"none\" stroke=\"#000000\" points=\"878,-261 760,-261 760,-193 878,-193 878,-261\"/>\n<text text-anchor=\"middle\" x=\"819\" y=\"-245.8\" font-family=\"Helvetica,sans-Serif\" font-size=\"14.00\" fill=\"#000000\">Fedu &lt;= 2.5</text>\n<text text-anchor=\"middle\" x=\"819\" y=\"-230.8\" font-family=\"Helvetica,sans-Serif\" font-size=\"14.00\" fill=\"#000000\">entropy = 0.966</text>\n<text text-anchor=\"middle\" x=\"819\" y=\"-215.8\" font-family=\"Helvetica,sans-Serif\" font-size=\"14.00\" fill=\"#000000\">samples = 74</text>\n<text text-anchor=\"middle\" x=\"819\" y=\"-200.8\" font-family=\"Helvetica,sans-Serif\" font-size=\"14.00\" fill=\"#000000\">value = [45, 29]</text>\n</g>\n<!-- 2&#45;&gt;10 -->\n<g id=\"edge10\" class=\"edge\">\n<title>2&#45;&gt;10</title>\n<path fill=\"none\" stroke=\"#000000\" d=\"M819,-296.9465C819,-288.776 819,-279.9318 819,-271.3697\"/>\n<polygon fill=\"#000000\" stroke=\"#000000\" points=\"822.5001,-271.13 819,-261.13 815.5001,-271.13 822.5001,-271.13\"/>\n</g>\n<!-- 4 -->\n<g id=\"node5\" class=\"node\">\n<title>4</title>\n<polygon fill=\"none\" stroke=\"#000000\" points=\"263,-157 139,-157 139,-89 263,-89 263,-157\"/>\n<text text-anchor=\"middle\" x=\"201\" y=\"-141.8\" font-family=\"Helvetica,sans-Serif\" font-size=\"14.00\" fill=\"#000000\">Medu &lt;= 3.5</text>\n<text text-anchor=\"middle\" x=\"201\" y=\"-126.8\" font-family=\"Helvetica,sans-Serif\" font-size=\"14.00\" fill=\"#000000\">entropy = 0.851</text>\n<text text-anchor=\"middle\" x=\"201\" y=\"-111.8\" font-family=\"Helvetica,sans-Serif\" font-size=\"14.00\" fill=\"#000000\">samples = 242</text>\n<text text-anchor=\"middle\" x=\"201\" y=\"-96.8\" font-family=\"Helvetica,sans-Serif\" font-size=\"14.00\" fill=\"#000000\">value = [67, 175]</text>\n</g>\n<!-- 3&#45;&gt;4 -->\n<g id=\"edge4\" class=\"edge\">\n<title>3&#45;&gt;4</title>\n<path fill=\"none\" stroke=\"#000000\" d=\"M347.8762,-194.3791C323.8555,-182.7055 296.7061,-169.5114 272.3417,-157.6707\"/>\n<polygon fill=\"#000000\" stroke=\"#000000\" points=\"273.6766,-154.4281 263.1525,-153.205 270.6168,-160.724 273.6766,-154.4281\"/>\n</g>\n<!-- 7 -->\n<g id=\"node8\" class=\"node\">\n<title>7</title>\n<polygon fill=\"none\" stroke=\"#000000\" points=\"494,-157 336,-157 336,-89 494,-89 494,-157\"/>\n<text text-anchor=\"middle\" x=\"415\" y=\"-141.8\" font-family=\"Helvetica,sans-Serif\" font-size=\"14.00\" fill=\"#000000\">Mjob_at_home &lt;= 0.5</text>\n<text text-anchor=\"middle\" x=\"415\" y=\"-126.8\" font-family=\"Helvetica,sans-Serif\" font-size=\"14.00\" fill=\"#000000\">entropy = 1.0</text>\n<text text-anchor=\"middle\" x=\"415\" y=\"-111.8\" font-family=\"Helvetica,sans-Serif\" font-size=\"14.00\" fill=\"#000000\">samples = 93</text>\n<text text-anchor=\"middle\" x=\"415\" y=\"-96.8\" font-family=\"Helvetica,sans-Serif\" font-size=\"14.00\" fill=\"#000000\">value = [46, 47]</text>\n</g>\n<!-- 3&#45;&gt;7 -->\n<g id=\"edge7\" class=\"edge\">\n<title>3&#45;&gt;7</title>\n<path fill=\"none\" stroke=\"#000000\" d=\"M415,-192.9465C415,-184.776 415,-175.9318 415,-167.3697\"/>\n<polygon fill=\"#000000\" stroke=\"#000000\" points=\"418.5001,-167.13 415,-157.13 411.5001,-167.13 418.5001,-167.13\"/>\n</g>\n<!-- 5 -->\n<g id=\"node6\" class=\"node\">\n<title>5</title>\n<polygon fill=\"none\" stroke=\"#000000\" points=\"124,-53 0,-53 0,0 124,0 124,-53\"/>\n<text text-anchor=\"middle\" x=\"62\" y=\"-37.8\" font-family=\"Helvetica,sans-Serif\" font-size=\"14.00\" fill=\"#000000\">entropy = 0.916</text>\n<text text-anchor=\"middle\" x=\"62\" y=\"-22.8\" font-family=\"Helvetica,sans-Serif\" font-size=\"14.00\" fill=\"#000000\">samples = 157</text>\n<text text-anchor=\"middle\" x=\"62\" y=\"-7.8\" font-family=\"Helvetica,sans-Serif\" font-size=\"14.00\" fill=\"#000000\">value = [52, 105]</text>\n</g>\n<!-- 4&#45;&gt;5 -->\n<g id=\"edge5\" class=\"edge\">\n<title>4&#45;&gt;5</title>\n<path fill=\"none\" stroke=\"#000000\" d=\"M151.9938,-88.9777C138.0126,-79.2713 122.8162,-68.7213 108.9602,-59.1018\"/>\n<polygon fill=\"#000000\" stroke=\"#000000\" points=\"110.7394,-56.0763 100.5289,-53.2485 106.7474,-61.8264 110.7394,-56.0763\"/>\n</g>\n<!-- 6 -->\n<g id=\"node7\" class=\"node\">\n<title>6</title>\n<polygon fill=\"none\" stroke=\"#000000\" points=\"260,-53 142,-53 142,0 260,0 260,-53\"/>\n<text text-anchor=\"middle\" x=\"201\" y=\"-37.8\" font-family=\"Helvetica,sans-Serif\" font-size=\"14.00\" fill=\"#000000\">entropy = 0.672</text>\n<text text-anchor=\"middle\" x=\"201\" y=\"-22.8\" font-family=\"Helvetica,sans-Serif\" font-size=\"14.00\" fill=\"#000000\">samples = 85</text>\n<text text-anchor=\"middle\" x=\"201\" y=\"-7.8\" font-family=\"Helvetica,sans-Serif\" font-size=\"14.00\" fill=\"#000000\">value = [15, 70]</text>\n</g>\n<!-- 4&#45;&gt;6 -->\n<g id=\"edge6\" class=\"edge\">\n<title>4&#45;&gt;6</title>\n<path fill=\"none\" stroke=\"#000000\" d=\"M201,-88.9777C201,-80.7364 201,-71.887 201,-63.5153\"/>\n<polygon fill=\"#000000\" stroke=\"#000000\" points=\"204.5001,-63.2484 201,-53.2485 197.5001,-63.2485 204.5001,-63.2484\"/>\n</g>\n<!-- 8 -->\n<g id=\"node9\" class=\"node\">\n<title>8</title>\n<polygon fill=\"none\" stroke=\"#000000\" points=\"396,-53 278,-53 278,0 396,0 396,-53\"/>\n<text text-anchor=\"middle\" x=\"337\" y=\"-37.8\" font-family=\"Helvetica,sans-Serif\" font-size=\"14.00\" fill=\"#000000\">entropy = 0.973</text>\n<text text-anchor=\"middle\" x=\"337\" y=\"-22.8\" font-family=\"Helvetica,sans-Serif\" font-size=\"14.00\" fill=\"#000000\">samples = 67</text>\n<text text-anchor=\"middle\" x=\"337\" y=\"-7.8\" font-family=\"Helvetica,sans-Serif\" font-size=\"14.00\" fill=\"#000000\">value = [27, 40]</text>\n</g>\n<!-- 7&#45;&gt;8 -->\n<g id=\"edge8\" class=\"edge\">\n<title>7&#45;&gt;8</title>\n<path fill=\"none\" stroke=\"#000000\" d=\"M387.5001,-88.9777C380.2467,-80.0039 372.4103,-70.3089 365.1244,-61.295\"/>\n<polygon fill=\"#000000\" stroke=\"#000000\" points=\"367.6288,-58.8255 358.6205,-53.2485 362.1847,-63.2258 367.6288,-58.8255\"/>\n</g>\n<!-- 9 -->\n<g id=\"node10\" class=\"node\">\n<title>9</title>\n<polygon fill=\"none\" stroke=\"#000000\" points=\"524,-53 414,-53 414,0 524,0 524,-53\"/>\n<text text-anchor=\"middle\" x=\"469\" y=\"-37.8\" font-family=\"Helvetica,sans-Serif\" font-size=\"14.00\" fill=\"#000000\">entropy = 0.84</text>\n<text text-anchor=\"middle\" x=\"469\" y=\"-22.8\" font-family=\"Helvetica,sans-Serif\" font-size=\"14.00\" fill=\"#000000\">samples = 26</text>\n<text text-anchor=\"middle\" x=\"469\" y=\"-7.8\" font-family=\"Helvetica,sans-Serif\" font-size=\"14.00\" fill=\"#000000\">value = [19, 7]</text>\n</g>\n<!-- 7&#45;&gt;9 -->\n<g id=\"edge9\" class=\"edge\">\n<title>7&#45;&gt;9</title>\n<path fill=\"none\" stroke=\"#000000\" d=\"M434.0384,-88.9777C438.9063,-80.2786 444.1534,-70.9018 449.065,-62.1247\"/>\n<polygon fill=\"#000000\" stroke=\"#000000\" points=\"452.2029,-63.6843 454.0319,-53.2485 446.0943,-60.2659 452.2029,-63.6843\"/>\n</g>\n<!-- 11 -->\n<g id=\"node12\" class=\"node\">\n<title>11</title>\n<polygon fill=\"none\" stroke=\"#000000\" points=\"784.5,-157 635.5,-157 635.5,-89 784.5,-89 784.5,-157\"/>\n<text text-anchor=\"middle\" x=\"710\" y=\"-141.8\" font-family=\"Helvetica,sans-Serif\" font-size=\"14.00\" fill=\"#000000\">Mjob_teacher &lt;= 0.5</text>\n<text text-anchor=\"middle\" x=\"710\" y=\"-126.8\" font-family=\"Helvetica,sans-Serif\" font-size=\"14.00\" fill=\"#000000\">entropy = 0.831</text>\n<text text-anchor=\"middle\" x=\"710\" y=\"-111.8\" font-family=\"Helvetica,sans-Serif\" font-size=\"14.00\" fill=\"#000000\">samples = 38</text>\n<text text-anchor=\"middle\" x=\"710\" y=\"-96.8\" font-family=\"Helvetica,sans-Serif\" font-size=\"14.00\" fill=\"#000000\">value = [28, 10]</text>\n</g>\n<!-- 10&#45;&gt;11 -->\n<g id=\"edge11\" class=\"edge\">\n<title>10&#45;&gt;11</title>\n<path fill=\"none\" stroke=\"#000000\" d=\"M783.3093,-192.9465C773.7109,-183.7884 763.2253,-173.7838 753.2634,-164.2788\"/>\n<polygon fill=\"#000000\" stroke=\"#000000\" points=\"755.4221,-161.5009 745.7709,-157.13 750.5898,-166.5655 755.4221,-161.5009\"/>\n</g>\n<!-- 14 -->\n<g id=\"node15\" class=\"node\">\n<title>14</title>\n<polygon fill=\"none\" stroke=\"#000000\" points=\"943,-157 803,-157 803,-89 943,-89 943,-157\"/>\n<text text-anchor=\"middle\" x=\"873\" y=\"-141.8\" font-family=\"Helvetica,sans-Serif\" font-size=\"14.00\" fill=\"#000000\">famsup_yes &lt;= 0.5</text>\n<text text-anchor=\"middle\" x=\"873\" y=\"-126.8\" font-family=\"Helvetica,sans-Serif\" font-size=\"14.00\" fill=\"#000000\">entropy = 0.998</text>\n<text text-anchor=\"middle\" x=\"873\" y=\"-111.8\" font-family=\"Helvetica,sans-Serif\" font-size=\"14.00\" fill=\"#000000\">samples = 36</text>\n<text text-anchor=\"middle\" x=\"873\" y=\"-96.8\" font-family=\"Helvetica,sans-Serif\" font-size=\"14.00\" fill=\"#000000\">value = [17, 19]</text>\n</g>\n<!-- 10&#45;&gt;14 -->\n<g id=\"edge14\" class=\"edge\">\n<title>10&#45;&gt;14</title>\n<path fill=\"none\" stroke=\"#000000\" d=\"M836.6816,-192.9465C841.1105,-184.4169 845.9206,-175.153 850.5472,-166.2424\"/>\n<polygon fill=\"#000000\" stroke=\"#000000\" points=\"853.7767,-167.6178 855.2787,-157.13 847.5642,-164.3921 853.7767,-167.6178\"/>\n</g>\n<!-- 12 -->\n<g id=\"node13\" class=\"node\">\n<title>12</title>\n<polygon fill=\"none\" stroke=\"#000000\" points=\"660,-53 542,-53 542,0 660,0 660,-53\"/>\n<text text-anchor=\"middle\" x=\"601\" y=\"-37.8\" font-family=\"Helvetica,sans-Serif\" font-size=\"14.00\" fill=\"#000000\">entropy = 0.764</text>\n<text text-anchor=\"middle\" x=\"601\" y=\"-22.8\" font-family=\"Helvetica,sans-Serif\" font-size=\"14.00\" fill=\"#000000\">samples = 36</text>\n<text text-anchor=\"middle\" x=\"601\" y=\"-7.8\" font-family=\"Helvetica,sans-Serif\" font-size=\"14.00\" fill=\"#000000\">value = [28, 8]</text>\n</g>\n<!-- 11&#45;&gt;12 -->\n<g id=\"edge12\" class=\"edge\">\n<title>11&#45;&gt;12</title>\n<path fill=\"none\" stroke=\"#000000\" d=\"M671.5707,-88.9777C660.9173,-79.546 649.3641,-69.3178 638.7499,-59.9208\"/>\n<polygon fill=\"#000000\" stroke=\"#000000\" points=\"641.0207,-57.2566 631.2133,-53.2485 636.3806,-62.4978 641.0207,-57.2566\"/>\n</g>\n<!-- 13 -->\n<g id=\"node14\" class=\"node\">\n<title>13</title>\n<polygon fill=\"none\" stroke=\"#000000\" points=\"779.5,-53 678.5,-53 678.5,0 779.5,0 779.5,-53\"/>\n<text text-anchor=\"middle\" x=\"729\" y=\"-37.8\" font-family=\"Helvetica,sans-Serif\" font-size=\"14.00\" fill=\"#000000\">entropy = 0.0</text>\n<text text-anchor=\"middle\" x=\"729\" y=\"-22.8\" font-family=\"Helvetica,sans-Serif\" font-size=\"14.00\" fill=\"#000000\">samples = 2</text>\n<text text-anchor=\"middle\" x=\"729\" y=\"-7.8\" font-family=\"Helvetica,sans-Serif\" font-size=\"14.00\" fill=\"#000000\">value = [0, 2]</text>\n</g>\n<!-- 11&#45;&gt;13 -->\n<g id=\"edge13\" class=\"edge\">\n<title>11&#45;&gt;13</title>\n<path fill=\"none\" stroke=\"#000000\" d=\"M716.6987,-88.9777C718.3394,-80.6449 720.1024,-71.6903 721.7669,-63.2364\"/>\n<polygon fill=\"#000000\" stroke=\"#000000\" points=\"725.2356,-63.7363 723.7335,-53.2485 718.3675,-62.3839 725.2356,-63.7363\"/>\n</g>\n<!-- 15 -->\n<g id=\"node16\" class=\"node\">\n<title>15</title>\n<polygon fill=\"none\" stroke=\"#000000\" points=\"908,-53 798,-53 798,0 908,0 908,-53\"/>\n<text text-anchor=\"middle\" x=\"853\" y=\"-37.8\" font-family=\"Helvetica,sans-Serif\" font-size=\"14.00\" fill=\"#000000\">entropy = 0.75</text>\n<text text-anchor=\"middle\" x=\"853\" y=\"-22.8\" font-family=\"Helvetica,sans-Serif\" font-size=\"14.00\" fill=\"#000000\">samples = 14</text>\n<text text-anchor=\"middle\" x=\"853\" y=\"-7.8\" font-family=\"Helvetica,sans-Serif\" font-size=\"14.00\" fill=\"#000000\">value = [3, 11]</text>\n</g>\n<!-- 14&#45;&gt;15 -->\n<g id=\"edge15\" class=\"edge\">\n<title>14&#45;&gt;15</title>\n<path fill=\"none\" stroke=\"#000000\" d=\"M865.9487,-88.9777C864.2217,-80.6449 862.3659,-71.6903 860.6138,-63.2364\"/>\n<polygon fill=\"#000000\" stroke=\"#000000\" points=\"864.0004,-62.3301 858.5437,-53.2485 857.146,-63.7507 864.0004,-62.3301\"/>\n</g>\n<!-- 16 -->\n<g id=\"node17\" class=\"node\">\n<title>16</title>\n<polygon fill=\"none\" stroke=\"#000000\" points=\"1044,-53 926,-53 926,0 1044,0 1044,-53\"/>\n<text text-anchor=\"middle\" x=\"985\" y=\"-37.8\" font-family=\"Helvetica,sans-Serif\" font-size=\"14.00\" fill=\"#000000\">entropy = 0.946</text>\n<text text-anchor=\"middle\" x=\"985\" y=\"-22.8\" font-family=\"Helvetica,sans-Serif\" font-size=\"14.00\" fill=\"#000000\">samples = 22</text>\n<text text-anchor=\"middle\" x=\"985\" y=\"-7.8\" font-family=\"Helvetica,sans-Serif\" font-size=\"14.00\" fill=\"#000000\">value = [14, 8]</text>\n</g>\n<!-- 14&#45;&gt;16 -->\n<g id=\"edge16\" class=\"edge\">\n<title>14&#45;&gt;16</title>\n<path fill=\"none\" stroke=\"#000000\" d=\"M912.487,-88.9777C923.4336,-79.546 935.3047,-69.3178 946.2111,-59.9208\"/>\n<polygon fill=\"#000000\" stroke=\"#000000\" points=\"948.6639,-62.4274 953.9551,-53.2485 944.0947,-57.1244 948.6639,-62.4274\"/>\n</g>\n<!-- 18 -->\n<g id=\"node19\" class=\"node\">\n<title>18</title>\n<polygon fill=\"none\" stroke=\"#000000\" points=\"1054.5,-253.5 947.5,-253.5 947.5,-200.5 1054.5,-200.5 1054.5,-253.5\"/>\n<text text-anchor=\"middle\" x=\"1001\" y=\"-238.3\" font-family=\"Helvetica,sans-Serif\" font-size=\"14.00\" fill=\"#000000\">entropy = 0.0</text>\n<text text-anchor=\"middle\" x=\"1001\" y=\"-223.3\" font-family=\"Helvetica,sans-Serif\" font-size=\"14.00\" fill=\"#000000\">samples = 12</text>\n<text text-anchor=\"middle\" x=\"1001\" y=\"-208.3\" font-family=\"Helvetica,sans-Serif\" font-size=\"14.00\" fill=\"#000000\">value = [12, 0]</text>\n</g>\n<!-- 17&#45;&gt;18 -->\n<g id=\"edge18\" class=\"edge\">\n<title>17&#45;&gt;18</title>\n<path fill=\"none\" stroke=\"#000000\" d=\"M1015.1238,-296.9465C1012.9664,-286.2621 1010.5763,-274.4254 1008.3852,-263.5742\"/>\n<polygon fill=\"#000000\" stroke=\"#000000\" points=\"1011.7696,-262.6516 1006.3595,-253.5422 1004.9081,-264.0371 1011.7696,-262.6516\"/>\n</g>\n<!-- 19 -->\n<g id=\"node20\" class=\"node\">\n<title>19</title>\n<polygon fill=\"none\" stroke=\"#000000\" points=\"1191,-261 1073,-261 1073,-193 1191,-193 1191,-261\"/>\n<text text-anchor=\"middle\" x=\"1132\" y=\"-245.8\" font-family=\"Helvetica,sans-Serif\" font-size=\"14.00\" fill=\"#000000\">Fedu &lt;= 2.5</text>\n<text text-anchor=\"middle\" x=\"1132\" y=\"-230.8\" font-family=\"Helvetica,sans-Serif\" font-size=\"14.00\" fill=\"#000000\">entropy = 0.567</text>\n<text text-anchor=\"middle\" x=\"1132\" y=\"-215.8\" font-family=\"Helvetica,sans-Serif\" font-size=\"14.00\" fill=\"#000000\">samples = 15</text>\n<text text-anchor=\"middle\" x=\"1132\" y=\"-200.8\" font-family=\"Helvetica,sans-Serif\" font-size=\"14.00\" fill=\"#000000\">value = [13, 2]</text>\n</g>\n<!-- 17&#45;&gt;19 -->\n<g id=\"edge19\" class=\"edge\">\n<title>17&#45;&gt;19</title>\n<path fill=\"none\" stroke=\"#000000\" d=\"M1058.0181,-296.9465C1067.7046,-287.7884 1078.2864,-277.7838 1088.3397,-268.2788\"/>\n<polygon fill=\"#000000\" stroke=\"#000000\" points=\"1091.039,-270.5434 1095.901,-261.13 1086.2299,-265.4569 1091.039,-270.5434\"/>\n</g>\n<!-- 20 -->\n<g id=\"node21\" class=\"node\">\n<title>20</title>\n<polygon fill=\"none\" stroke=\"#000000\" points=\"1188,-157 1054,-157 1054,-89 1188,-89 1188,-157\"/>\n<text text-anchor=\"middle\" x=\"1121\" y=\"-141.8\" font-family=\"Helvetica,sans-Serif\" font-size=\"14.00\" fill=\"#000000\">nursery_no &lt;= 0.5</text>\n<text text-anchor=\"middle\" x=\"1121\" y=\"-126.8\" font-family=\"Helvetica,sans-Serif\" font-size=\"14.00\" fill=\"#000000\">entropy = 0.371</text>\n<text text-anchor=\"middle\" x=\"1121\" y=\"-111.8\" font-family=\"Helvetica,sans-Serif\" font-size=\"14.00\" fill=\"#000000\">samples = 14</text>\n<text text-anchor=\"middle\" x=\"1121\" y=\"-96.8\" font-family=\"Helvetica,sans-Serif\" font-size=\"14.00\" fill=\"#000000\">value = [13, 1]</text>\n</g>\n<!-- 19&#45;&gt;20 -->\n<g id=\"edge20\" class=\"edge\">\n<title>19&#45;&gt;20</title>\n<path fill=\"none\" stroke=\"#000000\" d=\"M1128.3982,-192.9465C1127.5245,-184.6863 1126.578,-175.7374 1125.6631,-167.0875\"/>\n<polygon fill=\"#000000\" stroke=\"#000000\" points=\"1129.1424,-166.7064 1124.6099,-157.13 1122.1812,-167.4427 1129.1424,-166.7064\"/>\n</g>\n<!-- 23 -->\n<g id=\"node24\" class=\"node\">\n<title>23</title>\n<polygon fill=\"none\" stroke=\"#000000\" points=\"1307.5,-149.5 1206.5,-149.5 1206.5,-96.5 1307.5,-96.5 1307.5,-149.5\"/>\n<text text-anchor=\"middle\" x=\"1257\" y=\"-134.3\" font-family=\"Helvetica,sans-Serif\" font-size=\"14.00\" fill=\"#000000\">entropy = 0.0</text>\n<text text-anchor=\"middle\" x=\"1257\" y=\"-119.3\" font-family=\"Helvetica,sans-Serif\" font-size=\"14.00\" fill=\"#000000\">samples = 1</text>\n<text text-anchor=\"middle\" x=\"1257\" y=\"-104.3\" font-family=\"Helvetica,sans-Serif\" font-size=\"14.00\" fill=\"#000000\">value = [0, 1]</text>\n</g>\n<!-- 19&#45;&gt;23 -->\n<g id=\"edge23\" class=\"edge\">\n<title>19&#45;&gt;23</title>\n<path fill=\"none\" stroke=\"#000000\" d=\"M1172.9297,-192.9465C1187.0955,-181.1606 1202.9463,-167.9726 1217.0338,-156.2519\"/>\n<polygon fill=\"#000000\" stroke=\"#000000\" points=\"1219.6496,-158.6285 1225.0984,-149.5422 1215.1725,-153.2474 1219.6496,-158.6285\"/>\n</g>\n<!-- 21 -->\n<g id=\"node22\" class=\"node\">\n<title>21</title>\n<polygon fill=\"none\" stroke=\"#000000\" points=\"1169.5,-53 1062.5,-53 1062.5,0 1169.5,0 1169.5,-53\"/>\n<text text-anchor=\"middle\" x=\"1116\" y=\"-37.8\" font-family=\"Helvetica,sans-Serif\" font-size=\"14.00\" fill=\"#000000\">entropy = 0.0</text>\n<text text-anchor=\"middle\" x=\"1116\" y=\"-22.8\" font-family=\"Helvetica,sans-Serif\" font-size=\"14.00\" fill=\"#000000\">samples = 11</text>\n<text text-anchor=\"middle\" x=\"1116\" y=\"-7.8\" font-family=\"Helvetica,sans-Serif\" font-size=\"14.00\" fill=\"#000000\">value = [11, 0]</text>\n</g>\n<!-- 20&#45;&gt;21 -->\n<g id=\"edge21\" class=\"edge\">\n<title>20&#45;&gt;21</title>\n<path fill=\"none\" stroke=\"#000000\" d=\"M1119.2372,-88.9777C1118.8054,-80.6449 1118.3415,-71.6903 1117.9034,-63.2364\"/>\n<polygon fill=\"#000000\" stroke=\"#000000\" points=\"1121.3988,-63.0539 1117.3859,-53.2485 1114.4082,-63.4162 1121.3988,-63.0539\"/>\n</g>\n<!-- 22 -->\n<g id=\"node23\" class=\"node\">\n<title>22</title>\n<polygon fill=\"none\" stroke=\"#000000\" points=\"1306,-53 1188,-53 1188,0 1306,0 1306,-53\"/>\n<text text-anchor=\"middle\" x=\"1247\" y=\"-37.8\" font-family=\"Helvetica,sans-Serif\" font-size=\"14.00\" fill=\"#000000\">entropy = 0.918</text>\n<text text-anchor=\"middle\" x=\"1247\" y=\"-22.8\" font-family=\"Helvetica,sans-Serif\" font-size=\"14.00\" fill=\"#000000\">samples = 3</text>\n<text text-anchor=\"middle\" x=\"1247\" y=\"-7.8\" font-family=\"Helvetica,sans-Serif\" font-size=\"14.00\" fill=\"#000000\">value = [2, 1]</text>\n</g>\n<!-- 20&#45;&gt;22 -->\n<g id=\"edge22\" class=\"edge\">\n<title>20&#45;&gt;22</title>\n<path fill=\"none\" stroke=\"#000000\" d=\"M1165.4229,-88.9777C1177.977,-79.3629 1191.6119,-68.9203 1204.076,-59.3743\"/>\n<polygon fill=\"#000000\" stroke=\"#000000\" points=\"1206.2635,-62.1076 1212.0745,-53.2485 1202.0073,-56.5502 1206.2635,-62.1076\"/>\n</g>\n<!-- 25 -->\n<g id=\"node26\" class=\"node\">\n<title>25</title>\n<polygon fill=\"none\" stroke=\"#000000\" points=\"1250.5,-357.5 1143.5,-357.5 1143.5,-304.5 1250.5,-304.5 1250.5,-357.5\"/>\n<text text-anchor=\"middle\" x=\"1197\" y=\"-342.3\" font-family=\"Helvetica,sans-Serif\" font-size=\"14.00\" fill=\"#000000\">entropy = 0.0</text>\n<text text-anchor=\"middle\" x=\"1197\" y=\"-327.3\" font-family=\"Helvetica,sans-Serif\" font-size=\"14.00\" fill=\"#000000\">samples = 31</text>\n<text text-anchor=\"middle\" x=\"1197\" y=\"-312.3\" font-family=\"Helvetica,sans-Serif\" font-size=\"14.00\" fill=\"#000000\">value = [31, 0]</text>\n</g>\n<!-- 24&#45;&gt;25 -->\n<g id=\"edge25\" class=\"edge\">\n<title>24&#45;&gt;25</title>\n<path fill=\"none\" stroke=\"#000000\" d=\"M1197,-400.9465C1197,-390.2621 1197,-378.4254 1197,-367.5742\"/>\n<polygon fill=\"#000000\" stroke=\"#000000\" points=\"1200.5001,-367.5421 1197,-357.5422 1193.5001,-367.5422 1200.5001,-367.5421\"/>\n</g>\n<!-- 26 -->\n<g id=\"node27\" class=\"node\">\n<title>26</title>\n<polygon fill=\"none\" stroke=\"#000000\" points=\"1506,-365 1354,-365 1354,-297 1506,-297 1506,-365\"/>\n<text text-anchor=\"middle\" x=\"1430\" y=\"-349.8\" font-family=\"Helvetica,sans-Serif\" font-size=\"14.00\" fill=\"#000000\">Fjob_services &lt;= 0.5</text>\n<text text-anchor=\"middle\" x=\"1430\" y=\"-334.8\" font-family=\"Helvetica,sans-Serif\" font-size=\"14.00\" fill=\"#000000\">entropy = 0.57</text>\n<text text-anchor=\"middle\" x=\"1430\" y=\"-319.8\" font-family=\"Helvetica,sans-Serif\" font-size=\"14.00\" fill=\"#000000\">samples = 52</text>\n<text text-anchor=\"middle\" x=\"1430\" y=\"-304.8\" font-family=\"Helvetica,sans-Serif\" font-size=\"14.00\" fill=\"#000000\">value = [45, 7]</text>\n</g>\n<!-- 24&#45;&gt;26 -->\n<g id=\"edge26\" class=\"edge\">\n<title>24&#45;&gt;26</title>\n<path fill=\"none\" stroke=\"#000000\" d=\"M1263.7684,-405.1978C1288.9094,-393.976 1317.8544,-381.0564 1344.4731,-369.1751\"/>\n<polygon fill=\"#000000\" stroke=\"#000000\" points=\"1346.0764,-372.2924 1353.7814,-365.0203 1343.2232,-365.9002 1346.0764,-372.2924\"/>\n</g>\n<!-- 27 -->\n<g id=\"node28\" class=\"node\">\n<title>27</title>\n<polygon fill=\"none\" stroke=\"#000000\" points=\"1495.5,-261 1364.5,-261 1364.5,-193 1495.5,-193 1495.5,-261\"/>\n<text text-anchor=\"middle\" x=\"1430\" y=\"-245.8\" font-family=\"Helvetica,sans-Serif\" font-size=\"14.00\" fill=\"#000000\">Fjob_other &lt;= 0.5</text>\n<text text-anchor=\"middle\" x=\"1430\" y=\"-230.8\" font-family=\"Helvetica,sans-Serif\" font-size=\"14.00\" fill=\"#000000\">entropy = 0.722</text>\n<text text-anchor=\"middle\" x=\"1430\" y=\"-215.8\" font-family=\"Helvetica,sans-Serif\" font-size=\"14.00\" fill=\"#000000\">samples = 35</text>\n<text text-anchor=\"middle\" x=\"1430\" y=\"-200.8\" font-family=\"Helvetica,sans-Serif\" font-size=\"14.00\" fill=\"#000000\">value = [28, 7]</text>\n</g>\n<!-- 26&#45;&gt;27 -->\n<g id=\"edge27\" class=\"edge\">\n<title>26&#45;&gt;27</title>\n<path fill=\"none\" stroke=\"#000000\" d=\"M1430,-296.9465C1430,-288.776 1430,-279.9318 1430,-271.3697\"/>\n<polygon fill=\"#000000\" stroke=\"#000000\" points=\"1433.5001,-271.13 1430,-261.13 1426.5001,-271.13 1433.5001,-271.13\"/>\n</g>\n<!-- 34 -->\n<g id=\"node35\" class=\"node\">\n<title>34</title>\n<polygon fill=\"none\" stroke=\"#000000\" points=\"1620.5,-253.5 1513.5,-253.5 1513.5,-200.5 1620.5,-200.5 1620.5,-253.5\"/>\n<text text-anchor=\"middle\" x=\"1567\" y=\"-238.3\" font-family=\"Helvetica,sans-Serif\" font-size=\"14.00\" fill=\"#000000\">entropy = 0.0</text>\n<text text-anchor=\"middle\" x=\"1567\" y=\"-223.3\" font-family=\"Helvetica,sans-Serif\" font-size=\"14.00\" fill=\"#000000\">samples = 17</text>\n<text text-anchor=\"middle\" x=\"1567\" y=\"-208.3\" font-family=\"Helvetica,sans-Serif\" font-size=\"14.00\" fill=\"#000000\">value = [17, 0]</text>\n</g>\n<!-- 26&#45;&gt;34 -->\n<g id=\"edge34\" class=\"edge\">\n<title>26&#45;&gt;34</title>\n<path fill=\"none\" stroke=\"#000000\" d=\"M1474.8589,-296.9465C1490.6748,-284.9403 1508.4073,-271.4791 1524.0607,-259.5962\"/>\n<polygon fill=\"#000000\" stroke=\"#000000\" points=\"1526.1871,-262.3764 1532.0358,-253.5422 1521.9545,-256.8009 1526.1871,-262.3764\"/>\n</g>\n<!-- 28 -->\n<g id=\"node29\" class=\"node\">\n<title>28</title>\n<polygon fill=\"none\" stroke=\"#000000\" points=\"1489,-157 1371,-157 1371,-89 1489,-89 1489,-157\"/>\n<text text-anchor=\"middle\" x=\"1430\" y=\"-141.8\" font-family=\"Helvetica,sans-Serif\" font-size=\"14.00\" fill=\"#000000\">health &lt;= 4.5</text>\n<text text-anchor=\"middle\" x=\"1430\" y=\"-126.8\" font-family=\"Helvetica,sans-Serif\" font-size=\"14.00\" fill=\"#000000\">entropy = 0.918</text>\n<text text-anchor=\"middle\" x=\"1430\" y=\"-111.8\" font-family=\"Helvetica,sans-Serif\" font-size=\"14.00\" fill=\"#000000\">samples = 6</text>\n<text text-anchor=\"middle\" x=\"1430\" y=\"-96.8\" font-family=\"Helvetica,sans-Serif\" font-size=\"14.00\" fill=\"#000000\">value = [2, 4]</text>\n</g>\n<!-- 27&#45;&gt;28 -->\n<g id=\"edge28\" class=\"edge\">\n<title>27&#45;&gt;28</title>\n<path fill=\"none\" stroke=\"#000000\" d=\"M1430,-192.9465C1430,-184.776 1430,-175.9318 1430,-167.3697\"/>\n<polygon fill=\"#000000\" stroke=\"#000000\" points=\"1433.5001,-167.13 1430,-157.13 1426.5001,-167.13 1433.5001,-167.13\"/>\n</g>\n<!-- 31 -->\n<g id=\"node32\" class=\"node\">\n<title>31</title>\n<polygon fill=\"none\" stroke=\"#000000\" points=\"1683,-157 1549,-157 1549,-89 1683,-89 1683,-157\"/>\n<text text-anchor=\"middle\" x=\"1616\" y=\"-141.8\" font-family=\"Helvetica,sans-Serif\" font-size=\"14.00\" fill=\"#000000\">internet_no &lt;= 0.5</text>\n<text text-anchor=\"middle\" x=\"1616\" y=\"-126.8\" font-family=\"Helvetica,sans-Serif\" font-size=\"14.00\" fill=\"#000000\">entropy = 0.48</text>\n<text text-anchor=\"middle\" x=\"1616\" y=\"-111.8\" font-family=\"Helvetica,sans-Serif\" font-size=\"14.00\" fill=\"#000000\">samples = 29</text>\n<text text-anchor=\"middle\" x=\"1616\" y=\"-96.8\" font-family=\"Helvetica,sans-Serif\" font-size=\"14.00\" fill=\"#000000\">value = [26, 3]</text>\n</g>\n<!-- 27&#45;&gt;31 -->\n<g id=\"edge31\" class=\"edge\">\n<title>27&#45;&gt;31</title>\n<path fill=\"none\" stroke=\"#000000\" d=\"M1490.9034,-192.9465C1508.5669,-183.0701 1527.9911,-172.2093 1546.1566,-162.0522\"/>\n<polygon fill=\"#000000\" stroke=\"#000000\" points=\"1547.9397,-165.0653 1554.9598,-157.13 1544.5234,-158.9555 1547.9397,-165.0653\"/>\n</g>\n<!-- 29 -->\n<g id=\"node30\" class=\"node\">\n<title>29</title>\n<polygon fill=\"none\" stroke=\"#000000\" points=\"1425.5,-53 1324.5,-53 1324.5,0 1425.5,0 1425.5,-53\"/>\n<text text-anchor=\"middle\" x=\"1375\" y=\"-37.8\" font-family=\"Helvetica,sans-Serif\" font-size=\"14.00\" fill=\"#000000\">entropy = 0.0</text>\n<text text-anchor=\"middle\" x=\"1375\" y=\"-22.8\" font-family=\"Helvetica,sans-Serif\" font-size=\"14.00\" fill=\"#000000\">samples = 4</text>\n<text text-anchor=\"middle\" x=\"1375\" y=\"-7.8\" font-family=\"Helvetica,sans-Serif\" font-size=\"14.00\" fill=\"#000000\">value = [0, 4]</text>\n</g>\n<!-- 28&#45;&gt;29 -->\n<g id=\"edge29\" class=\"edge\">\n<title>28&#45;&gt;29</title>\n<path fill=\"none\" stroke=\"#000000\" d=\"M1410.6091,-88.9777C1405.651,-80.2786 1400.3067,-70.9018 1395.3042,-62.1247\"/>\n<polygon fill=\"#000000\" stroke=\"#000000\" points=\"1398.2378,-60.2033 1390.2452,-53.2485 1392.1562,-63.6696 1398.2378,-60.2033\"/>\n</g>\n<!-- 30 -->\n<g id=\"node31\" class=\"node\">\n<title>30</title>\n<polygon fill=\"none\" stroke=\"#000000\" points=\"1544.5,-53 1443.5,-53 1443.5,0 1544.5,0 1544.5,-53\"/>\n<text text-anchor=\"middle\" x=\"1494\" y=\"-37.8\" font-family=\"Helvetica,sans-Serif\" font-size=\"14.00\" fill=\"#000000\">entropy = 0.0</text>\n<text text-anchor=\"middle\" x=\"1494\" y=\"-22.8\" font-family=\"Helvetica,sans-Serif\" font-size=\"14.00\" fill=\"#000000\">samples = 2</text>\n<text text-anchor=\"middle\" x=\"1494\" y=\"-7.8\" font-family=\"Helvetica,sans-Serif\" font-size=\"14.00\" fill=\"#000000\">value = [2, 0]</text>\n</g>\n<!-- 28&#45;&gt;30 -->\n<g id=\"edge30\" class=\"edge\">\n<title>28&#45;&gt;30</title>\n<path fill=\"none\" stroke=\"#000000\" d=\"M1452.564,-88.9777C1458.3941,-80.187 1464.6831,-70.7044 1470.557,-61.8477\"/>\n<polygon fill=\"#000000\" stroke=\"#000000\" points=\"1473.6498,-63.5167 1476.2601,-53.2485 1467.8162,-59.6478 1473.6498,-63.5167\"/>\n</g>\n<!-- 32 -->\n<g id=\"node33\" class=\"node\">\n<title>32</title>\n<polygon fill=\"none\" stroke=\"#000000\" points=\"1669.5,-53 1562.5,-53 1562.5,0 1669.5,0 1669.5,-53\"/>\n<text text-anchor=\"middle\" x=\"1616\" y=\"-37.8\" font-family=\"Helvetica,sans-Serif\" font-size=\"14.00\" fill=\"#000000\">entropy = 0.0</text>\n<text text-anchor=\"middle\" x=\"1616\" y=\"-22.8\" font-family=\"Helvetica,sans-Serif\" font-size=\"14.00\" fill=\"#000000\">samples = 18</text>\n<text text-anchor=\"middle\" x=\"1616\" y=\"-7.8\" font-family=\"Helvetica,sans-Serif\" font-size=\"14.00\" fill=\"#000000\">value = [18, 0]</text>\n</g>\n<!-- 31&#45;&gt;32 -->\n<g id=\"edge32\" class=\"edge\">\n<title>31&#45;&gt;32</title>\n<path fill=\"none\" stroke=\"#000000\" d=\"M1616,-88.9777C1616,-80.7364 1616,-71.887 1616,-63.5153\"/>\n<polygon fill=\"#000000\" stroke=\"#000000\" points=\"1619.5001,-63.2484 1616,-53.2485 1612.5001,-63.2485 1619.5001,-63.2484\"/>\n</g>\n<!-- 33 -->\n<g id=\"node34\" class=\"node\">\n<title>33</title>\n<polygon fill=\"none\" stroke=\"#000000\" points=\"1806,-53 1688,-53 1688,0 1806,0 1806,-53\"/>\n<text text-anchor=\"middle\" x=\"1747\" y=\"-37.8\" font-family=\"Helvetica,sans-Serif\" font-size=\"14.00\" fill=\"#000000\">entropy = 0.845</text>\n<text text-anchor=\"middle\" x=\"1747\" y=\"-22.8\" font-family=\"Helvetica,sans-Serif\" font-size=\"14.00\" fill=\"#000000\">samples = 11</text>\n<text text-anchor=\"middle\" x=\"1747\" y=\"-7.8\" font-family=\"Helvetica,sans-Serif\" font-size=\"14.00\" fill=\"#000000\">value = [8, 3]</text>\n</g>\n<!-- 31&#45;&gt;33 -->\n<g id=\"edge33\" class=\"edge\">\n<title>31&#45;&gt;33</title>\n<path fill=\"none\" stroke=\"#000000\" d=\"M1662.1857,-88.9777C1675.2379,-79.3629 1689.4139,-68.9203 1702.3727,-59.3743\"/>\n<polygon fill=\"#000000\" stroke=\"#000000\" points=\"1704.7131,-61.9974 1710.6886,-53.2485 1700.5614,-56.3615 1704.7131,-61.9974\"/>\n</g>\n</g>\n</svg>\n"
          },
          "metadata": {},
          "execution_count": 107
        }
      ]
    },
    {
      "cell_type": "code",
      "source": [
        "# Accuracy score of training and testing samples\n",
        "from sklearn.metrics import accuracy_score, recall_score, precision_score, confusion_matrix\n",
        "\n",
        "print(f'Training accuracy score: {clf_austin.score(X_train_austin_transformed, y_train_austin)}')\n",
        "print(f'Testing accuracy score: {clf_austin.score(X_test_austin_transformed, y_test_austin)}')\n",
        "\n",
        "print('\\nOn TEST data:\\n')\n",
        "y_test_pred = clf_austin.predict(X_test_austin_transformed)\n",
        "print('Accuracy score: ', accuracy_score(y_test_austin, y_test_pred))\n",
        "print('Recall: ', recall_score(y_test_austin, y_test_pred))\n",
        "print('Precision: ', precision_score(y_test_austin, y_test_pred))\n",
        "print('Confusion matrix:\\n', confusion_matrix(y_test_austin, y_test_pred))"
      ],
      "metadata": {
        "colab": {
          "base_uri": "https://localhost:8080/"
        },
        "id": "Kx6X-zAsA74S",
        "outputId": "10943d91-a4af-4ac2-8ec5-55628e757306"
      },
      "execution_count": 108,
      "outputs": [
        {
          "output_type": "stream",
          "name": "stdout",
          "text": [
            "Training accuracy score: 0.7610789980732178\n",
            "Testing accuracy score: 0.7307692307692307\n",
            "\n",
            "On TEST data:\n",
            "\n",
            "Accuracy score:  0.7307692307692307\n",
            "Recall:  0.8382352941176471\n",
            "Precision:  0.7037037037037037\n",
            "Confusion matrix:\n",
            " [[38 24]\n",
            " [11 57]]\n"
          ]
        }
      ]
    },
    {
      "cell_type": "markdown",
      "source": [
        "We find that accuracy is 76.1% on the training set and 72.3% on the testing set."
      ],
      "metadata": {
        "id": "OmlqiJSeBynv"
      }
    },
    {
      "cell_type": "markdown",
      "source": [
        "**Fine Tuning**"
      ],
      "metadata": {
        "id": "et6lM57zpCeg"
      }
    },
    {
      "cell_type": "code",
      "source": [
        "from sklearn.model_selection import RandomizedSearchCV\n",
        "from scipy.stats import randint\n",
        "\n",
        "parameters = {\n",
        "    'dt_classifier__min_samples_split' : range(10,300,20),\n",
        "    'dt_classifier__max_depth': range(1,30,2),\n",
        "    'dt_classifier__min_samples_leaf':range(1,15,3)\n",
        "}\n",
        "\n",
        "rnd_search = RandomizedSearchCV(pipeline_austin, param_distributions=parameters, scoring='accuracy', cv=5, n_iter=7, refit=True, verbose=3)\n",
        "# print(type(X_train_austin), type(y_train_austin))\n",
        "rnd_search.fit(X_train_austin, y_train_austin)\n",
        "best_model = rnd_search.best_estimator_\n",
        "print(f'Best parameters: {rnd_search.best_params_}')\n",
        "print(f'Score: {rnd_search.best_score_}')\n",
        "print(f'Best estimator: {best_model}')"
      ],
      "metadata": {
        "id": "EP3d110uB8n5",
        "colab": {
          "base_uri": "https://localhost:8080/"
        },
        "outputId": "452ed20a-a343-4494-c3e7-a6971c014b42"
      },
      "execution_count": 109,
      "outputs": [
        {
          "output_type": "stream",
          "name": "stdout",
          "text": [
            "Fitting 5 folds for each of 7 candidates, totalling 35 fits\n",
            "[CV 1/5] END dt_classifier__max_depth=19, dt_classifier__min_samples_leaf=4, dt_classifier__min_samples_split=130;, score=0.615 total time=   0.0s\n",
            "[CV 2/5] END dt_classifier__max_depth=19, dt_classifier__min_samples_leaf=4, dt_classifier__min_samples_split=130;, score=0.683 total time=   0.0s\n",
            "[CV 3/5] END dt_classifier__max_depth=19, dt_classifier__min_samples_leaf=4, dt_classifier__min_samples_split=130;, score=0.635 total time=   0.0s\n",
            "[CV 4/5] END dt_classifier__max_depth=19, dt_classifier__min_samples_leaf=4, dt_classifier__min_samples_split=130;, score=0.712 total time=   0.0s\n",
            "[CV 5/5] END dt_classifier__max_depth=19, dt_classifier__min_samples_leaf=4, dt_classifier__min_samples_split=130;, score=0.689 total time=   0.0s\n",
            "[CV 1/5] END dt_classifier__max_depth=3, dt_classifier__min_samples_leaf=10, dt_classifier__min_samples_split=250;, score=0.663 total time=   0.0s\n",
            "[CV 2/5] END dt_classifier__max_depth=3, dt_classifier__min_samples_leaf=10, dt_classifier__min_samples_split=250;, score=0.663 total time=   0.0s\n",
            "[CV 3/5] END dt_classifier__max_depth=3, dt_classifier__min_samples_leaf=10, dt_classifier__min_samples_split=250;, score=0.683 total time=   0.0s\n",
            "[CV 4/5] END dt_classifier__max_depth=3, dt_classifier__min_samples_leaf=10, dt_classifier__min_samples_split=250;, score=0.731 total time=   0.0s\n",
            "[CV 5/5] END dt_classifier__max_depth=3, dt_classifier__min_samples_leaf=10, dt_classifier__min_samples_split=250;, score=0.728 total time=   0.0s\n",
            "[CV 1/5] END dt_classifier__max_depth=7, dt_classifier__min_samples_leaf=13, dt_classifier__min_samples_split=290;, score=0.663 total time=   0.0s\n",
            "[CV 2/5] END dt_classifier__max_depth=7, dt_classifier__min_samples_leaf=13, dt_classifier__min_samples_split=290;, score=0.663 total time=   0.0s\n",
            "[CV 3/5] END dt_classifier__max_depth=7, dt_classifier__min_samples_leaf=13, dt_classifier__min_samples_split=290;, score=0.683 total time=   0.0s\n",
            "[CV 4/5] END dt_classifier__max_depth=7, dt_classifier__min_samples_leaf=13, dt_classifier__min_samples_split=290;, score=0.731 total time=   0.0s\n",
            "[CV 5/5] END dt_classifier__max_depth=7, dt_classifier__min_samples_leaf=13, dt_classifier__min_samples_split=290;, score=0.728 total time=   0.0s\n",
            "[CV 1/5] END dt_classifier__max_depth=29, dt_classifier__min_samples_leaf=1, dt_classifier__min_samples_split=10;, score=0.567 total time=   0.0s\n",
            "[CV 2/5] END dt_classifier__max_depth=29, dt_classifier__min_samples_leaf=1, dt_classifier__min_samples_split=10;, score=0.635 total time=   0.0s\n",
            "[CV 3/5] END dt_classifier__max_depth=29, dt_classifier__min_samples_leaf=1, dt_classifier__min_samples_split=10;, score=0.596 total time=   0.0s\n",
            "[CV 4/5] END dt_classifier__max_depth=29, dt_classifier__min_samples_leaf=1, dt_classifier__min_samples_split=10;, score=0.596 total time=   0.0s\n",
            "[CV 5/5] END dt_classifier__max_depth=29, dt_classifier__min_samples_leaf=1, dt_classifier__min_samples_split=10;, score=0.650 total time=   0.0s\n",
            "[CV 1/5] END dt_classifier__max_depth=29, dt_classifier__min_samples_leaf=13, dt_classifier__min_samples_split=250;, score=0.663 total time=   0.0s\n",
            "[CV 2/5] END dt_classifier__max_depth=29, dt_classifier__min_samples_leaf=13, dt_classifier__min_samples_split=250;, score=0.663 total time=   0.0s\n",
            "[CV 3/5] END dt_classifier__max_depth=29, dt_classifier__min_samples_leaf=13, dt_classifier__min_samples_split=250;, score=0.644 total time=   0.0s\n",
            "[CV 4/5] END dt_classifier__max_depth=29, dt_classifier__min_samples_leaf=13, dt_classifier__min_samples_split=250;, score=0.731 total time=   0.0s\n",
            "[CV 5/5] END dt_classifier__max_depth=29, dt_classifier__min_samples_leaf=13, dt_classifier__min_samples_split=250;, score=0.709 total time=   0.0s\n",
            "[CV 1/5] END dt_classifier__max_depth=11, dt_classifier__min_samples_leaf=4, dt_classifier__min_samples_split=30;, score=0.683 total time=   0.0s\n",
            "[CV 2/5] END dt_classifier__max_depth=11, dt_classifier__min_samples_leaf=4, dt_classifier__min_samples_split=30;, score=0.635 total time=   0.0s\n",
            "[CV 3/5] END dt_classifier__max_depth=11, dt_classifier__min_samples_leaf=4, dt_classifier__min_samples_split=30;, score=0.615 total time=   0.0s\n",
            "[CV 4/5] END dt_classifier__max_depth=11, dt_classifier__min_samples_leaf=4, dt_classifier__min_samples_split=30;, score=0.721 total time=   0.0s\n",
            "[CV 5/5] END dt_classifier__max_depth=11, dt_classifier__min_samples_leaf=4, dt_classifier__min_samples_split=30;, score=0.670 total time=   0.0s\n",
            "[CV 1/5] END dt_classifier__max_depth=23, dt_classifier__min_samples_leaf=4, dt_classifier__min_samples_split=50;, score=0.683 total time=   0.0s\n",
            "[CV 2/5] END dt_classifier__max_depth=23, dt_classifier__min_samples_leaf=4, dt_classifier__min_samples_split=50;, score=0.644 total time=   0.0s\n",
            "[CV 3/5] END dt_classifier__max_depth=23, dt_classifier__min_samples_leaf=4, dt_classifier__min_samples_split=50;, score=0.654 total time=   0.0s\n",
            "[CV 4/5] END dt_classifier__max_depth=23, dt_classifier__min_samples_leaf=4, dt_classifier__min_samples_split=50;, score=0.712 total time=   0.0s\n",
            "[CV 5/5] END dt_classifier__max_depth=23, dt_classifier__min_samples_leaf=4, dt_classifier__min_samples_split=50;, score=0.680 total time=   0.0s\n",
            "Best parameters: {'dt_classifier__min_samples_split': 250, 'dt_classifier__min_samples_leaf': 10, 'dt_classifier__max_depth': 3}\n",
            "Score: 0.6937079910380881\n",
            "Best estimator: Pipeline(steps=[('ohe_transformer',\n",
            "                 ColumnTransformer(remainder='passthrough',\n",
            "                                   transformers=[('ohe', OneHotEncoder(),\n",
            "                                                  ['school', 'sex', 'address',\n",
            "                                                   'famsize', 'Pstatus', 'Mjob',\n",
            "                                                   'Fjob', 'reason', 'guardian',\n",
            "                                                   'schoolsup', 'famsup',\n",
            "                                                   'paid', 'activities',\n",
            "                                                   'nursery', 'higher',\n",
            "                                                   'internet', 'romantic'])],\n",
            "                                   verbose_feature_names_out=False)),\n",
            "                ('dt_classifier',\n",
            "                 DecisionTreeClassifier(criterion='entropy', max_depth=3,\n",
            "                                        min_samples_leaf=10,\n",
            "                                        min_samples_split=250))])\n"
          ]
        }
      ]
    },
    {
      "cell_type": "code",
      "source": [
        "y_test_pred = best_model.predict(X_test_austin)\n",
        "print('Accuracy score: ', accuracy_score(y_test_austin, y_test_pred))\n",
        "print('Recall: ', recall_score(y_test_austin, y_test_pred))\n",
        "print('Precision: ', precision_score(y_test_austin, y_test_pred))\n",
        "print('Confusion matrix:\\n', confusion_matrix(y_test_austin, y_test_pred))"
      ],
      "metadata": {
        "colab": {
          "base_uri": "https://localhost:8080/"
        },
        "id": "c9LNOsJ6uzuJ",
        "outputId": "c602be88-8f00-404b-99f6-b1b88b698e5e"
      },
      "execution_count": 110,
      "outputs": [
        {
          "output_type": "stream",
          "name": "stdout",
          "text": [
            "Accuracy score:  0.7384615384615385\n",
            "Recall:  0.8529411764705882\n",
            "Precision:  0.7073170731707317\n",
            "Confusion matrix:\n",
            " [[38 24]\n",
            " [10 58]]\n"
          ]
        }
      ]
    },
    {
      "cell_type": "markdown",
      "source": [
        "Saving the model"
      ],
      "metadata": {
        "id": "QQthTLQ9x1Cq"
      }
    },
    {
      "cell_type": "code",
      "source": [
        "import joblib\n",
        "\n",
        "joblib.dump(best_model, \"model.pkl\")\n",
        "joblib.dump(pipeline_austin, \"full_pipeline.pkl\")"
      ],
      "metadata": {
        "colab": {
          "base_uri": "https://localhost:8080/"
        },
        "id": "acXgBZ4Dx2sD",
        "outputId": "7d3a10f4-f8d2-4e01-98ee-20708e8de6a6"
      },
      "execution_count": 111,
      "outputs": [
        {
          "output_type": "execute_result",
          "data": {
            "text/plain": [
              "['full_pipeline.pkl']"
            ]
          },
          "metadata": {},
          "execution_count": 111
        }
      ]
    }
  ]
}